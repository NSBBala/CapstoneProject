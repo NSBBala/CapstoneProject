{
  "cells": [
    {
      "cell_type": "markdown",
      "source": [
        "Machine Learning Foundation \n",
        "\n",
        "Dialog Data Science Academy \n",
        "\n",
        "Capstone Project \n",
        "\n",
        "Niroshan Balasuriya"
      ],
      "metadata": {
        "id": "kBlt0ynd7A2N"
      }
    },
    {
      "cell_type": "markdown",
      "metadata": {
        "id": "QZgS9opn2WcR"
      },
      "source": [
        "# Loading Libraries \n"
      ]
    },
    {
      "cell_type": "code",
      "execution_count": 18,
      "metadata": {
        "id": "I4k4LYyK2Wcc"
      },
      "outputs": [],
      "source": [
        "import numpy as np\n",
        "import pandas as pd\n",
        "\n",
        "from matplotlib import pyplot\n",
        "import seaborn as sns\n",
        "\n",
        "import numpy as np\n",
        "import pandas as pd\n",
        "\n",
        "# Data visualization\n",
        "import matplotlib.pyplot as plt\n",
        "from matplotlib import cm # Colomaps\n",
        "import seaborn as sns\n",
        "\n",
        "# Classifier algorithms\n",
        "from sklearn.linear_model import LogisticRegression\n",
        "from sklearn.tree import DecisionTreeClassifier\n",
        "from sklearn.ensemble import RandomForestClassifier\n",
        "\n",
        "#train test split\n",
        "from sklearn.model_selection import train_test_split\n",
        "\n",
        "# Model evaluation\n",
        "from sklearn import metrics"
      ]
    },
    {
      "cell_type": "markdown",
      "source": [
        "# Mount Google Drive for Testing Purpose"
      ],
      "metadata": {
        "id": "rfC3IYZjD3ZQ"
      }
    },
    {
      "cell_type": "code",
      "source": [
        "from google.colab import drive\n",
        "drive.mount('/content/drive')"
      ],
      "metadata": {
        "colab": {
          "base_uri": "https://localhost:8080/"
        },
        "id": "VOFGGZYOD1Fz",
        "outputId": "c812ed94-584d-43fb-d720-42176e17c095"
      },
      "execution_count": 19,
      "outputs": [
        {
          "output_type": "stream",
          "name": "stdout",
          "text": [
            "Drive already mounted at /content/drive; to attempt to forcibly remount, call drive.mount(\"/content/drive\", force_remount=True).\n"
          ]
        }
      ]
    },
    {
      "cell_type": "markdown",
      "metadata": {
        "id": "z7MStqGB2Wcp"
      },
      "source": [
        "# Load Data"
      ]
    },
    {
      "cell_type": "code",
      "execution_count": 20,
      "metadata": {
        "id": "5f4l0OEi2Wc3",
        "outputId": "b3794d79-57b2-49aa-f19f-80064f53b56a",
        "colab": {
          "base_uri": "https://localhost:8080/",
          "height": 677
        }
      },
      "outputs": [
        {
          "output_type": "execute_result",
          "data": {
            "text/plain": [
              "     Age        BMI  Glucose  Insulin       HOMA   Leptin  Adiponectin  \\\n",
              "9     75  23.000000       83    4.952   1.013839  17.1270    11.578990   \n",
              "21    34  31.975015       87    4.530   0.972138  28.7502     7.642760   \n",
              "51    77  25.900000       85    4.580   0.960273  13.7400     9.753260   \n",
              "22    29  32.270788       84    5.810   1.203832  45.6196     6.209635   \n",
              "103   72  29.136316       83   10.949   2.241625  26.8081     2.784910   \n",
              "101   66  26.562500       89    6.524   1.432235  14.9084     8.429960   \n",
              "0     48  23.500000       70    2.707   0.467409   8.8071     9.702400   \n",
              "25    45  37.035608       83    6.760   1.383997  39.9802     4.617125   \n",
              "39    77  35.587929       76    3.881   0.727558  21.7863     8.125550   \n",
              "104   57  34.838148       95   12.548   2.940415  33.1612     2.364950   \n",
              "7     76  23.800000      118    6.470   1.883201   4.3110    13.251320   \n",
              "3     68  21.367521       77    3.226   0.612725   9.8827     7.169560   \n",
              "110   54  36.050000      119   11.910   3.495982  89.2700     8.010000   \n",
              "8     73  22.000000       97    3.350   0.801543   4.4700    10.358725   \n",
              "67    64  22.222222       98    5.700   1.377880  12.1905     4.783985   \n",
              "80    59  28.672626       77    3.188   0.605507  17.0220    16.440480   \n",
              "87    85  27.688778      196   51.814  25.050342  70.8824     7.901685   \n",
              "94    60  31.231410      131   30.130   9.736007  37.8430     8.404430   \n",
              "24    54  30.483158       90    5.537   1.229214  12.3310     9.731380   \n",
              "85    65  29.666548       85   14.649   3.071407  26.5166     7.282870   \n",
              "\n",
              "     Resistin     MCP.1  Classification  \n",
              "9     7.09130   318.302               1  \n",
              "21    5.62592   572.783               1  \n",
              "51   11.77400   488.829               1  \n",
              "22   24.60330   904.981               1  \n",
              "103  14.76966   232.018               2  \n",
              "101  14.91922   269.487               2  \n",
              "0     7.99585   417.114               1  \n",
              "25    8.70448   586.173               1  \n",
              "39   17.26150   618.272               1  \n",
              "104   9.95420   655.834               2  \n",
              "7     5.10420   280.694               1  \n",
              "3    12.76600   928.220               1  \n",
              "110   5.06000   218.280               2  \n",
              "8     6.28445   136.855               1  \n",
              "67   13.91245   395.976               2  \n",
              "80   31.69040   910.489               2  \n",
              "87   55.21530  1078.359               2  \n",
              "94   11.50005   396.021               2  \n",
              "24   10.19299  1227.910               1  \n",
              "85   19.46324  1698.440               2  "
            ],
            "text/html": [
              "\n",
              "  <div id=\"df-a13134cc-f0df-4d83-9a33-716d5756f623\">\n",
              "    <div class=\"colab-df-container\">\n",
              "      <div>\n",
              "<style scoped>\n",
              "    .dataframe tbody tr th:only-of-type {\n",
              "        vertical-align: middle;\n",
              "    }\n",
              "\n",
              "    .dataframe tbody tr th {\n",
              "        vertical-align: top;\n",
              "    }\n",
              "\n",
              "    .dataframe thead th {\n",
              "        text-align: right;\n",
              "    }\n",
              "</style>\n",
              "<table border=\"1\" class=\"dataframe\">\n",
              "  <thead>\n",
              "    <tr style=\"text-align: right;\">\n",
              "      <th></th>\n",
              "      <th>Age</th>\n",
              "      <th>BMI</th>\n",
              "      <th>Glucose</th>\n",
              "      <th>Insulin</th>\n",
              "      <th>HOMA</th>\n",
              "      <th>Leptin</th>\n",
              "      <th>Adiponectin</th>\n",
              "      <th>Resistin</th>\n",
              "      <th>MCP.1</th>\n",
              "      <th>Classification</th>\n",
              "    </tr>\n",
              "  </thead>\n",
              "  <tbody>\n",
              "    <tr>\n",
              "      <th>9</th>\n",
              "      <td>75</td>\n",
              "      <td>23.000000</td>\n",
              "      <td>83</td>\n",
              "      <td>4.952</td>\n",
              "      <td>1.013839</td>\n",
              "      <td>17.1270</td>\n",
              "      <td>11.578990</td>\n",
              "      <td>7.09130</td>\n",
              "      <td>318.302</td>\n",
              "      <td>1</td>\n",
              "    </tr>\n",
              "    <tr>\n",
              "      <th>21</th>\n",
              "      <td>34</td>\n",
              "      <td>31.975015</td>\n",
              "      <td>87</td>\n",
              "      <td>4.530</td>\n",
              "      <td>0.972138</td>\n",
              "      <td>28.7502</td>\n",
              "      <td>7.642760</td>\n",
              "      <td>5.62592</td>\n",
              "      <td>572.783</td>\n",
              "      <td>1</td>\n",
              "    </tr>\n",
              "    <tr>\n",
              "      <th>51</th>\n",
              "      <td>77</td>\n",
              "      <td>25.900000</td>\n",
              "      <td>85</td>\n",
              "      <td>4.580</td>\n",
              "      <td>0.960273</td>\n",
              "      <td>13.7400</td>\n",
              "      <td>9.753260</td>\n",
              "      <td>11.77400</td>\n",
              "      <td>488.829</td>\n",
              "      <td>1</td>\n",
              "    </tr>\n",
              "    <tr>\n",
              "      <th>22</th>\n",
              "      <td>29</td>\n",
              "      <td>32.270788</td>\n",
              "      <td>84</td>\n",
              "      <td>5.810</td>\n",
              "      <td>1.203832</td>\n",
              "      <td>45.6196</td>\n",
              "      <td>6.209635</td>\n",
              "      <td>24.60330</td>\n",
              "      <td>904.981</td>\n",
              "      <td>1</td>\n",
              "    </tr>\n",
              "    <tr>\n",
              "      <th>103</th>\n",
              "      <td>72</td>\n",
              "      <td>29.136316</td>\n",
              "      <td>83</td>\n",
              "      <td>10.949</td>\n",
              "      <td>2.241625</td>\n",
              "      <td>26.8081</td>\n",
              "      <td>2.784910</td>\n",
              "      <td>14.76966</td>\n",
              "      <td>232.018</td>\n",
              "      <td>2</td>\n",
              "    </tr>\n",
              "    <tr>\n",
              "      <th>101</th>\n",
              "      <td>66</td>\n",
              "      <td>26.562500</td>\n",
              "      <td>89</td>\n",
              "      <td>6.524</td>\n",
              "      <td>1.432235</td>\n",
              "      <td>14.9084</td>\n",
              "      <td>8.429960</td>\n",
              "      <td>14.91922</td>\n",
              "      <td>269.487</td>\n",
              "      <td>2</td>\n",
              "    </tr>\n",
              "    <tr>\n",
              "      <th>0</th>\n",
              "      <td>48</td>\n",
              "      <td>23.500000</td>\n",
              "      <td>70</td>\n",
              "      <td>2.707</td>\n",
              "      <td>0.467409</td>\n",
              "      <td>8.8071</td>\n",
              "      <td>9.702400</td>\n",
              "      <td>7.99585</td>\n",
              "      <td>417.114</td>\n",
              "      <td>1</td>\n",
              "    </tr>\n",
              "    <tr>\n",
              "      <th>25</th>\n",
              "      <td>45</td>\n",
              "      <td>37.035608</td>\n",
              "      <td>83</td>\n",
              "      <td>6.760</td>\n",
              "      <td>1.383997</td>\n",
              "      <td>39.9802</td>\n",
              "      <td>4.617125</td>\n",
              "      <td>8.70448</td>\n",
              "      <td>586.173</td>\n",
              "      <td>1</td>\n",
              "    </tr>\n",
              "    <tr>\n",
              "      <th>39</th>\n",
              "      <td>77</td>\n",
              "      <td>35.587929</td>\n",
              "      <td>76</td>\n",
              "      <td>3.881</td>\n",
              "      <td>0.727558</td>\n",
              "      <td>21.7863</td>\n",
              "      <td>8.125550</td>\n",
              "      <td>17.26150</td>\n",
              "      <td>618.272</td>\n",
              "      <td>1</td>\n",
              "    </tr>\n",
              "    <tr>\n",
              "      <th>104</th>\n",
              "      <td>57</td>\n",
              "      <td>34.838148</td>\n",
              "      <td>95</td>\n",
              "      <td>12.548</td>\n",
              "      <td>2.940415</td>\n",
              "      <td>33.1612</td>\n",
              "      <td>2.364950</td>\n",
              "      <td>9.95420</td>\n",
              "      <td>655.834</td>\n",
              "      <td>2</td>\n",
              "    </tr>\n",
              "    <tr>\n",
              "      <th>7</th>\n",
              "      <td>76</td>\n",
              "      <td>23.800000</td>\n",
              "      <td>118</td>\n",
              "      <td>6.470</td>\n",
              "      <td>1.883201</td>\n",
              "      <td>4.3110</td>\n",
              "      <td>13.251320</td>\n",
              "      <td>5.10420</td>\n",
              "      <td>280.694</td>\n",
              "      <td>1</td>\n",
              "    </tr>\n",
              "    <tr>\n",
              "      <th>3</th>\n",
              "      <td>68</td>\n",
              "      <td>21.367521</td>\n",
              "      <td>77</td>\n",
              "      <td>3.226</td>\n",
              "      <td>0.612725</td>\n",
              "      <td>9.8827</td>\n",
              "      <td>7.169560</td>\n",
              "      <td>12.76600</td>\n",
              "      <td>928.220</td>\n",
              "      <td>1</td>\n",
              "    </tr>\n",
              "    <tr>\n",
              "      <th>110</th>\n",
              "      <td>54</td>\n",
              "      <td>36.050000</td>\n",
              "      <td>119</td>\n",
              "      <td>11.910</td>\n",
              "      <td>3.495982</td>\n",
              "      <td>89.2700</td>\n",
              "      <td>8.010000</td>\n",
              "      <td>5.06000</td>\n",
              "      <td>218.280</td>\n",
              "      <td>2</td>\n",
              "    </tr>\n",
              "    <tr>\n",
              "      <th>8</th>\n",
              "      <td>73</td>\n",
              "      <td>22.000000</td>\n",
              "      <td>97</td>\n",
              "      <td>3.350</td>\n",
              "      <td>0.801543</td>\n",
              "      <td>4.4700</td>\n",
              "      <td>10.358725</td>\n",
              "      <td>6.28445</td>\n",
              "      <td>136.855</td>\n",
              "      <td>1</td>\n",
              "    </tr>\n",
              "    <tr>\n",
              "      <th>67</th>\n",
              "      <td>64</td>\n",
              "      <td>22.222222</td>\n",
              "      <td>98</td>\n",
              "      <td>5.700</td>\n",
              "      <td>1.377880</td>\n",
              "      <td>12.1905</td>\n",
              "      <td>4.783985</td>\n",
              "      <td>13.91245</td>\n",
              "      <td>395.976</td>\n",
              "      <td>2</td>\n",
              "    </tr>\n",
              "    <tr>\n",
              "      <th>80</th>\n",
              "      <td>59</td>\n",
              "      <td>28.672626</td>\n",
              "      <td>77</td>\n",
              "      <td>3.188</td>\n",
              "      <td>0.605507</td>\n",
              "      <td>17.0220</td>\n",
              "      <td>16.440480</td>\n",
              "      <td>31.69040</td>\n",
              "      <td>910.489</td>\n",
              "      <td>2</td>\n",
              "    </tr>\n",
              "    <tr>\n",
              "      <th>87</th>\n",
              "      <td>85</td>\n",
              "      <td>27.688778</td>\n",
              "      <td>196</td>\n",
              "      <td>51.814</td>\n",
              "      <td>25.050342</td>\n",
              "      <td>70.8824</td>\n",
              "      <td>7.901685</td>\n",
              "      <td>55.21530</td>\n",
              "      <td>1078.359</td>\n",
              "      <td>2</td>\n",
              "    </tr>\n",
              "    <tr>\n",
              "      <th>94</th>\n",
              "      <td>60</td>\n",
              "      <td>31.231410</td>\n",
              "      <td>131</td>\n",
              "      <td>30.130</td>\n",
              "      <td>9.736007</td>\n",
              "      <td>37.8430</td>\n",
              "      <td>8.404430</td>\n",
              "      <td>11.50005</td>\n",
              "      <td>396.021</td>\n",
              "      <td>2</td>\n",
              "    </tr>\n",
              "    <tr>\n",
              "      <th>24</th>\n",
              "      <td>54</td>\n",
              "      <td>30.483158</td>\n",
              "      <td>90</td>\n",
              "      <td>5.537</td>\n",
              "      <td>1.229214</td>\n",
              "      <td>12.3310</td>\n",
              "      <td>9.731380</td>\n",
              "      <td>10.19299</td>\n",
              "      <td>1227.910</td>\n",
              "      <td>1</td>\n",
              "    </tr>\n",
              "    <tr>\n",
              "      <th>85</th>\n",
              "      <td>65</td>\n",
              "      <td>29.666548</td>\n",
              "      <td>85</td>\n",
              "      <td>14.649</td>\n",
              "      <td>3.071407</td>\n",
              "      <td>26.5166</td>\n",
              "      <td>7.282870</td>\n",
              "      <td>19.46324</td>\n",
              "      <td>1698.440</td>\n",
              "      <td>2</td>\n",
              "    </tr>\n",
              "  </tbody>\n",
              "</table>\n",
              "</div>\n",
              "      <button class=\"colab-df-convert\" onclick=\"convertToInteractive('df-a13134cc-f0df-4d83-9a33-716d5756f623')\"\n",
              "              title=\"Convert this dataframe to an interactive table.\"\n",
              "              style=\"display:none;\">\n",
              "        \n",
              "  <svg xmlns=\"http://www.w3.org/2000/svg\" height=\"24px\"viewBox=\"0 0 24 24\"\n",
              "       width=\"24px\">\n",
              "    <path d=\"M0 0h24v24H0V0z\" fill=\"none\"/>\n",
              "    <path d=\"M18.56 5.44l.94 2.06.94-2.06 2.06-.94-2.06-.94-.94-2.06-.94 2.06-2.06.94zm-11 1L8.5 8.5l.94-2.06 2.06-.94-2.06-.94L8.5 2.5l-.94 2.06-2.06.94zm10 10l.94 2.06.94-2.06 2.06-.94-2.06-.94-.94-2.06-.94 2.06-2.06.94z\"/><path d=\"M17.41 7.96l-1.37-1.37c-.4-.4-.92-.59-1.43-.59-.52 0-1.04.2-1.43.59L10.3 9.45l-7.72 7.72c-.78.78-.78 2.05 0 2.83L4 21.41c.39.39.9.59 1.41.59.51 0 1.02-.2 1.41-.59l7.78-7.78 2.81-2.81c.8-.78.8-2.07 0-2.86zM5.41 20L4 18.59l7.72-7.72 1.47 1.35L5.41 20z\"/>\n",
              "  </svg>\n",
              "      </button>\n",
              "      \n",
              "  <style>\n",
              "    .colab-df-container {\n",
              "      display:flex;\n",
              "      flex-wrap:wrap;\n",
              "      gap: 12px;\n",
              "    }\n",
              "\n",
              "    .colab-df-convert {\n",
              "      background-color: #E8F0FE;\n",
              "      border: none;\n",
              "      border-radius: 50%;\n",
              "      cursor: pointer;\n",
              "      display: none;\n",
              "      fill: #1967D2;\n",
              "      height: 32px;\n",
              "      padding: 0 0 0 0;\n",
              "      width: 32px;\n",
              "    }\n",
              "\n",
              "    .colab-df-convert:hover {\n",
              "      background-color: #E2EBFA;\n",
              "      box-shadow: 0px 1px 2px rgba(60, 64, 67, 0.3), 0px 1px 3px 1px rgba(60, 64, 67, 0.15);\n",
              "      fill: #174EA6;\n",
              "    }\n",
              "\n",
              "    [theme=dark] .colab-df-convert {\n",
              "      background-color: #3B4455;\n",
              "      fill: #D2E3FC;\n",
              "    }\n",
              "\n",
              "    [theme=dark] .colab-df-convert:hover {\n",
              "      background-color: #434B5C;\n",
              "      box-shadow: 0px 1px 3px 1px rgba(0, 0, 0, 0.15);\n",
              "      filter: drop-shadow(0px 1px 2px rgba(0, 0, 0, 0.3));\n",
              "      fill: #FFFFFF;\n",
              "    }\n",
              "  </style>\n",
              "\n",
              "      <script>\n",
              "        const buttonEl =\n",
              "          document.querySelector('#df-a13134cc-f0df-4d83-9a33-716d5756f623 button.colab-df-convert');\n",
              "        buttonEl.style.display =\n",
              "          google.colab.kernel.accessAllowed ? 'block' : 'none';\n",
              "\n",
              "        async function convertToInteractive(key) {\n",
              "          const element = document.querySelector('#df-a13134cc-f0df-4d83-9a33-716d5756f623');\n",
              "          const dataTable =\n",
              "            await google.colab.kernel.invokeFunction('convertToInteractive',\n",
              "                                                     [key], {});\n",
              "          if (!dataTable) return;\n",
              "\n",
              "          const docLinkHtml = 'Like what you see? Visit the ' +\n",
              "            '<a target=\"_blank\" href=https://colab.research.google.com/notebooks/data_table.ipynb>data table notebook</a>'\n",
              "            + ' to learn more about interactive tables.';\n",
              "          element.innerHTML = '';\n",
              "          dataTable['output_type'] = 'display_data';\n",
              "          await google.colab.output.renderOutput(dataTable, element);\n",
              "          const docLink = document.createElement('div');\n",
              "          docLink.innerHTML = docLinkHtml;\n",
              "          element.appendChild(docLink);\n",
              "        }\n",
              "      </script>\n",
              "    </div>\n",
              "  </div>\n",
              "  "
            ]
          },
          "metadata": {},
          "execution_count": 20
        }
      ],
      "source": [
        "# From URL (GitHub raw file link)\n",
        "# file_path_url= 'https://raw.githubusercontent.com/'\n",
        "\n",
        "# From Google Drive\n",
        "file_path_ws = '/content/drive/My Drive/Data/dataR2.csv' \n",
        "\n",
        "# Load CSV File\n",
        "\n",
        "#data = pd.read_csv(file_path_url)\n",
        "data = pd.read_csv(file_path_ws)\n",
        "data.sample(20)"
      ]
    },
    {
      "cell_type": "markdown",
      "metadata": {
        "id": "NVs3gDQ22Wc6"
      },
      "source": [
        "# Pre-process Data for Training"
      ]
    },
    {
      "cell_type": "code",
      "source": [
        "# check width (number of columns) and height (number of rows)\n",
        "data.shape"
      ],
      "metadata": {
        "colab": {
          "base_uri": "https://localhost:8080/"
        },
        "id": "bnOn_D5KGyRo",
        "outputId": "d28ccd7c-5cd0-471a-d1f1-b3fcc61e0900"
      },
      "execution_count": 21,
      "outputs": [
        {
          "output_type": "execute_result",
          "data": {
            "text/plain": [
              "(116, 10)"
            ]
          },
          "metadata": {},
          "execution_count": 21
        }
      ]
    },
    {
      "cell_type": "code",
      "source": [
        "# Check Columns and thier Data Types\n",
        "data.dtypes"
      ],
      "metadata": {
        "colab": {
          "base_uri": "https://localhost:8080/"
        },
        "id": "g1sEPolVG8Eg",
        "outputId": "33b7fd6b-8071-4933-843c-e44f3940e0b9"
      },
      "execution_count": 22,
      "outputs": [
        {
          "output_type": "execute_result",
          "data": {
            "text/plain": [
              "Age                 int64\n",
              "BMI               float64\n",
              "Glucose             int64\n",
              "Insulin           float64\n",
              "HOMA              float64\n",
              "Leptin            float64\n",
              "Adiponectin       float64\n",
              "Resistin          float64\n",
              "MCP.1             float64\n",
              "Classification      int64\n",
              "dtype: object"
            ]
          },
          "metadata": {},
          "execution_count": 22
        }
      ]
    },
    {
      "cell_type": "code",
      "source": [
        "# Data Frame Info (Row count, Columns, Non-Null Count, Data Types)\n",
        "data.info()"
      ],
      "metadata": {
        "colab": {
          "base_uri": "https://localhost:8080/"
        },
        "id": "wcq2rCzTHFhl",
        "outputId": "a7044511-7477-429c-b6c4-deb8c80b7b21"
      },
      "execution_count": 23,
      "outputs": [
        {
          "output_type": "stream",
          "name": "stdout",
          "text": [
            "<class 'pandas.core.frame.DataFrame'>\n",
            "RangeIndex: 116 entries, 0 to 115\n",
            "Data columns (total 10 columns):\n",
            " #   Column          Non-Null Count  Dtype  \n",
            "---  ------          --------------  -----  \n",
            " 0   Age             116 non-null    int64  \n",
            " 1   BMI             116 non-null    float64\n",
            " 2   Glucose         116 non-null    int64  \n",
            " 3   Insulin         116 non-null    float64\n",
            " 4   HOMA            116 non-null    float64\n",
            " 5   Leptin          116 non-null    float64\n",
            " 6   Adiponectin     116 non-null    float64\n",
            " 7   Resistin        116 non-null    float64\n",
            " 8   MCP.1           116 non-null    float64\n",
            " 9   Classification  116 non-null    int64  \n",
            "dtypes: float64(7), int64(3)\n",
            "memory usage: 9.2 KB\n"
          ]
        }
      ]
    },
    {
      "cell_type": "code",
      "execution_count": 24,
      "metadata": {
        "id": "pRK0HZRn2Wc_",
        "outputId": "56b1ca4b-762a-4fd9-d269-d8a896932176",
        "colab": {
          "base_uri": "https://localhost:8080/"
        }
      },
      "outputs": [
        {
          "output_type": "execute_result",
          "data": {
            "text/plain": [
              "Index(['Age', 'BMI', 'Glucose', 'Insulin', 'HOMA', 'Leptin', 'Adiponectin',\n",
              "       'Resistin', 'MCP.1', 'Classification'],\n",
              "      dtype='object')"
            ]
          },
          "metadata": {},
          "execution_count": 24
        }
      ],
      "source": [
        "#list down the columns \n",
        "data.columns"
      ]
    },
    {
      "cell_type": "code",
      "execution_count": 25,
      "metadata": {
        "id": "ndqm4Vxv2WdE",
        "outputId": "21603576-391a-43c8-8486-02ec494d4a09",
        "colab": {
          "base_uri": "https://localhost:8080/",
          "height": 363
        }
      },
      "outputs": [
        {
          "output_type": "execute_result",
          "data": {
            "text/plain": [
              "                count        mean         std        min         25%  \\\n",
              "Age             116.0   57.301724   16.112766  24.000000   45.000000   \n",
              "BMI             116.0   27.582111    5.020136  18.370000   22.973205   \n",
              "Glucose         116.0   97.793103   22.525162  60.000000   85.750000   \n",
              "Insulin         116.0   10.012086   10.067768   2.432000    4.359250   \n",
              "HOMA            116.0    2.694988    3.642043   0.467409    0.917966   \n",
              "Leptin          116.0   26.615080   19.183294   4.311000   12.313675   \n",
              "Adiponectin     116.0   10.180874    6.843341   1.656020    5.474283   \n",
              "Resistin        116.0   14.725966   12.390646   3.210000    6.881763   \n",
              "MCP.1           116.0  534.647000  345.912663  45.843000  269.978250   \n",
              "Classification  116.0    1.551724    0.499475   1.000000    1.000000   \n",
              "\n",
              "                       50%         75%          max  \n",
              "Age              56.000000   71.000000    89.000000  \n",
              "BMI              27.662416   31.241442    38.578759  \n",
              "Glucose          92.000000  102.000000   201.000000  \n",
              "Insulin           5.924500   11.189250    58.460000  \n",
              "HOMA              1.380939    2.857787    25.050342  \n",
              "Leptin           20.271000   37.378300    90.280000  \n",
              "Adiponectin       8.352692   11.815970    38.040000  \n",
              "Resistin         10.827740   17.755207    82.100000  \n",
              "MCP.1           471.322500  700.085000  1698.440000  \n",
              "Classification    2.000000    2.000000     2.000000  "
            ],
            "text/html": [
              "\n",
              "  <div id=\"df-17ac8268-e506-44f3-a3f1-27924d5718c1\">\n",
              "    <div class=\"colab-df-container\">\n",
              "      <div>\n",
              "<style scoped>\n",
              "    .dataframe tbody tr th:only-of-type {\n",
              "        vertical-align: middle;\n",
              "    }\n",
              "\n",
              "    .dataframe tbody tr th {\n",
              "        vertical-align: top;\n",
              "    }\n",
              "\n",
              "    .dataframe thead th {\n",
              "        text-align: right;\n",
              "    }\n",
              "</style>\n",
              "<table border=\"1\" class=\"dataframe\">\n",
              "  <thead>\n",
              "    <tr style=\"text-align: right;\">\n",
              "      <th></th>\n",
              "      <th>count</th>\n",
              "      <th>mean</th>\n",
              "      <th>std</th>\n",
              "      <th>min</th>\n",
              "      <th>25%</th>\n",
              "      <th>50%</th>\n",
              "      <th>75%</th>\n",
              "      <th>max</th>\n",
              "    </tr>\n",
              "  </thead>\n",
              "  <tbody>\n",
              "    <tr>\n",
              "      <th>Age</th>\n",
              "      <td>116.0</td>\n",
              "      <td>57.301724</td>\n",
              "      <td>16.112766</td>\n",
              "      <td>24.000000</td>\n",
              "      <td>45.000000</td>\n",
              "      <td>56.000000</td>\n",
              "      <td>71.000000</td>\n",
              "      <td>89.000000</td>\n",
              "    </tr>\n",
              "    <tr>\n",
              "      <th>BMI</th>\n",
              "      <td>116.0</td>\n",
              "      <td>27.582111</td>\n",
              "      <td>5.020136</td>\n",
              "      <td>18.370000</td>\n",
              "      <td>22.973205</td>\n",
              "      <td>27.662416</td>\n",
              "      <td>31.241442</td>\n",
              "      <td>38.578759</td>\n",
              "    </tr>\n",
              "    <tr>\n",
              "      <th>Glucose</th>\n",
              "      <td>116.0</td>\n",
              "      <td>97.793103</td>\n",
              "      <td>22.525162</td>\n",
              "      <td>60.000000</td>\n",
              "      <td>85.750000</td>\n",
              "      <td>92.000000</td>\n",
              "      <td>102.000000</td>\n",
              "      <td>201.000000</td>\n",
              "    </tr>\n",
              "    <tr>\n",
              "      <th>Insulin</th>\n",
              "      <td>116.0</td>\n",
              "      <td>10.012086</td>\n",
              "      <td>10.067768</td>\n",
              "      <td>2.432000</td>\n",
              "      <td>4.359250</td>\n",
              "      <td>5.924500</td>\n",
              "      <td>11.189250</td>\n",
              "      <td>58.460000</td>\n",
              "    </tr>\n",
              "    <tr>\n",
              "      <th>HOMA</th>\n",
              "      <td>116.0</td>\n",
              "      <td>2.694988</td>\n",
              "      <td>3.642043</td>\n",
              "      <td>0.467409</td>\n",
              "      <td>0.917966</td>\n",
              "      <td>1.380939</td>\n",
              "      <td>2.857787</td>\n",
              "      <td>25.050342</td>\n",
              "    </tr>\n",
              "    <tr>\n",
              "      <th>Leptin</th>\n",
              "      <td>116.0</td>\n",
              "      <td>26.615080</td>\n",
              "      <td>19.183294</td>\n",
              "      <td>4.311000</td>\n",
              "      <td>12.313675</td>\n",
              "      <td>20.271000</td>\n",
              "      <td>37.378300</td>\n",
              "      <td>90.280000</td>\n",
              "    </tr>\n",
              "    <tr>\n",
              "      <th>Adiponectin</th>\n",
              "      <td>116.0</td>\n",
              "      <td>10.180874</td>\n",
              "      <td>6.843341</td>\n",
              "      <td>1.656020</td>\n",
              "      <td>5.474283</td>\n",
              "      <td>8.352692</td>\n",
              "      <td>11.815970</td>\n",
              "      <td>38.040000</td>\n",
              "    </tr>\n",
              "    <tr>\n",
              "      <th>Resistin</th>\n",
              "      <td>116.0</td>\n",
              "      <td>14.725966</td>\n",
              "      <td>12.390646</td>\n",
              "      <td>3.210000</td>\n",
              "      <td>6.881763</td>\n",
              "      <td>10.827740</td>\n",
              "      <td>17.755207</td>\n",
              "      <td>82.100000</td>\n",
              "    </tr>\n",
              "    <tr>\n",
              "      <th>MCP.1</th>\n",
              "      <td>116.0</td>\n",
              "      <td>534.647000</td>\n",
              "      <td>345.912663</td>\n",
              "      <td>45.843000</td>\n",
              "      <td>269.978250</td>\n",
              "      <td>471.322500</td>\n",
              "      <td>700.085000</td>\n",
              "      <td>1698.440000</td>\n",
              "    </tr>\n",
              "    <tr>\n",
              "      <th>Classification</th>\n",
              "      <td>116.0</td>\n",
              "      <td>1.551724</td>\n",
              "      <td>0.499475</td>\n",
              "      <td>1.000000</td>\n",
              "      <td>1.000000</td>\n",
              "      <td>2.000000</td>\n",
              "      <td>2.000000</td>\n",
              "      <td>2.000000</td>\n",
              "    </tr>\n",
              "  </tbody>\n",
              "</table>\n",
              "</div>\n",
              "      <button class=\"colab-df-convert\" onclick=\"convertToInteractive('df-17ac8268-e506-44f3-a3f1-27924d5718c1')\"\n",
              "              title=\"Convert this dataframe to an interactive table.\"\n",
              "              style=\"display:none;\">\n",
              "        \n",
              "  <svg xmlns=\"http://www.w3.org/2000/svg\" height=\"24px\"viewBox=\"0 0 24 24\"\n",
              "       width=\"24px\">\n",
              "    <path d=\"M0 0h24v24H0V0z\" fill=\"none\"/>\n",
              "    <path d=\"M18.56 5.44l.94 2.06.94-2.06 2.06-.94-2.06-.94-.94-2.06-.94 2.06-2.06.94zm-11 1L8.5 8.5l.94-2.06 2.06-.94-2.06-.94L8.5 2.5l-.94 2.06-2.06.94zm10 10l.94 2.06.94-2.06 2.06-.94-2.06-.94-.94-2.06-.94 2.06-2.06.94z\"/><path d=\"M17.41 7.96l-1.37-1.37c-.4-.4-.92-.59-1.43-.59-.52 0-1.04.2-1.43.59L10.3 9.45l-7.72 7.72c-.78.78-.78 2.05 0 2.83L4 21.41c.39.39.9.59 1.41.59.51 0 1.02-.2 1.41-.59l7.78-7.78 2.81-2.81c.8-.78.8-2.07 0-2.86zM5.41 20L4 18.59l7.72-7.72 1.47 1.35L5.41 20z\"/>\n",
              "  </svg>\n",
              "      </button>\n",
              "      \n",
              "  <style>\n",
              "    .colab-df-container {\n",
              "      display:flex;\n",
              "      flex-wrap:wrap;\n",
              "      gap: 12px;\n",
              "    }\n",
              "\n",
              "    .colab-df-convert {\n",
              "      background-color: #E8F0FE;\n",
              "      border: none;\n",
              "      border-radius: 50%;\n",
              "      cursor: pointer;\n",
              "      display: none;\n",
              "      fill: #1967D2;\n",
              "      height: 32px;\n",
              "      padding: 0 0 0 0;\n",
              "      width: 32px;\n",
              "    }\n",
              "\n",
              "    .colab-df-convert:hover {\n",
              "      background-color: #E2EBFA;\n",
              "      box-shadow: 0px 1px 2px rgba(60, 64, 67, 0.3), 0px 1px 3px 1px rgba(60, 64, 67, 0.15);\n",
              "      fill: #174EA6;\n",
              "    }\n",
              "\n",
              "    [theme=dark] .colab-df-convert {\n",
              "      background-color: #3B4455;\n",
              "      fill: #D2E3FC;\n",
              "    }\n",
              "\n",
              "    [theme=dark] .colab-df-convert:hover {\n",
              "      background-color: #434B5C;\n",
              "      box-shadow: 0px 1px 3px 1px rgba(0, 0, 0, 0.15);\n",
              "      filter: drop-shadow(0px 1px 2px rgba(0, 0, 0, 0.3));\n",
              "      fill: #FFFFFF;\n",
              "    }\n",
              "  </style>\n",
              "\n",
              "      <script>\n",
              "        const buttonEl =\n",
              "          document.querySelector('#df-17ac8268-e506-44f3-a3f1-27924d5718c1 button.colab-df-convert');\n",
              "        buttonEl.style.display =\n",
              "          google.colab.kernel.accessAllowed ? 'block' : 'none';\n",
              "\n",
              "        async function convertToInteractive(key) {\n",
              "          const element = document.querySelector('#df-17ac8268-e506-44f3-a3f1-27924d5718c1');\n",
              "          const dataTable =\n",
              "            await google.colab.kernel.invokeFunction('convertToInteractive',\n",
              "                                                     [key], {});\n",
              "          if (!dataTable) return;\n",
              "\n",
              "          const docLinkHtml = 'Like what you see? Visit the ' +\n",
              "            '<a target=\"_blank\" href=https://colab.research.google.com/notebooks/data_table.ipynb>data table notebook</a>'\n",
              "            + ' to learn more about interactive tables.';\n",
              "          element.innerHTML = '';\n",
              "          dataTable['output_type'] = 'display_data';\n",
              "          await google.colab.output.renderOutput(dataTable, element);\n",
              "          const docLink = document.createElement('div');\n",
              "          docLink.innerHTML = docLinkHtml;\n",
              "          element.appendChild(docLink);\n",
              "        }\n",
              "      </script>\n",
              "    </div>\n",
              "  </div>\n",
              "  "
            ]
          },
          "metadata": {},
          "execution_count": 25
        }
      ],
      "source": [
        "data.describe(include='all').transpose()"
      ]
    },
    {
      "cell_type": "code",
      "source": [
        "# Finding the missing values\n",
        "#print(data.isna())\n",
        "print(data.isna().all())"
      ],
      "metadata": {
        "colab": {
          "base_uri": "https://localhost:8080/"
        },
        "id": "cZMq9BD3H3aU",
        "outputId": "242d5023-b1cd-430b-fa6b-2d88f9391136"
      },
      "execution_count": 26,
      "outputs": [
        {
          "output_type": "stream",
          "name": "stdout",
          "text": [
            "Age               False\n",
            "BMI               False\n",
            "Glucose           False\n",
            "Insulin           False\n",
            "HOMA              False\n",
            "Leptin            False\n",
            "Adiponectin       False\n",
            "Resistin          False\n",
            "MCP.1             False\n",
            "Classification    False\n",
            "dtype: bool\n"
          ]
        }
      ]
    },
    {
      "cell_type": "code",
      "source": [
        "# Finding the null values\n",
        "#print(data.isnull())\n",
        "print(data.isnull().all())"
      ],
      "metadata": {
        "colab": {
          "base_uri": "https://localhost:8080/"
        },
        "id": "AXmiJEhxIVEH",
        "outputId": "68353151-31ad-44f6-ac1b-74059d6051e7"
      },
      "execution_count": 27,
      "outputs": [
        {
          "output_type": "stream",
          "name": "stdout",
          "text": [
            "Age               False\n",
            "BMI               False\n",
            "Glucose           False\n",
            "Insulin           False\n",
            "HOMA              False\n",
            "Leptin            False\n",
            "Adiponectin       False\n",
            "Resistin          False\n",
            "MCP.1             False\n",
            "Classification    False\n",
            "dtype: bool\n"
          ]
        }
      ]
    },
    {
      "cell_type": "code",
      "source": [
        "# Data Set selected is not having any missing data or data that needs to be corrected. "
      ],
      "metadata": {
        "id": "FnSGfYF5IcYI"
      },
      "execution_count": 60,
      "outputs": []
    },
    {
      "cell_type": "code",
      "source": [
        "cormat = data.corr()\n",
        "round(cormat,2)"
      ],
      "metadata": {
        "id": "P4q9lkQFuSgV",
        "outputId": "8e44d965-5ba6-459c-c4ae-fdafcc431e88",
        "colab": {
          "base_uri": "https://localhost:8080/",
          "height": 363
        }
      },
      "execution_count": 28,
      "outputs": [
        {
          "output_type": "execute_result",
          "data": {
            "text/plain": [
              "                 Age   BMI  Glucose  Insulin  HOMA  Leptin  Adiponectin  \\\n",
              "Age             1.00  0.01     0.23     0.03  0.13    0.10        -0.22   \n",
              "BMI             0.01  1.00     0.14     0.15  0.11    0.57        -0.30   \n",
              "Glucose         0.23  0.14     1.00     0.50  0.70    0.31        -0.12   \n",
              "Insulin         0.03  0.15     0.50     1.00  0.93    0.30        -0.03   \n",
              "HOMA            0.13  0.11     0.70     0.93  1.00    0.33        -0.06   \n",
              "Leptin          0.10  0.57     0.31     0.30  0.33    1.00        -0.10   \n",
              "Adiponectin    -0.22 -0.30    -0.12    -0.03 -0.06   -0.10         1.00   \n",
              "Resistin        0.00  0.20     0.29     0.15  0.23    0.26        -0.25   \n",
              "MCP.1           0.01  0.22     0.26     0.17  0.26    0.01        -0.20   \n",
              "Classification -0.04 -0.13     0.38     0.28  0.28   -0.00        -0.02   \n",
              "\n",
              "                Resistin  MCP.1  Classification  \n",
              "Age                 0.00   0.01           -0.04  \n",
              "BMI                 0.20   0.22           -0.13  \n",
              "Glucose             0.29   0.26            0.38  \n",
              "Insulin             0.15   0.17            0.28  \n",
              "HOMA                0.23   0.26            0.28  \n",
              "Leptin              0.26   0.01           -0.00  \n",
              "Adiponectin        -0.25  -0.20           -0.02  \n",
              "Resistin            1.00   0.37            0.23  \n",
              "MCP.1               0.37   1.00            0.09  \n",
              "Classification      0.23   0.09            1.00  "
            ],
            "text/html": [
              "\n",
              "  <div id=\"df-54914746-f499-4272-80d6-61486233383c\">\n",
              "    <div class=\"colab-df-container\">\n",
              "      <div>\n",
              "<style scoped>\n",
              "    .dataframe tbody tr th:only-of-type {\n",
              "        vertical-align: middle;\n",
              "    }\n",
              "\n",
              "    .dataframe tbody tr th {\n",
              "        vertical-align: top;\n",
              "    }\n",
              "\n",
              "    .dataframe thead th {\n",
              "        text-align: right;\n",
              "    }\n",
              "</style>\n",
              "<table border=\"1\" class=\"dataframe\">\n",
              "  <thead>\n",
              "    <tr style=\"text-align: right;\">\n",
              "      <th></th>\n",
              "      <th>Age</th>\n",
              "      <th>BMI</th>\n",
              "      <th>Glucose</th>\n",
              "      <th>Insulin</th>\n",
              "      <th>HOMA</th>\n",
              "      <th>Leptin</th>\n",
              "      <th>Adiponectin</th>\n",
              "      <th>Resistin</th>\n",
              "      <th>MCP.1</th>\n",
              "      <th>Classification</th>\n",
              "    </tr>\n",
              "  </thead>\n",
              "  <tbody>\n",
              "    <tr>\n",
              "      <th>Age</th>\n",
              "      <td>1.00</td>\n",
              "      <td>0.01</td>\n",
              "      <td>0.23</td>\n",
              "      <td>0.03</td>\n",
              "      <td>0.13</td>\n",
              "      <td>0.10</td>\n",
              "      <td>-0.22</td>\n",
              "      <td>0.00</td>\n",
              "      <td>0.01</td>\n",
              "      <td>-0.04</td>\n",
              "    </tr>\n",
              "    <tr>\n",
              "      <th>BMI</th>\n",
              "      <td>0.01</td>\n",
              "      <td>1.00</td>\n",
              "      <td>0.14</td>\n",
              "      <td>0.15</td>\n",
              "      <td>0.11</td>\n",
              "      <td>0.57</td>\n",
              "      <td>-0.30</td>\n",
              "      <td>0.20</td>\n",
              "      <td>0.22</td>\n",
              "      <td>-0.13</td>\n",
              "    </tr>\n",
              "    <tr>\n",
              "      <th>Glucose</th>\n",
              "      <td>0.23</td>\n",
              "      <td>0.14</td>\n",
              "      <td>1.00</td>\n",
              "      <td>0.50</td>\n",
              "      <td>0.70</td>\n",
              "      <td>0.31</td>\n",
              "      <td>-0.12</td>\n",
              "      <td>0.29</td>\n",
              "      <td>0.26</td>\n",
              "      <td>0.38</td>\n",
              "    </tr>\n",
              "    <tr>\n",
              "      <th>Insulin</th>\n",
              "      <td>0.03</td>\n",
              "      <td>0.15</td>\n",
              "      <td>0.50</td>\n",
              "      <td>1.00</td>\n",
              "      <td>0.93</td>\n",
              "      <td>0.30</td>\n",
              "      <td>-0.03</td>\n",
              "      <td>0.15</td>\n",
              "      <td>0.17</td>\n",
              "      <td>0.28</td>\n",
              "    </tr>\n",
              "    <tr>\n",
              "      <th>HOMA</th>\n",
              "      <td>0.13</td>\n",
              "      <td>0.11</td>\n",
              "      <td>0.70</td>\n",
              "      <td>0.93</td>\n",
              "      <td>1.00</td>\n",
              "      <td>0.33</td>\n",
              "      <td>-0.06</td>\n",
              "      <td>0.23</td>\n",
              "      <td>0.26</td>\n",
              "      <td>0.28</td>\n",
              "    </tr>\n",
              "    <tr>\n",
              "      <th>Leptin</th>\n",
              "      <td>0.10</td>\n",
              "      <td>0.57</td>\n",
              "      <td>0.31</td>\n",
              "      <td>0.30</td>\n",
              "      <td>0.33</td>\n",
              "      <td>1.00</td>\n",
              "      <td>-0.10</td>\n",
              "      <td>0.26</td>\n",
              "      <td>0.01</td>\n",
              "      <td>-0.00</td>\n",
              "    </tr>\n",
              "    <tr>\n",
              "      <th>Adiponectin</th>\n",
              "      <td>-0.22</td>\n",
              "      <td>-0.30</td>\n",
              "      <td>-0.12</td>\n",
              "      <td>-0.03</td>\n",
              "      <td>-0.06</td>\n",
              "      <td>-0.10</td>\n",
              "      <td>1.00</td>\n",
              "      <td>-0.25</td>\n",
              "      <td>-0.20</td>\n",
              "      <td>-0.02</td>\n",
              "    </tr>\n",
              "    <tr>\n",
              "      <th>Resistin</th>\n",
              "      <td>0.00</td>\n",
              "      <td>0.20</td>\n",
              "      <td>0.29</td>\n",
              "      <td>0.15</td>\n",
              "      <td>0.23</td>\n",
              "      <td>0.26</td>\n",
              "      <td>-0.25</td>\n",
              "      <td>1.00</td>\n",
              "      <td>0.37</td>\n",
              "      <td>0.23</td>\n",
              "    </tr>\n",
              "    <tr>\n",
              "      <th>MCP.1</th>\n",
              "      <td>0.01</td>\n",
              "      <td>0.22</td>\n",
              "      <td>0.26</td>\n",
              "      <td>0.17</td>\n",
              "      <td>0.26</td>\n",
              "      <td>0.01</td>\n",
              "      <td>-0.20</td>\n",
              "      <td>0.37</td>\n",
              "      <td>1.00</td>\n",
              "      <td>0.09</td>\n",
              "    </tr>\n",
              "    <tr>\n",
              "      <th>Classification</th>\n",
              "      <td>-0.04</td>\n",
              "      <td>-0.13</td>\n",
              "      <td>0.38</td>\n",
              "      <td>0.28</td>\n",
              "      <td>0.28</td>\n",
              "      <td>-0.00</td>\n",
              "      <td>-0.02</td>\n",
              "      <td>0.23</td>\n",
              "      <td>0.09</td>\n",
              "      <td>1.00</td>\n",
              "    </tr>\n",
              "  </tbody>\n",
              "</table>\n",
              "</div>\n",
              "      <button class=\"colab-df-convert\" onclick=\"convertToInteractive('df-54914746-f499-4272-80d6-61486233383c')\"\n",
              "              title=\"Convert this dataframe to an interactive table.\"\n",
              "              style=\"display:none;\">\n",
              "        \n",
              "  <svg xmlns=\"http://www.w3.org/2000/svg\" height=\"24px\"viewBox=\"0 0 24 24\"\n",
              "       width=\"24px\">\n",
              "    <path d=\"M0 0h24v24H0V0z\" fill=\"none\"/>\n",
              "    <path d=\"M18.56 5.44l.94 2.06.94-2.06 2.06-.94-2.06-.94-.94-2.06-.94 2.06-2.06.94zm-11 1L8.5 8.5l.94-2.06 2.06-.94-2.06-.94L8.5 2.5l-.94 2.06-2.06.94zm10 10l.94 2.06.94-2.06 2.06-.94-2.06-.94-.94-2.06-.94 2.06-2.06.94z\"/><path d=\"M17.41 7.96l-1.37-1.37c-.4-.4-.92-.59-1.43-.59-.52 0-1.04.2-1.43.59L10.3 9.45l-7.72 7.72c-.78.78-.78 2.05 0 2.83L4 21.41c.39.39.9.59 1.41.59.51 0 1.02-.2 1.41-.59l7.78-7.78 2.81-2.81c.8-.78.8-2.07 0-2.86zM5.41 20L4 18.59l7.72-7.72 1.47 1.35L5.41 20z\"/>\n",
              "  </svg>\n",
              "      </button>\n",
              "      \n",
              "  <style>\n",
              "    .colab-df-container {\n",
              "      display:flex;\n",
              "      flex-wrap:wrap;\n",
              "      gap: 12px;\n",
              "    }\n",
              "\n",
              "    .colab-df-convert {\n",
              "      background-color: #E8F0FE;\n",
              "      border: none;\n",
              "      border-radius: 50%;\n",
              "      cursor: pointer;\n",
              "      display: none;\n",
              "      fill: #1967D2;\n",
              "      height: 32px;\n",
              "      padding: 0 0 0 0;\n",
              "      width: 32px;\n",
              "    }\n",
              "\n",
              "    .colab-df-convert:hover {\n",
              "      background-color: #E2EBFA;\n",
              "      box-shadow: 0px 1px 2px rgba(60, 64, 67, 0.3), 0px 1px 3px 1px rgba(60, 64, 67, 0.15);\n",
              "      fill: #174EA6;\n",
              "    }\n",
              "\n",
              "    [theme=dark] .colab-df-convert {\n",
              "      background-color: #3B4455;\n",
              "      fill: #D2E3FC;\n",
              "    }\n",
              "\n",
              "    [theme=dark] .colab-df-convert:hover {\n",
              "      background-color: #434B5C;\n",
              "      box-shadow: 0px 1px 3px 1px rgba(0, 0, 0, 0.15);\n",
              "      filter: drop-shadow(0px 1px 2px rgba(0, 0, 0, 0.3));\n",
              "      fill: #FFFFFF;\n",
              "    }\n",
              "  </style>\n",
              "\n",
              "      <script>\n",
              "        const buttonEl =\n",
              "          document.querySelector('#df-54914746-f499-4272-80d6-61486233383c button.colab-df-convert');\n",
              "        buttonEl.style.display =\n",
              "          google.colab.kernel.accessAllowed ? 'block' : 'none';\n",
              "\n",
              "        async function convertToInteractive(key) {\n",
              "          const element = document.querySelector('#df-54914746-f499-4272-80d6-61486233383c');\n",
              "          const dataTable =\n",
              "            await google.colab.kernel.invokeFunction('convertToInteractive',\n",
              "                                                     [key], {});\n",
              "          if (!dataTable) return;\n",
              "\n",
              "          const docLinkHtml = 'Like what you see? Visit the ' +\n",
              "            '<a target=\"_blank\" href=https://colab.research.google.com/notebooks/data_table.ipynb>data table notebook</a>'\n",
              "            + ' to learn more about interactive tables.';\n",
              "          element.innerHTML = '';\n",
              "          dataTable['output_type'] = 'display_data';\n",
              "          await google.colab.output.renderOutput(dataTable, element);\n",
              "          const docLink = document.createElement('div');\n",
              "          docLink.innerHTML = docLinkHtml;\n",
              "          element.appendChild(docLink);\n",
              "        }\n",
              "      </script>\n",
              "    </div>\n",
              "  </div>\n",
              "  "
            ]
          },
          "metadata": {},
          "execution_count": 28
        }
      ]
    },
    {
      "cell_type": "code",
      "source": [
        "import seaborn as sns\n",
        "sns.heatmap(cormat)"
      ],
      "metadata": {
        "id": "LBHu5E9DvTQr",
        "outputId": "58a51e5a-f941-4103-cbd6-6eb8ba805082",
        "colab": {
          "base_uri": "https://localhost:8080/",
          "height": 343
        }
      },
      "execution_count": 29,
      "outputs": [
        {
          "output_type": "execute_result",
          "data": {
            "text/plain": [
              "<matplotlib.axes._subplots.AxesSubplot at 0x7f657e3c5150>"
            ]
          },
          "metadata": {},
          "execution_count": 29
        },
        {
          "output_type": "display_data",
          "data": {
            "text/plain": [
              "<Figure size 432x288 with 2 Axes>"
            ],
            "image/png": "[encoded data removed]"
          },
          "metadata": {
            "needs_background": "light"
          }
        }
      ]
    },
    {
      "cell_type": "markdown",
      "metadata": {
        "id": "PlkLbpYt2WdG"
      },
      "source": [
        "## Create ID Column"
      ]
    },
    {
      "cell_type": "code",
      "execution_count": 30,
      "metadata": {
        "id": "JXPg1gcw2WdH",
        "outputId": "8fea6951-cc14-48bf-d2d2-a5066dfa738c",
        "colab": {
          "base_uri": "https://localhost:8080/",
          "height": 424
        }
      },
      "outputs": [
        {
          "output_type": "execute_result",
          "data": {
            "text/plain": [
              "     Age        BMI  Glucose  Insulin      HOMA   Leptin  Adiponectin  \\\n",
              "0     48  23.500000       70    2.707  0.467409   8.8071     9.702400   \n",
              "1     83  20.690495       92    3.115  0.706897   8.8438     5.429285   \n",
              "2     82  23.124670       91    4.498  1.009651  17.9393    22.432040   \n",
              "3     68  21.367521       77    3.226  0.612725   9.8827     7.169560   \n",
              "4     86  21.111111       92    3.549  0.805386   6.6994     4.819240   \n",
              "..   ...        ...      ...      ...       ...      ...          ...   \n",
              "111   45  26.850000       92    3.330  0.755688  54.6800    12.100000   \n",
              "112   62  26.840000      100    4.530  1.117400  12.4500    21.420000   \n",
              "113   65  32.050000       97    5.730  1.370998  61.4800    22.540000   \n",
              "114   72  25.590000       82    2.820  0.570392  24.9600    33.750000   \n",
              "115   86  27.180000      138   19.910  6.777364  90.2800    14.110000   \n",
              "\n",
              "     Resistin    MCP.1  Classification   id  \n",
              "0     7.99585  417.114               1    1  \n",
              "1     4.06405  468.786               1    2  \n",
              "2     9.27715  554.697               1    3  \n",
              "3    12.76600  928.220               1    4  \n",
              "4    10.57635  773.920               1    5  \n",
              "..        ...      ...             ...  ...  \n",
              "111  10.96000  268.230               2  112  \n",
              "112   7.32000  330.160               2  113  \n",
              "113  10.33000  314.050               2  114  \n",
              "114   3.27000  392.460               2  115  \n",
              "115   4.35000   90.090               2  116  \n",
              "\n",
              "[116 rows x 11 columns]"
            ],
            "text/html": [
              "\n",
              "  <div id=\"df-6c975d35-03b2-40c0-ae22-b584f783c172\">\n",
              "    <div class=\"colab-df-container\">\n",
              "      <div>\n",
              "<style scoped>\n",
              "    .dataframe tbody tr th:only-of-type {\n",
              "        vertical-align: middle;\n",
              "    }\n",
              "\n",
              "    .dataframe tbody tr th {\n",
              "        vertical-align: top;\n",
              "    }\n",
              "\n",
              "    .dataframe thead th {\n",
              "        text-align: right;\n",
              "    }\n",
              "</style>\n",
              "<table border=\"1\" class=\"dataframe\">\n",
              "  <thead>\n",
              "    <tr style=\"text-align: right;\">\n",
              "      <th></th>\n",
              "      <th>Age</th>\n",
              "      <th>BMI</th>\n",
              "      <th>Glucose</th>\n",
              "      <th>Insulin</th>\n",
              "      <th>HOMA</th>\n",
              "      <th>Leptin</th>\n",
              "      <th>Adiponectin</th>\n",
              "      <th>Resistin</th>\n",
              "      <th>MCP.1</th>\n",
              "      <th>Classification</th>\n",
              "      <th>id</th>\n",
              "    </tr>\n",
              "  </thead>\n",
              "  <tbody>\n",
              "    <tr>\n",
              "      <th>0</th>\n",
              "      <td>48</td>\n",
              "      <td>23.500000</td>\n",
              "      <td>70</td>\n",
              "      <td>2.707</td>\n",
              "      <td>0.467409</td>\n",
              "      <td>8.8071</td>\n",
              "      <td>9.702400</td>\n",
              "      <td>7.99585</td>\n",
              "      <td>417.114</td>\n",
              "      <td>1</td>\n",
              "      <td>1</td>\n",
              "    </tr>\n",
              "    <tr>\n",
              "      <th>1</th>\n",
              "      <td>83</td>\n",
              "      <td>20.690495</td>\n",
              "      <td>92</td>\n",
              "      <td>3.115</td>\n",
              "      <td>0.706897</td>\n",
              "      <td>8.8438</td>\n",
              "      <td>5.429285</td>\n",
              "      <td>4.06405</td>\n",
              "      <td>468.786</td>\n",
              "      <td>1</td>\n",
              "      <td>2</td>\n",
              "    </tr>\n",
              "    <tr>\n",
              "      <th>2</th>\n",
              "      <td>82</td>\n",
              "      <td>23.124670</td>\n",
              "      <td>91</td>\n",
              "      <td>4.498</td>\n",
              "      <td>1.009651</td>\n",
              "      <td>17.9393</td>\n",
              "      <td>22.432040</td>\n",
              "      <td>9.27715</td>\n",
              "      <td>554.697</td>\n",
              "      <td>1</td>\n",
              "      <td>3</td>\n",
              "    </tr>\n",
              "    <tr>\n",
              "      <th>3</th>\n",
              "      <td>68</td>\n",
              "      <td>21.367521</td>\n",
              "      <td>77</td>\n",
              "      <td>3.226</td>\n",
              "      <td>0.612725</td>\n",
              "      <td>9.8827</td>\n",
              "      <td>7.169560</td>\n",
              "      <td>12.76600</td>\n",
              "      <td>928.220</td>\n",
              "      <td>1</td>\n",
              "      <td>4</td>\n",
              "    </tr>\n",
              "    <tr>\n",
              "      <th>4</th>\n",
              "      <td>86</td>\n",
              "      <td>21.111111</td>\n",
              "      <td>92</td>\n",
              "      <td>3.549</td>\n",
              "      <td>0.805386</td>\n",
              "      <td>6.6994</td>\n",
              "      <td>4.819240</td>\n",
              "      <td>10.57635</td>\n",
              "      <td>773.920</td>\n",
              "      <td>1</td>\n",
              "      <td>5</td>\n",
              "    </tr>\n",
              "    <tr>\n",
              "      <th>...</th>\n",
              "      <td>...</td>\n",
              "      <td>...</td>\n",
              "      <td>...</td>\n",
              "      <td>...</td>\n",
              "      <td>...</td>\n",
              "      <td>...</td>\n",
              "      <td>...</td>\n",
              "      <td>...</td>\n",
              "      <td>...</td>\n",
              "      <td>...</td>\n",
              "      <td>...</td>\n",
              "    </tr>\n",
              "    <tr>\n",
              "      <th>111</th>\n",
              "      <td>45</td>\n",
              "      <td>26.850000</td>\n",
              "      <td>92</td>\n",
              "      <td>3.330</td>\n",
              "      <td>0.755688</td>\n",
              "      <td>54.6800</td>\n",
              "      <td>12.100000</td>\n",
              "      <td>10.96000</td>\n",
              "      <td>268.230</td>\n",
              "      <td>2</td>\n",
              "      <td>112</td>\n",
              "    </tr>\n",
              "    <tr>\n",
              "      <th>112</th>\n",
              "      <td>62</td>\n",
              "      <td>26.840000</td>\n",
              "      <td>100</td>\n",
              "      <td>4.530</td>\n",
              "      <td>1.117400</td>\n",
              "      <td>12.4500</td>\n",
              "      <td>21.420000</td>\n",
              "      <td>7.32000</td>\n",
              "      <td>330.160</td>\n",
              "      <td>2</td>\n",
              "      <td>113</td>\n",
              "    </tr>\n",
              "    <tr>\n",
              "      <th>113</th>\n",
              "      <td>65</td>\n",
              "      <td>32.050000</td>\n",
              "      <td>97</td>\n",
              "      <td>5.730</td>\n",
              "      <td>1.370998</td>\n",
              "      <td>61.4800</td>\n",
              "      <td>22.540000</td>\n",
              "      <td>10.33000</td>\n",
              "      <td>314.050</td>\n",
              "      <td>2</td>\n",
              "      <td>114</td>\n",
              "    </tr>\n",
              "    <tr>\n",
              "      <th>114</th>\n",
              "      <td>72</td>\n",
              "      <td>25.590000</td>\n",
              "      <td>82</td>\n",
              "      <td>2.820</td>\n",
              "      <td>0.570392</td>\n",
              "      <td>24.9600</td>\n",
              "      <td>33.750000</td>\n",
              "      <td>3.27000</td>\n",
              "      <td>392.460</td>\n",
              "      <td>2</td>\n",
              "      <td>115</td>\n",
              "    </tr>\n",
              "    <tr>\n",
              "      <th>115</th>\n",
              "      <td>86</td>\n",
              "      <td>27.180000</td>\n",
              "      <td>138</td>\n",
              "      <td>19.910</td>\n",
              "      <td>6.777364</td>\n",
              "      <td>90.2800</td>\n",
              "      <td>14.110000</td>\n",
              "      <td>4.35000</td>\n",
              "      <td>90.090</td>\n",
              "      <td>2</td>\n",
              "      <td>116</td>\n",
              "    </tr>\n",
              "  </tbody>\n",
              "</table>\n",
              "<p>116 rows × 11 columns</p>\n",
              "</div>\n",
              "      <button class=\"colab-df-convert\" onclick=\"convertToInteractive('df-6c975d35-03b2-40c0-ae22-b584f783c172')\"\n",
              "              title=\"Convert this dataframe to an interactive table.\"\n",
              "              style=\"display:none;\">\n",
              "        \n",
              "  <svg xmlns=\"http://www.w3.org/2000/svg\" height=\"24px\"viewBox=\"0 0 24 24\"\n",
              "       width=\"24px\">\n",
              "    <path d=\"M0 0h24v24H0V0z\" fill=\"none\"/>\n",
              "    <path d=\"M18.56 5.44l.94 2.06.94-2.06 2.06-.94-2.06-.94-.94-2.06-.94 2.06-2.06.94zm-11 1L8.5 8.5l.94-2.06 2.06-.94-2.06-.94L8.5 2.5l-.94 2.06-2.06.94zm10 10l.94 2.06.94-2.06 2.06-.94-2.06-.94-.94-2.06-.94 2.06-2.06.94z\"/><path d=\"M17.41 7.96l-1.37-1.37c-.4-.4-.92-.59-1.43-.59-.52 0-1.04.2-1.43.59L10.3 9.45l-7.72 7.72c-.78.78-.78 2.05 0 2.83L4 21.41c.39.39.9.59 1.41.59.51 0 1.02-.2 1.41-.59l7.78-7.78 2.81-2.81c.8-.78.8-2.07 0-2.86zM5.41 20L4 18.59l7.72-7.72 1.47 1.35L5.41 20z\"/>\n",
              "  </svg>\n",
              "      </button>\n",
              "      \n",
              "  <style>\n",
              "    .colab-df-container {\n",
              "      display:flex;\n",
              "      flex-wrap:wrap;\n",
              "      gap: 12px;\n",
              "    }\n",
              "\n",
              "    .colab-df-convert {\n",
              "      background-color: #E8F0FE;\n",
              "      border: none;\n",
              "      border-radius: 50%;\n",
              "      cursor: pointer;\n",
              "      display: none;\n",
              "      fill: #1967D2;\n",
              "      height: 32px;\n",
              "      padding: 0 0 0 0;\n",
              "      width: 32px;\n",
              "    }\n",
              "\n",
              "    .colab-df-convert:hover {\n",
              "      background-color: #E2EBFA;\n",
              "      box-shadow: 0px 1px 2px rgba(60, 64, 67, 0.3), 0px 1px 3px 1px rgba(60, 64, 67, 0.15);\n",
              "      fill: #174EA6;\n",
              "    }\n",
              "\n",
              "    [theme=dark] .colab-df-convert {\n",
              "      background-color: #3B4455;\n",
              "      fill: #D2E3FC;\n",
              "    }\n",
              "\n",
              "    [theme=dark] .colab-df-convert:hover {\n",
              "      background-color: #434B5C;\n",
              "      box-shadow: 0px 1px 3px 1px rgba(0, 0, 0, 0.15);\n",
              "      filter: drop-shadow(0px 1px 2px rgba(0, 0, 0, 0.3));\n",
              "      fill: #FFFFFF;\n",
              "    }\n",
              "  </style>\n",
              "\n",
              "      <script>\n",
              "        const buttonEl =\n",
              "          document.querySelector('#df-6c975d35-03b2-40c0-ae22-b584f783c172 button.colab-df-convert');\n",
              "        buttonEl.style.display =\n",
              "          google.colab.kernel.accessAllowed ? 'block' : 'none';\n",
              "\n",
              "        async function convertToInteractive(key) {\n",
              "          const element = document.querySelector('#df-6c975d35-03b2-40c0-ae22-b584f783c172');\n",
              "          const dataTable =\n",
              "            await google.colab.kernel.invokeFunction('convertToInteractive',\n",
              "                                                     [key], {});\n",
              "          if (!dataTable) return;\n",
              "\n",
              "          const docLinkHtml = 'Like what you see? Visit the ' +\n",
              "            '<a target=\"_blank\" href=https://colab.research.google.com/notebooks/data_table.ipynb>data table notebook</a>'\n",
              "            + ' to learn more about interactive tables.';\n",
              "          element.innerHTML = '';\n",
              "          dataTable['output_type'] = 'display_data';\n",
              "          await google.colab.output.renderOutput(dataTable, element);\n",
              "          const docLink = document.createElement('div');\n",
              "          docLink.innerHTML = docLinkHtml;\n",
              "          element.appendChild(docLink);\n",
              "        }\n",
              "      </script>\n",
              "    </div>\n",
              "  </div>\n",
              "  "
            ]
          },
          "metadata": {},
          "execution_count": 30
        }
      ],
      "source": [
        "data['id'] = data.index+1\n",
        "data"
      ]
    },
    {
      "cell_type": "markdown",
      "metadata": {
        "id": "YuciVoYE2WdH"
      },
      "source": [
        "# Age as a Variable"
      ]
    },
    {
      "cell_type": "code",
      "execution_count": 32,
      "metadata": {
        "id": "bXFGxRay2WdI",
        "outputId": "42046cf4-5e8a-4eb3-de15-8b76212356ef",
        "colab": {
          "base_uri": "https://localhost:8080/"
        }
      },
      "outputs": [
        {
          "output_type": "execute_result",
          "data": {
            "text/plain": [
              "2    64\n",
              "1    52\n",
              "Name: Classification, dtype: int64"
            ]
          },
          "metadata": {},
          "execution_count": 32
        }
      ],
      "source": [
        "data['Classification'].value_counts()"
      ]
    },
    {
      "cell_type": "code",
      "source": [
        "#data.groupby(by='Age')['id'].count()\n",
        "data.groupby(by=['Classification']).agg({'Age': ['min', 'max', 'mean', 'std']})"
      ],
      "metadata": {
        "colab": {
          "base_uri": "https://localhost:8080/",
          "height": 0
        },
        "id": "WafrKG6DxSci",
        "outputId": "4b1f4283-e4fc-4fad-bae2-dcad87978a07"
      },
      "execution_count": 33,
      "outputs": [
        {
          "output_type": "execute_result",
          "data": {
            "text/plain": [
              "               Age                          \n",
              "               min max       mean        std\n",
              "Classification                              \n",
              "1               24  89  58.076923  18.957999\n",
              "2               34  86  56.671875  13.493155"
            ],
            "text/html": [
              "\n",
              "  <div id=\"df-10505b48-4d84-4318-ad9a-e6b9f9ff405c\">\n",
              "    <div class=\"colab-df-container\">\n",
              "      <div>\n",
              "<style scoped>\n",
              "    .dataframe tbody tr th:only-of-type {\n",
              "        vertical-align: middle;\n",
              "    }\n",
              "\n",
              "    .dataframe tbody tr th {\n",
              "        vertical-align: top;\n",
              "    }\n",
              "\n",
              "    .dataframe thead tr th {\n",
              "        text-align: left;\n",
              "    }\n",
              "\n",
              "    .dataframe thead tr:last-of-type th {\n",
              "        text-align: right;\n",
              "    }\n",
              "</style>\n",
              "<table border=\"1\" class=\"dataframe\">\n",
              "  <thead>\n",
              "    <tr>\n",
              "      <th></th>\n",
              "      <th colspan=\"4\" halign=\"left\">Age</th>\n",
              "    </tr>\n",
              "    <tr>\n",
              "      <th></th>\n",
              "      <th>min</th>\n",
              "      <th>max</th>\n",
              "      <th>mean</th>\n",
              "      <th>std</th>\n",
              "    </tr>\n",
              "    <tr>\n",
              "      <th>Classification</th>\n",
              "      <th></th>\n",
              "      <th></th>\n",
              "      <th></th>\n",
              "      <th></th>\n",
              "    </tr>\n",
              "  </thead>\n",
              "  <tbody>\n",
              "    <tr>\n",
              "      <th>1</th>\n",
              "      <td>24</td>\n",
              "      <td>89</td>\n",
              "      <td>58.076923</td>\n",
              "      <td>18.957999</td>\n",
              "    </tr>\n",
              "    <tr>\n",
              "      <th>2</th>\n",
              "      <td>34</td>\n",
              "      <td>86</td>\n",
              "      <td>56.671875</td>\n",
              "      <td>13.493155</td>\n",
              "    </tr>\n",
              "  </tbody>\n",
              "</table>\n",
              "</div>\n",
              "      <button class=\"colab-df-convert\" onclick=\"convertToInteractive('df-10505b48-4d84-4318-ad9a-e6b9f9ff405c')\"\n",
              "              title=\"Convert this dataframe to an interactive table.\"\n",
              "              style=\"display:none;\">\n",
              "        \n",
              "  <svg xmlns=\"http://www.w3.org/2000/svg\" height=\"24px\"viewBox=\"0 0 24 24\"\n",
              "       width=\"24px\">\n",
              "    <path d=\"M0 0h24v24H0V0z\" fill=\"none\"/>\n",
              "    <path d=\"M18.56 5.44l.94 2.06.94-2.06 2.06-.94-2.06-.94-.94-2.06-.94 2.06-2.06.94zm-11 1L8.5 8.5l.94-2.06 2.06-.94-2.06-.94L8.5 2.5l-.94 2.06-2.06.94zm10 10l.94 2.06.94-2.06 2.06-.94-2.06-.94-.94-2.06-.94 2.06-2.06.94z\"/><path d=\"M17.41 7.96l-1.37-1.37c-.4-.4-.92-.59-1.43-.59-.52 0-1.04.2-1.43.59L10.3 9.45l-7.72 7.72c-.78.78-.78 2.05 0 2.83L4 21.41c.39.39.9.59 1.41.59.51 0 1.02-.2 1.41-.59l7.78-7.78 2.81-2.81c.8-.78.8-2.07 0-2.86zM5.41 20L4 18.59l7.72-7.72 1.47 1.35L5.41 20z\"/>\n",
              "  </svg>\n",
              "      </button>\n",
              "      \n",
              "  <style>\n",
              "    .colab-df-container {\n",
              "      display:flex;\n",
              "      flex-wrap:wrap;\n",
              "      gap: 12px;\n",
              "    }\n",
              "\n",
              "    .colab-df-convert {\n",
              "      background-color: #E8F0FE;\n",
              "      border: none;\n",
              "      border-radius: 50%;\n",
              "      cursor: pointer;\n",
              "      display: none;\n",
              "      fill: #1967D2;\n",
              "      height: 32px;\n",
              "      padding: 0 0 0 0;\n",
              "      width: 32px;\n",
              "    }\n",
              "\n",
              "    .colab-df-convert:hover {\n",
              "      background-color: #E2EBFA;\n",
              "      box-shadow: 0px 1px 2px rgba(60, 64, 67, 0.3), 0px 1px 3px 1px rgba(60, 64, 67, 0.15);\n",
              "      fill: #174EA6;\n",
              "    }\n",
              "\n",
              "    [theme=dark] .colab-df-convert {\n",
              "      background-color: #3B4455;\n",
              "      fill: #D2E3FC;\n",
              "    }\n",
              "\n",
              "    [theme=dark] .colab-df-convert:hover {\n",
              "      background-color: #434B5C;\n",
              "      box-shadow: 0px 1px 3px 1px rgba(0, 0, 0, 0.15);\n",
              "      filter: drop-shadow(0px 1px 2px rgba(0, 0, 0, 0.3));\n",
              "      fill: #FFFFFF;\n",
              "    }\n",
              "  </style>\n",
              "\n",
              "      <script>\n",
              "        const buttonEl =\n",
              "          document.querySelector('#df-10505b48-4d84-4318-ad9a-e6b9f9ff405c button.colab-df-convert');\n",
              "        buttonEl.style.display =\n",
              "          google.colab.kernel.accessAllowed ? 'block' : 'none';\n",
              "\n",
              "        async function convertToInteractive(key) {\n",
              "          const element = document.querySelector('#df-10505b48-4d84-4318-ad9a-e6b9f9ff405c');\n",
              "          const dataTable =\n",
              "            await google.colab.kernel.invokeFunction('convertToInteractive',\n",
              "                                                     [key], {});\n",
              "          if (!dataTable) return;\n",
              "\n",
              "          const docLinkHtml = 'Like what you see? Visit the ' +\n",
              "            '<a target=\"_blank\" href=https://colab.research.google.com/notebooks/data_table.ipynb>data table notebook</a>'\n",
              "            + ' to learn more about interactive tables.';\n",
              "          element.innerHTML = '';\n",
              "          dataTable['output_type'] = 'display_data';\n",
              "          await google.colab.output.renderOutput(dataTable, element);\n",
              "          const docLink = document.createElement('div');\n",
              "          docLink.innerHTML = docLinkHtml;\n",
              "          element.appendChild(docLink);\n",
              "        }\n",
              "      </script>\n",
              "    </div>\n",
              "  </div>\n",
              "  "
            ]
          },
          "metadata": {},
          "execution_count": 33
        }
      ]
    },
    {
      "cell_type": "code",
      "execution_count": 34,
      "metadata": {
        "id": "u1_qL3D22WdK",
        "outputId": "09fc4687-afcf-4120-bd74-3db2725ffb9e",
        "colab": {
          "base_uri": "https://localhost:8080/"
        }
      },
      "outputs": [
        {
          "output_type": "execute_result",
          "data": {
            "text/plain": [
              "array([48, 83, 82, 68, 86, 49, 89, 76, 73, 75, 34, 29, 25, 24, 38, 44, 47,\n",
              "       61, 64, 32, 36, 35, 54, 45, 50, 66, 53, 28, 43, 51, 67, 69, 60, 77,\n",
              "       71, 78, 85, 42, 62, 59, 46, 72, 55, 41, 81, 65, 58, 40, 52, 74, 57])"
            ]
          },
          "metadata": {},
          "execution_count": 34
        }
      ],
      "source": [
        "data['Age'].unique()"
      ]
    },
    {
      "cell_type": "code",
      "execution_count": 35,
      "metadata": {
        "id": "O5pIcko32WdN",
        "outputId": "e22446d7-a3d2-4649-abf6-1499a86bc2ef",
        "colab": {
          "base_uri": "https://localhost:8080/"
        }
      },
      "outputs": [
        {
          "output_type": "execute_result",
          "data": {
            "text/plain": [
              "Index(['Age', 'BMI', 'Glucose', 'Insulin', 'HOMA', 'Leptin', 'Adiponectin',\n",
              "       'Resistin', 'MCP.1', 'Classification', 'id'],\n",
              "      dtype='object')"
            ]
          },
          "metadata": {},
          "execution_count": 35
        }
      ],
      "source": [
        "data.columns"
      ]
    },
    {
      "cell_type": "code",
      "source": [
        "X_variables = ['Age',  'BMI', 'Glucose', 'Insulin', 'HOMA', 'Leptin', 'Adiponectin', 'Resistin', 'MCP.1']\n",
        "data[X_variables].head()"
      ],
      "metadata": {
        "colab": {
          "base_uri": "https://localhost:8080/",
          "height": 0
        },
        "id": "kLT0DiXH9mFl",
        "outputId": "98e90fd3-1fed-4779-e9ee-7fa44befd299"
      },
      "execution_count": 36,
      "outputs": [
        {
          "output_type": "execute_result",
          "data": {
            "text/plain": [
              "   Age        BMI  Glucose  Insulin      HOMA   Leptin  Adiponectin  Resistin  \\\n",
              "0   48  23.500000       70    2.707  0.467409   8.8071     9.702400   7.99585   \n",
              "1   83  20.690495       92    3.115  0.706897   8.8438     5.429285   4.06405   \n",
              "2   82  23.124670       91    4.498  1.009651  17.9393    22.432040   9.27715   \n",
              "3   68  21.367521       77    3.226  0.612725   9.8827     7.169560  12.76600   \n",
              "4   86  21.111111       92    3.549  0.805386   6.6994     4.819240  10.57635   \n",
              "\n",
              "     MCP.1  \n",
              "0  417.114  \n",
              "1  468.786  \n",
              "2  554.697  \n",
              "3  928.220  \n",
              "4  773.920  "
            ],
            "text/html": [
              "\n",
              "  <div id=\"df-47d19ad5-113a-45f8-9398-2d2b444602ee\">\n",
              "    <div class=\"colab-df-container\">\n",
              "      <div>\n",
              "<style scoped>\n",
              "    .dataframe tbody tr th:only-of-type {\n",
              "        vertical-align: middle;\n",
              "    }\n",
              "\n",
              "    .dataframe tbody tr th {\n",
              "        vertical-align: top;\n",
              "    }\n",
              "\n",
              "    .dataframe thead th {\n",
              "        text-align: right;\n",
              "    }\n",
              "</style>\n",
              "<table border=\"1\" class=\"dataframe\">\n",
              "  <thead>\n",
              "    <tr style=\"text-align: right;\">\n",
              "      <th></th>\n",
              "      <th>Age</th>\n",
              "      <th>BMI</th>\n",
              "      <th>Glucose</th>\n",
              "      <th>Insulin</th>\n",
              "      <th>HOMA</th>\n",
              "      <th>Leptin</th>\n",
              "      <th>Adiponectin</th>\n",
              "      <th>Resistin</th>\n",
              "      <th>MCP.1</th>\n",
              "    </tr>\n",
              "  </thead>\n",
              "  <tbody>\n",
              "    <tr>\n",
              "      <th>0</th>\n",
              "      <td>48</td>\n",
              "      <td>23.500000</td>\n",
              "      <td>70</td>\n",
              "      <td>2.707</td>\n",
              "      <td>0.467409</td>\n",
              "      <td>8.8071</td>\n",
              "      <td>9.702400</td>\n",
              "      <td>7.99585</td>\n",
              "      <td>417.114</td>\n",
              "    </tr>\n",
              "    <tr>\n",
              "      <th>1</th>\n",
              "      <td>83</td>\n",
              "      <td>20.690495</td>\n",
              "      <td>92</td>\n",
              "      <td>3.115</td>\n",
              "      <td>0.706897</td>\n",
              "      <td>8.8438</td>\n",
              "      <td>5.429285</td>\n",
              "      <td>4.06405</td>\n",
              "      <td>468.786</td>\n",
              "    </tr>\n",
              "    <tr>\n",
              "      <th>2</th>\n",
              "      <td>82</td>\n",
              "      <td>23.124670</td>\n",
              "      <td>91</td>\n",
              "      <td>4.498</td>\n",
              "      <td>1.009651</td>\n",
              "      <td>17.9393</td>\n",
              "      <td>22.432040</td>\n",
              "      <td>9.27715</td>\n",
              "      <td>554.697</td>\n",
              "    </tr>\n",
              "    <tr>\n",
              "      <th>3</th>\n",
              "      <td>68</td>\n",
              "      <td>21.367521</td>\n",
              "      <td>77</td>\n",
              "      <td>3.226</td>\n",
              "      <td>0.612725</td>\n",
              "      <td>9.8827</td>\n",
              "      <td>7.169560</td>\n",
              "      <td>12.76600</td>\n",
              "      <td>928.220</td>\n",
              "    </tr>\n",
              "    <tr>\n",
              "      <th>4</th>\n",
              "      <td>86</td>\n",
              "      <td>21.111111</td>\n",
              "      <td>92</td>\n",
              "      <td>3.549</td>\n",
              "      <td>0.805386</td>\n",
              "      <td>6.6994</td>\n",
              "      <td>4.819240</td>\n",
              "      <td>10.57635</td>\n",
              "      <td>773.920</td>\n",
              "    </tr>\n",
              "  </tbody>\n",
              "</table>\n",
              "</div>\n",
              "      <button class=\"colab-df-convert\" onclick=\"convertToInteractive('df-47d19ad5-113a-45f8-9398-2d2b444602ee')\"\n",
              "              title=\"Convert this dataframe to an interactive table.\"\n",
              "              style=\"display:none;\">\n",
              "        \n",
              "  <svg xmlns=\"http://www.w3.org/2000/svg\" height=\"24px\"viewBox=\"0 0 24 24\"\n",
              "       width=\"24px\">\n",
              "    <path d=\"M0 0h24v24H0V0z\" fill=\"none\"/>\n",
              "    <path d=\"M18.56 5.44l.94 2.06.94-2.06 2.06-.94-2.06-.94-.94-2.06-.94 2.06-2.06.94zm-11 1L8.5 8.5l.94-2.06 2.06-.94-2.06-.94L8.5 2.5l-.94 2.06-2.06.94zm10 10l.94 2.06.94-2.06 2.06-.94-2.06-.94-.94-2.06-.94 2.06-2.06.94z\"/><path d=\"M17.41 7.96l-1.37-1.37c-.4-.4-.92-.59-1.43-.59-.52 0-1.04.2-1.43.59L10.3 9.45l-7.72 7.72c-.78.78-.78 2.05 0 2.83L4 21.41c.39.39.9.59 1.41.59.51 0 1.02-.2 1.41-.59l7.78-7.78 2.81-2.81c.8-.78.8-2.07 0-2.86zM5.41 20L4 18.59l7.72-7.72 1.47 1.35L5.41 20z\"/>\n",
              "  </svg>\n",
              "      </button>\n",
              "      \n",
              "  <style>\n",
              "    .colab-df-container {\n",
              "      display:flex;\n",
              "      flex-wrap:wrap;\n",
              "      gap: 12px;\n",
              "    }\n",
              "\n",
              "    .colab-df-convert {\n",
              "      background-color: #E8F0FE;\n",
              "      border: none;\n",
              "      border-radius: 50%;\n",
              "      cursor: pointer;\n",
              "      display: none;\n",
              "      fill: #1967D2;\n",
              "      height: 32px;\n",
              "      padding: 0 0 0 0;\n",
              "      width: 32px;\n",
              "    }\n",
              "\n",
              "    .colab-df-convert:hover {\n",
              "      background-color: #E2EBFA;\n",
              "      box-shadow: 0px 1px 2px rgba(60, 64, 67, 0.3), 0px 1px 3px 1px rgba(60, 64, 67, 0.15);\n",
              "      fill: #174EA6;\n",
              "    }\n",
              "\n",
              "    [theme=dark] .colab-df-convert {\n",
              "      background-color: #3B4455;\n",
              "      fill: #D2E3FC;\n",
              "    }\n",
              "\n",
              "    [theme=dark] .colab-df-convert:hover {\n",
              "      background-color: #434B5C;\n",
              "      box-shadow: 0px 1px 3px 1px rgba(0, 0, 0, 0.15);\n",
              "      filter: drop-shadow(0px 1px 2px rgba(0, 0, 0, 0.3));\n",
              "      fill: #FFFFFF;\n",
              "    }\n",
              "  </style>\n",
              "\n",
              "      <script>\n",
              "        const buttonEl =\n",
              "          document.querySelector('#df-47d19ad5-113a-45f8-9398-2d2b444602ee button.colab-df-convert');\n",
              "        buttonEl.style.display =\n",
              "          google.colab.kernel.accessAllowed ? 'block' : 'none';\n",
              "\n",
              "        async function convertToInteractive(key) {\n",
              "          const element = document.querySelector('#df-47d19ad5-113a-45f8-9398-2d2b444602ee');\n",
              "          const dataTable =\n",
              "            await google.colab.kernel.invokeFunction('convertToInteractive',\n",
              "                                                     [key], {});\n",
              "          if (!dataTable) return;\n",
              "\n",
              "          const docLinkHtml = 'Like what you see? Visit the ' +\n",
              "            '<a target=\"_blank\" href=https://colab.research.google.com/notebooks/data_table.ipynb>data table notebook</a>'\n",
              "            + ' to learn more about interactive tables.';\n",
              "          element.innerHTML = '';\n",
              "          dataTable['output_type'] = 'display_data';\n",
              "          await google.colab.output.renderOutput(dataTable, element);\n",
              "          const docLink = document.createElement('div');\n",
              "          docLink.innerHTML = docLinkHtml;\n",
              "          element.appendChild(docLink);\n",
              "        }\n",
              "      </script>\n",
              "    </div>\n",
              "  </div>\n",
              "  "
            ]
          },
          "metadata": {},
          "execution_count": 36
        }
      ]
    },
    {
      "cell_type": "code",
      "source": [
        "y_varibale = 'Classification'\n",
        "data[y_varibale].head()"
      ],
      "metadata": {
        "colab": {
          "base_uri": "https://localhost:8080/"
        },
        "id": "NCZ17Pw5-ijB",
        "outputId": "c5c2999c-0e0f-4fef-c630-4267055d36f3"
      },
      "execution_count": 37,
      "outputs": [
        {
          "output_type": "execute_result",
          "data": {
            "text/plain": [
              "0    1\n",
              "1    1\n",
              "2    1\n",
              "3    1\n",
              "4    1\n",
              "Name: Classification, dtype: int64"
            ]
          },
          "metadata": {},
          "execution_count": 37
        }
      ]
    },
    {
      "cell_type": "code",
      "source": [
        "X = data[X_variables].values"
      ],
      "metadata": {
        "id": "olVvgNTy-wP5"
      },
      "execution_count": 38,
      "outputs": []
    },
    {
      "cell_type": "code",
      "source": [
        "y = data[y_varibale].values\n",
        "y"
      ],
      "metadata": {
        "colab": {
          "base_uri": "https://localhost:8080/"
        },
        "id": "7MLhy9iL_Oxm",
        "outputId": "b72194ac-cb29-440b-9093-3c46be75b4d1"
      },
      "execution_count": 39,
      "outputs": [
        {
          "output_type": "execute_result",
          "data": {
            "text/plain": [
              "array([1, 1, 1, 1, 1, 1, 1, 1, 1, 1, 1, 1, 1, 1, 1, 1, 1, 1, 1, 1, 1, 1,\n",
              "       1, 1, 1, 1, 1, 1, 1, 1, 1, 1, 1, 1, 1, 1, 1, 1, 1, 1, 1, 1, 1, 1,\n",
              "       1, 1, 1, 1, 1, 1, 1, 1, 2, 2, 2, 2, 2, 2, 2, 2, 2, 2, 2, 2, 2, 2,\n",
              "       2, 2, 2, 2, 2, 2, 2, 2, 2, 2, 2, 2, 2, 2, 2, 2, 2, 2, 2, 2, 2, 2,\n",
              "       2, 2, 2, 2, 2, 2, 2, 2, 2, 2, 2, 2, 2, 2, 2, 2, 2, 2, 2, 2, 2, 2,\n",
              "       2, 2, 2, 2, 2, 2])"
            ]
          },
          "metadata": {},
          "execution_count": 39
        }
      ]
    },
    {
      "cell_type": "markdown",
      "source": [
        "# Data Pre-processing Function"
      ],
      "metadata": {
        "id": "9ZBqmBQ5YCno"
      }
    },
    {
      "cell_type": "code",
      "source": [
        "def pre_processing(data):    \n",
        "    data['id'] = data.index+1\n",
        "\n",
        "    \n",
        "    # Select Columns\n",
        "    X_variables = ['Age',  'BMI', 'Glucose', 'Insulin', 'HOMA', 'Leptin', 'Adiponectin', 'Resistin', 'MCP.1']\n",
        "    \n",
        "    # Assign 0 to missing columns\n",
        "    for x in list(set(X_variables) - set(data.columns)):\n",
        "        data[x] = 0\n",
        "        \n",
        "    return data[X_variables]"
      ],
      "metadata": {
        "id": "cJ21xBtGYGsW"
      },
      "execution_count": 40,
      "outputs": []
    },
    {
      "cell_type": "markdown",
      "metadata": {
        "id": "P9MV__4K2Wdc"
      },
      "source": [
        "# Train Test Split"
      ]
    },
    {
      "cell_type": "code",
      "execution_count": 41,
      "metadata": {
        "id": "kvU_le-F2Wdc",
        "outputId": "9b85af24-cfa0-4d58-d187-9343ce0510e8",
        "colab": {
          "base_uri": "https://localhost:8080/"
        }
      },
      "outputs": [
        {
          "output_type": "stream",
          "name": "stdout",
          "text": [
            "Train sample size = 81\n",
            "Test sample size  = 35\n"
          ]
        }
      ],
      "source": [
        "X_train, X_test, y_train, y_test = train_test_split(X, y, test_size=0.3, random_state=42)\n",
        "\n",
        "print(F\"Train sample size = {len(X_train)}\")\n",
        "print(F\"Test sample size  = {len(X_test)}\")"
      ]
    },
    {
      "cell_type": "markdown",
      "metadata": {
        "id": "lLy5zh-B2Wdd"
      },
      "source": [
        "# Model Training"
      ]
    },
    {
      "cell_type": "code",
      "execution_count": 42,
      "metadata": {
        "id": "vXSw76ts2Wdd"
      },
      "outputs": [],
      "source": [
        "#Training Function \n",
        "#Prediction also included\n",
        "def model_train(model, model_name, X_train, y_train, X_test, y_test):\n",
        "    model.fit(X_train, y_train)\n",
        "\n",
        "    #Prediction\n",
        "    y_pred = model.predict(X_test)\n",
        "    y_pred_prob = model.predict_proba(X_test)[:, 1]\n",
        "    test_result = pd.DataFrame(data={'y_act':y_test, 'y_pred':y_pred, 'y_pred_prob':y_pred_prob})\n",
        "    #test_result.sample(10)\n",
        "\n",
        "    #Model Evaluation\n",
        "    accuracy = metrics.accuracy_score(test_result['y_act'], test_result['y_pred']) \n",
        "    precision = metrics.precision_score(test_result['y_act'], test_result['y_pred'], average='binary', pos_label=1)\n",
        "    f1_score = metrics.f1_score(test_result['y_act'], test_result['y_pred'], average='weighted')  #weighted accounts for label imbalance.\n",
        "    roc_auc = metrics.roc_auc_score(test_result['y_act'], test_result['y_pred_prob'])\n",
        "\n",
        "    return ({'model_name':model_name, \n",
        "                   'model':model, \n",
        "                   'accuracy':accuracy, \n",
        "                   'precision':precision,\n",
        "                  'f1_score':f1_score,\n",
        "                  'roc_auc':roc_auc,\n",
        "                  'test':test_result.sample(10),\n",
        "                  })"
      ]
    },
    {
      "cell_type": "code",
      "execution_count": 43,
      "metadata": {
        "id": "tO_0I43P2Wdd",
        "outputId": "3951e2dd-93d8-4e69-f2ef-115d1a740c70",
        "colab": {
          "base_uri": "https://localhost:8080/"
        }
      },
      "outputs": [
        {
          "output_type": "stream",
          "name": "stderr",
          "text": [
            "[Parallel(n_jobs=3)]: Using backend ThreadingBackend with 3 concurrent workers.\n",
            "[Parallel(n_jobs=3)]: Done  44 tasks      | elapsed:    0.1s\n",
            "[Parallel(n_jobs=3)]: Done 194 tasks      | elapsed:    0.4s\n",
            "[Parallel(n_jobs=3)]: Done 444 tasks      | elapsed:    0.8s\n",
            "[Parallel(n_jobs=3)]: Done 500 out of 500 | elapsed:    0.9s finished\n",
            "[Parallel(n_jobs=3)]: Using backend ThreadingBackend with 3 concurrent workers.\n",
            "[Parallel(n_jobs=3)]: Done  44 tasks      | elapsed:    0.0s\n",
            "[Parallel(n_jobs=3)]: Done 194 tasks      | elapsed:    0.1s\n",
            "[Parallel(n_jobs=3)]: Done 444 tasks      | elapsed:    0.1s\n",
            "[Parallel(n_jobs=3)]: Done 500 out of 500 | elapsed:    0.1s finished\n",
            "[Parallel(n_jobs=3)]: Using backend ThreadingBackend with 3 concurrent workers.\n",
            "[Parallel(n_jobs=3)]: Done  44 tasks      | elapsed:    0.0s\n",
            "[Parallel(n_jobs=3)]: Done 194 tasks      | elapsed:    0.0s\n",
            "[Parallel(n_jobs=3)]: Done 444 tasks      | elapsed:    0.1s\n",
            "[Parallel(n_jobs=3)]: Done 500 out of 500 | elapsed:    0.1s finished\n"
          ]
        },
        {
          "output_type": "execute_result",
          "data": {
            "text/plain": [
              "{'accuracy': 0.6571428571428571,\n",
              " 'f1_score': 0.6571428571428571,\n",
              " 'model': RandomForestClassifier(max_depth=10, n_estimators=500, n_jobs=3, verbose=1),\n",
              " 'model_name': 'rf_new0',\n",
              " 'precision': 0.6470588235294118,\n",
              " 'roc_auc': 0.7712418300653594,\n",
              " 'test':     y_act  y_pred  y_pred_prob\n",
              " 2       1       1        0.102\n",
              " 12      2       2        0.888\n",
              " 23      1       1        0.140\n",
              " 13      2       1        0.392\n",
              " 34      2       2        0.854\n",
              " 11      1       2        0.742\n",
              " 16      2       2        0.718\n",
              " 14      1       2        0.580\n",
              " 25      2       1        0.488\n",
              " 32      2       1        0.440}"
            ]
          },
          "metadata": {},
          "execution_count": 43
        }
      ],
      "source": [
        "#Train the model & do the prediction\n",
        "#RandomForest Classifier\n",
        "model0 = model_train(RandomForestClassifier(n_estimators=500, max_depth=10, n_jobs=3, verbose=1), 'rf_new0', X_train, y_train, X_test, y_test)\n",
        "#Print the output\n",
        "model0"
      ]
    },
    {
      "cell_type": "code",
      "source": [
        "#DecisionTreeClassifier \n",
        "model1 = model_train(DecisionTreeClassifier(random_state=0, max_depth=10, min_samples_split=20), 'rf_new1', X_train, y_train, X_test, y_test)\n",
        "model1"
      ],
      "metadata": {
        "colab": {
          "base_uri": "https://localhost:8080/"
        },
        "id": "iL-5zKWwByWD",
        "outputId": "6a9c0ff8-d6fd-4e2e-e2c0-4513b08eee76"
      },
      "execution_count": 44,
      "outputs": [
        {
          "output_type": "execute_result",
          "data": {
            "text/plain": [
              "{'accuracy': 0.6857142857142857,\n",
              " 'f1_score': 0.6841698841698842,\n",
              " 'model': DecisionTreeClassifier(max_depth=10, min_samples_split=20, random_state=0),\n",
              " 'model_name': 'rf_new1',\n",
              " 'precision': 0.65,\n",
              " 'roc_auc': 0.772875816993464,\n",
              " 'test':     y_act  y_pred  y_pred_prob\n",
              " 8       2       2     1.000000\n",
              " 14      1       2     1.000000\n",
              " 24      1       1     0.058824\n",
              " 17      2       1     0.416667\n",
              " 11      1       2     1.000000\n",
              " 18      2       2     0.714286\n",
              " 28      2       2     1.000000\n",
              " 2       1       1     0.058824\n",
              " 31      2       1     0.058824\n",
              " 19      2       1     0.416667}"
            ]
          },
          "metadata": {},
          "execution_count": 44
        }
      ]
    },
    {
      "cell_type": "markdown",
      "metadata": {
        "id": "BORIsw0A2Wde"
      },
      "source": [
        "# Fitting Multipe Models with Different Hyperparamaters"
      ]
    },
    {
      "cell_type": "markdown",
      "metadata": {
        "id": "BS-WekYM2Wde"
      },
      "source": [
        "## [A] Manualy explore hyperparameter space"
      ]
    },
    {
      "cell_type": "code",
      "execution_count": 45,
      "metadata": {
        "scrolled": true,
        "id": "n5ajVIyF2Wde",
        "outputId": "102838ae-7ea7-46e8-98f4-26f4042d172e",
        "colab": {
          "base_uri": "https://localhost:8080/",
          "height": 0
        }
      },
      "outputs": [
        {
          "output_type": "stream",
          "name": "stderr",
          "text": [
            "[Parallel(n_jobs=3)]: Using backend ThreadingBackend with 3 concurrent workers.\n",
            "[Parallel(n_jobs=3)]: Done  44 tasks      | elapsed:    0.1s\n",
            "[Parallel(n_jobs=3)]: Done 100 out of 100 | elapsed:    0.2s finished\n",
            "[Parallel(n_jobs=3)]: Using backend ThreadingBackend with 3 concurrent workers.\n",
            "[Parallel(n_jobs=3)]: Done  44 tasks      | elapsed:    0.0s\n",
            "[Parallel(n_jobs=3)]: Done 100 out of 100 | elapsed:    0.0s finished\n",
            "[Parallel(n_jobs=3)]: Using backend ThreadingBackend with 3 concurrent workers.\n",
            "[Parallel(n_jobs=3)]: Done  44 tasks      | elapsed:    0.0s\n",
            "[Parallel(n_jobs=3)]: Done 100 out of 100 | elapsed:    0.0s finished\n",
            "[Parallel(n_jobs=3)]: Using backend ThreadingBackend with 3 concurrent workers.\n",
            "[Parallel(n_jobs=3)]: Done  44 tasks      | elapsed:    0.1s\n",
            "[Parallel(n_jobs=3)]: Done 194 tasks      | elapsed:    0.3s\n",
            "[Parallel(n_jobs=3)]: Done 444 tasks      | elapsed:    0.8s\n",
            "[Parallel(n_jobs=3)]: Done 500 out of 500 | elapsed:    0.9s finished\n",
            "[Parallel(n_jobs=3)]: Using backend ThreadingBackend with 3 concurrent workers.\n",
            "[Parallel(n_jobs=3)]: Done  44 tasks      | elapsed:    0.0s\n",
            "[Parallel(n_jobs=3)]: Done 194 tasks      | elapsed:    0.0s\n",
            "[Parallel(n_jobs=3)]: Done 444 tasks      | elapsed:    0.1s\n",
            "[Parallel(n_jobs=3)]: Done 500 out of 500 | elapsed:    0.1s finished\n",
            "[Parallel(n_jobs=3)]: Using backend ThreadingBackend with 3 concurrent workers.\n",
            "[Parallel(n_jobs=3)]: Done  44 tasks      | elapsed:    0.0s\n",
            "[Parallel(n_jobs=3)]: Done 194 tasks      | elapsed:    0.0s\n",
            "[Parallel(n_jobs=3)]: Done 444 tasks      | elapsed:    0.1s\n",
            "[Parallel(n_jobs=3)]: Done 500 out of 500 | elapsed:    0.1s finished\n",
            "[Parallel(n_jobs=3)]: Using backend ThreadingBackend with 3 concurrent workers.\n",
            "[Parallel(n_jobs=3)]: Done  44 tasks      | elapsed:    0.1s\n",
            "[Parallel(n_jobs=3)]: Done 194 tasks      | elapsed:    0.3s\n",
            "[Parallel(n_jobs=3)]: Done 444 tasks      | elapsed:    0.8s\n",
            "[Parallel(n_jobs=3)]: Done 500 out of 500 | elapsed:    0.9s finished\n",
            "[Parallel(n_jobs=3)]: Using backend ThreadingBackend with 3 concurrent workers.\n",
            "[Parallel(n_jobs=3)]: Done  44 tasks      | elapsed:    0.0s\n",
            "[Parallel(n_jobs=3)]: Done 194 tasks      | elapsed:    0.0s\n",
            "[Parallel(n_jobs=3)]: Done 444 tasks      | elapsed:    0.1s\n",
            "[Parallel(n_jobs=3)]: Done 500 out of 500 | elapsed:    0.1s finished\n",
            "[Parallel(n_jobs=3)]: Using backend ThreadingBackend with 3 concurrent workers.\n",
            "[Parallel(n_jobs=3)]: Done  44 tasks      | elapsed:    0.0s\n",
            "[Parallel(n_jobs=3)]: Done 194 tasks      | elapsed:    0.0s\n",
            "[Parallel(n_jobs=3)]: Done 444 tasks      | elapsed:    0.1s\n",
            "[Parallel(n_jobs=3)]: Done 500 out of 500 | elapsed:    0.1s finished\n",
            "[Parallel(n_jobs=3)]: Using backend ThreadingBackend with 3 concurrent workers.\n",
            "[Parallel(n_jobs=3)]: Done  44 tasks      | elapsed:    0.1s\n",
            "[Parallel(n_jobs=3)]: Done 194 tasks      | elapsed:    0.3s\n",
            "[Parallel(n_jobs=3)]: Done 444 tasks      | elapsed:    0.8s\n",
            "[Parallel(n_jobs=3)]: Done 500 out of 500 | elapsed:    0.9s finished\n",
            "[Parallel(n_jobs=3)]: Using backend ThreadingBackend with 3 concurrent workers.\n",
            "[Parallel(n_jobs=3)]: Done  44 tasks      | elapsed:    0.0s\n",
            "[Parallel(n_jobs=3)]: Done 194 tasks      | elapsed:    0.0s\n",
            "[Parallel(n_jobs=3)]: Done 444 tasks      | elapsed:    0.1s\n",
            "[Parallel(n_jobs=3)]: Done 500 out of 500 | elapsed:    0.1s finished\n",
            "[Parallel(n_jobs=3)]: Using backend ThreadingBackend with 3 concurrent workers.\n",
            "[Parallel(n_jobs=3)]: Done  44 tasks      | elapsed:    0.0s\n",
            "[Parallel(n_jobs=3)]: Done 194 tasks      | elapsed:    0.0s\n",
            "[Parallel(n_jobs=3)]: Done 444 tasks      | elapsed:    0.1s\n",
            "[Parallel(n_jobs=3)]: Done 500 out of 500 | elapsed:    0.1s finished\n"
          ]
        },
        {
          "output_type": "execute_result",
          "data": {
            "text/plain": [
              "  model_name                                              model  accuracy  \\\n",
              "0        dt1  DecisionTreeClassifier(max_depth=5, min_sample...  0.800000   \n",
              "1        dt2  DecisionTreeClassifier(max_depth=10, min_sampl...  0.685714   \n",
              "2        dt3  DecisionTreeClassifier(max_depth=20, min_sampl...  0.628571   \n",
              "3        rf1  (DecisionTreeClassifier(max_features='auto', r...  0.657143   \n",
              "4        rf2  (DecisionTreeClassifier(max_features='auto', r...  0.685714   \n",
              "5        rf3  (DecisionTreeClassifier(max_depth=10, max_feat...  0.657143   \n",
              "6        rf4  (DecisionTreeClassifier(max_depth=20, max_feat...  0.685714   \n",
              "\n",
              "   precision  f1_score   roc_auc  \\\n",
              "0   0.812500  0.799672  0.813725   \n",
              "1   0.650000  0.684170  0.772876   \n",
              "2   0.590909  0.622427  0.660131   \n",
              "3   0.647059  0.657143  0.790850   \n",
              "4   0.666667  0.685714  0.777778   \n",
              "5   0.647059  0.657143  0.785948   \n",
              "6   0.666667  0.685714  0.784314   \n",
              "\n",
              "                                                test  \n",
              "0      y_act  y_pred  y_pred_prob\n",
              "8       2      ...  \n",
              "1      y_act  y_pred  y_pred_prob\n",
              "5       1      ...  \n",
              "2      y_act  y_pred  y_pred_prob\n",
              "31      2      ...  \n",
              "3      y_act  y_pred  y_pred_prob\n",
              "8       2      ...  \n",
              "4      y_act  y_pred  y_pred_prob\n",
              "4       1      ...  \n",
              "5      y_act  y_pred  y_pred_prob\n",
              "23      1      ...  \n",
              "6      y_act  y_pred  y_pred_prob\n",
              "7       1      ...  "
            ],
            "text/html": [
              "\n",
              "  <div id=\"df-d0be34a1-7388-445b-8f60-8561144bbc20\">\n",
              "    <div class=\"colab-df-container\">\n",
              "      <div>\n",
              "<style scoped>\n",
              "    .dataframe tbody tr th:only-of-type {\n",
              "        vertical-align: middle;\n",
              "    }\n",
              "\n",
              "    .dataframe tbody tr th {\n",
              "        vertical-align: top;\n",
              "    }\n",
              "\n",
              "    .dataframe thead th {\n",
              "        text-align: right;\n",
              "    }\n",
              "</style>\n",
              "<table border=\"1\" class=\"dataframe\">\n",
              "  <thead>\n",
              "    <tr style=\"text-align: right;\">\n",
              "      <th></th>\n",
              "      <th>model_name</th>\n",
              "      <th>model</th>\n",
              "      <th>accuracy</th>\n",
              "      <th>precision</th>\n",
              "      <th>f1_score</th>\n",
              "      <th>roc_auc</th>\n",
              "      <th>test</th>\n",
              "    </tr>\n",
              "  </thead>\n",
              "  <tbody>\n",
              "    <tr>\n",
              "      <th>0</th>\n",
              "      <td>dt1</td>\n",
              "      <td>DecisionTreeClassifier(max_depth=5, min_sample...</td>\n",
              "      <td>0.800000</td>\n",
              "      <td>0.812500</td>\n",
              "      <td>0.799672</td>\n",
              "      <td>0.813725</td>\n",
              "      <td>y_act  y_pred  y_pred_prob\n",
              "8       2      ...</td>\n",
              "    </tr>\n",
              "    <tr>\n",
              "      <th>1</th>\n",
              "      <td>dt2</td>\n",
              "      <td>DecisionTreeClassifier(max_depth=10, min_sampl...</td>\n",
              "      <td>0.685714</td>\n",
              "      <td>0.650000</td>\n",
              "      <td>0.684170</td>\n",
              "      <td>0.772876</td>\n",
              "      <td>y_act  y_pred  y_pred_prob\n",
              "5       1      ...</td>\n",
              "    </tr>\n",
              "    <tr>\n",
              "      <th>2</th>\n",
              "      <td>dt3</td>\n",
              "      <td>DecisionTreeClassifier(max_depth=20, min_sampl...</td>\n",
              "      <td>0.628571</td>\n",
              "      <td>0.590909</td>\n",
              "      <td>0.622427</td>\n",
              "      <td>0.660131</td>\n",
              "      <td>y_act  y_pred  y_pred_prob\n",
              "31      2      ...</td>\n",
              "    </tr>\n",
              "    <tr>\n",
              "      <th>3</th>\n",
              "      <td>rf1</td>\n",
              "      <td>(DecisionTreeClassifier(max_features='auto', r...</td>\n",
              "      <td>0.657143</td>\n",
              "      <td>0.647059</td>\n",
              "      <td>0.657143</td>\n",
              "      <td>0.790850</td>\n",
              "      <td>y_act  y_pred  y_pred_prob\n",
              "8       2      ...</td>\n",
              "    </tr>\n",
              "    <tr>\n",
              "      <th>4</th>\n",
              "      <td>rf2</td>\n",
              "      <td>(DecisionTreeClassifier(max_features='auto', r...</td>\n",
              "      <td>0.685714</td>\n",
              "      <td>0.666667</td>\n",
              "      <td>0.685714</td>\n",
              "      <td>0.777778</td>\n",
              "      <td>y_act  y_pred  y_pred_prob\n",
              "4       1      ...</td>\n",
              "    </tr>\n",
              "    <tr>\n",
              "      <th>5</th>\n",
              "      <td>rf3</td>\n",
              "      <td>(DecisionTreeClassifier(max_depth=10, max_feat...</td>\n",
              "      <td>0.657143</td>\n",
              "      <td>0.647059</td>\n",
              "      <td>0.657143</td>\n",
              "      <td>0.785948</td>\n",
              "      <td>y_act  y_pred  y_pred_prob\n",
              "23      1      ...</td>\n",
              "    </tr>\n",
              "    <tr>\n",
              "      <th>6</th>\n",
              "      <td>rf4</td>\n",
              "      <td>(DecisionTreeClassifier(max_depth=20, max_feat...</td>\n",
              "      <td>0.685714</td>\n",
              "      <td>0.666667</td>\n",
              "      <td>0.685714</td>\n",
              "      <td>0.784314</td>\n",
              "      <td>y_act  y_pred  y_pred_prob\n",
              "7       1      ...</td>\n",
              "    </tr>\n",
              "  </tbody>\n",
              "</table>\n",
              "</div>\n",
              "      <button class=\"colab-df-convert\" onclick=\"convertToInteractive('df-d0be34a1-7388-445b-8f60-8561144bbc20')\"\n",
              "              title=\"Convert this dataframe to an interactive table.\"\n",
              "              style=\"display:none;\">\n",
              "        \n",
              "  <svg xmlns=\"http://www.w3.org/2000/svg\" height=\"24px\"viewBox=\"0 0 24 24\"\n",
              "       width=\"24px\">\n",
              "    <path d=\"M0 0h24v24H0V0z\" fill=\"none\"/>\n",
              "    <path d=\"M18.56 5.44l.94 2.06.94-2.06 2.06-.94-2.06-.94-.94-2.06-.94 2.06-2.06.94zm-11 1L8.5 8.5l.94-2.06 2.06-.94-2.06-.94L8.5 2.5l-.94 2.06-2.06.94zm10 10l.94 2.06.94-2.06 2.06-.94-2.06-.94-.94-2.06-.94 2.06-2.06.94z\"/><path d=\"M17.41 7.96l-1.37-1.37c-.4-.4-.92-.59-1.43-.59-.52 0-1.04.2-1.43.59L10.3 9.45l-7.72 7.72c-.78.78-.78 2.05 0 2.83L4 21.41c.39.39.9.59 1.41.59.51 0 1.02-.2 1.41-.59l7.78-7.78 2.81-2.81c.8-.78.8-2.07 0-2.86zM5.41 20L4 18.59l7.72-7.72 1.47 1.35L5.41 20z\"/>\n",
              "  </svg>\n",
              "      </button>\n",
              "      \n",
              "  <style>\n",
              "    .colab-df-container {\n",
              "      display:flex;\n",
              "      flex-wrap:wrap;\n",
              "      gap: 12px;\n",
              "    }\n",
              "\n",
              "    .colab-df-convert {\n",
              "      background-color: #E8F0FE;\n",
              "      border: none;\n",
              "      border-radius: 50%;\n",
              "      cursor: pointer;\n",
              "      display: none;\n",
              "      fill: #1967D2;\n",
              "      height: 32px;\n",
              "      padding: 0 0 0 0;\n",
              "      width: 32px;\n",
              "    }\n",
              "\n",
              "    .colab-df-convert:hover {\n",
              "      background-color: #E2EBFA;\n",
              "      box-shadow: 0px 1px 2px rgba(60, 64, 67, 0.3), 0px 1px 3px 1px rgba(60, 64, 67, 0.15);\n",
              "      fill: #174EA6;\n",
              "    }\n",
              "\n",
              "    [theme=dark] .colab-df-convert {\n",
              "      background-color: #3B4455;\n",
              "      fill: #D2E3FC;\n",
              "    }\n",
              "\n",
              "    [theme=dark] .colab-df-convert:hover {\n",
              "      background-color: #434B5C;\n",
              "      box-shadow: 0px 1px 3px 1px rgba(0, 0, 0, 0.15);\n",
              "      filter: drop-shadow(0px 1px 2px rgba(0, 0, 0, 0.3));\n",
              "      fill: #FFFFFF;\n",
              "    }\n",
              "  </style>\n",
              "\n",
              "      <script>\n",
              "        const buttonEl =\n",
              "          document.querySelector('#df-d0be34a1-7388-445b-8f60-8561144bbc20 button.colab-df-convert');\n",
              "        buttonEl.style.display =\n",
              "          google.colab.kernel.accessAllowed ? 'block' : 'none';\n",
              "\n",
              "        async function convertToInteractive(key) {\n",
              "          const element = document.querySelector('#df-d0be34a1-7388-445b-8f60-8561144bbc20');\n",
              "          const dataTable =\n",
              "            await google.colab.kernel.invokeFunction('convertToInteractive',\n",
              "                                                     [key], {});\n",
              "          if (!dataTable) return;\n",
              "\n",
              "          const docLinkHtml = 'Like what you see? Visit the ' +\n",
              "            '<a target=\"_blank\" href=https://colab.research.google.com/notebooks/data_table.ipynb>data table notebook</a>'\n",
              "            + ' to learn more about interactive tables.';\n",
              "          element.innerHTML = '';\n",
              "          dataTable['output_type'] = 'display_data';\n",
              "          await google.colab.output.renderOutput(dataTable, element);\n",
              "          const docLink = document.createElement('div');\n",
              "          docLink.innerHTML = docLinkHtml;\n",
              "          element.appendChild(docLink);\n",
              "        }\n",
              "      </script>\n",
              "    </div>\n",
              "  </div>\n",
              "  "
            ]
          },
          "metadata": {},
          "execution_count": 45
        }
      ],
      "source": [
        "models = []\n",
        "models.append(model_train(DecisionTreeClassifier(random_state=0, max_depth=5, min_samples_split=10), 'dt1', X_train, y_train, X_test, y_test))\n",
        "models.append(model_train(DecisionTreeClassifier(random_state=0, max_depth=10, min_samples_split=20), 'dt2', X_train, y_train, X_test, y_test))\n",
        "models.append(model_train(DecisionTreeClassifier(random_state=0, max_depth=20, min_samples_split=40), 'dt3', X_train, y_train, X_test, y_test))\n",
        "models.append(model_train(RandomForestClassifier(n_estimators=100, max_depth=None, n_jobs=3, verbose=1), 'rf1', X_train, y_train, X_test, y_test))\n",
        "models.append(model_train(RandomForestClassifier(n_estimators=500, max_depth=None, n_jobs=3, verbose=1), 'rf2', X_train, y_train, X_test, y_test))\n",
        "models.append(model_train(RandomForestClassifier(n_estimators=500, max_depth=10, n_jobs=3, verbose=1), 'rf3', X_train, y_train, X_test, y_test))\n",
        "models.append(model_train(RandomForestClassifier(n_estimators=500, max_depth=20, n_jobs=3, verbose=1), 'rf4', X_train, y_train, X_test, y_test))\n",
        "models = pd.DataFrame(models)\n",
        "models"
      ]
    },
    {
      "cell_type": "markdown",
      "metadata": {
        "id": "hAwVwNlV2Wde"
      },
      "source": [
        "## [B] Use of Grid Search for RandomForestClassifier"
      ]
    },
    {
      "cell_type": "code",
      "execution_count": 46,
      "metadata": {
        "id": "qD4ZZ0-Z2Wdf",
        "outputId": "e1eaa453-992d-4554-a124-8f45e36084a4",
        "colab": {
          "base_uri": "https://localhost:8080/"
        }
      },
      "outputs": [
        {
          "output_type": "stream",
          "name": "stdout",
          "text": [
            "Fitting 5 folds for each of 9 candidates, totalling 45 fits\n"
          ]
        },
        {
          "output_type": "execute_result",
          "data": {
            "text/plain": [
              "GridSearchCV(estimator=RandomForestClassifier(), n_jobs=2,\n",
              "             param_grid={'max_depth': [None, 10, 20],\n",
              "                         'n_estimators': [100, 500, 1000]},\n",
              "             pre_dispatch=2, verbose=3)"
            ]
          },
          "metadata": {},
          "execution_count": 46
        }
      ],
      "source": [
        "from sklearn.model_selection import GridSearchCV\n",
        "\n",
        "parameters = {'n_estimators': [100,500,1000], 'max_depth': [None, 10, 20]}\n",
        "gs_model = GridSearchCV(RandomForestClassifier(), parameters, n_jobs=2, verbose=3, pre_dispatch=2)\n",
        "gs_model.fit(X_train, y_train)          "
      ]
    },
    {
      "cell_type": "code",
      "execution_count": 47,
      "metadata": {
        "id": "Lz5CyhPY2Wdf",
        "outputId": "69d51aae-e1ee-4b07-db8c-a1f33b6a0de2",
        "colab": {
          "base_uri": "https://localhost:8080/"
        }
      },
      "outputs": [
        {
          "output_type": "stream",
          "name": "stdout",
          "text": [
            "{'max_depth': None, 'n_estimators': 100}\n"
          ]
        }
      ],
      "source": [
        "# Best Model Paramaters\n",
        "print(gs_model.best_params_) "
      ]
    },
    {
      "cell_type": "code",
      "execution_count": 48,
      "metadata": {
        "id": "p6TIGyqR2Wdf",
        "outputId": "22a087f8-1b48-4be9-c0bd-3768e218be93",
        "colab": {
          "base_uri": "https://localhost:8080/"
        }
      },
      "outputs": [
        {
          "output_type": "stream",
          "name": "stdout",
          "text": [
            "              precision    recall  f1-score   support\n",
            "\n",
            "           1       0.65      0.65      0.65        17\n",
            "           2       0.67      0.67      0.67        18\n",
            "\n",
            "    accuracy                           0.66        35\n",
            "   macro avg       0.66      0.66      0.66        35\n",
            "weighted avg       0.66      0.66      0.66        35\n",
            "\n",
            "[[11  6]\n",
            " [ 6 12]]\n"
          ]
        }
      ],
      "source": [
        "from sklearn.metrics import classification_report, confusion_matrix \n",
        "\n",
        "y_pred = gs_model.predict(X_test) \n",
        "\n",
        "print(classification_report(y_test, y_pred)) \n",
        "print(confusion_matrix(y_test, y_pred)) "
      ]
    },
    {
      "cell_type": "markdown",
      "source": [
        "## [C] Use of Random Search for RandomForestClassifier"
      ],
      "metadata": {
        "id": "3JoK_1_am0qS"
      }
    },
    {
      "cell_type": "code",
      "source": [
        "from sklearn.model_selection import RandomizedSearchCV\n",
        "    \n",
        "# Define Hyperparameter Grid\n",
        "param_grid = {\"n_estimators\": [100,500,1000],\n",
        "              \"max_depth\": [None, 10, 20],\n",
        "             }\n",
        "  \n",
        "# Create model object\n",
        "model = RandomForestClassifier()\n",
        "  \n",
        "# Create RandomizedSearchCV object\n",
        "model_cv = RandomizedSearchCV(model, param_grid, cv=5, scoring='f1')\n",
        "  \n",
        "model_cv.fit(X_train, y_train)\n",
        "  \n",
        "# Print the tuned parameters and score\n",
        "print(\"Tuned Model Parameters: {}\".format(model_cv.best_params_))\n",
        "print(\"Best model score: {}\".format(model_cv.best_score_))"
      ],
      "metadata": {
        "colab": {
          "base_uri": "https://localhost:8080/"
        },
        "id": "8I47kn_cm-Id",
        "outputId": "f5ad29e0-df60-4fa3-d186-2ba5447aabd3"
      },
      "execution_count": 49,
      "outputs": [
        {
          "output_type": "stream",
          "name": "stderr",
          "text": [
            "/usr/local/lib/python3.7/dist-packages/sklearn/model_selection/_search.py:296: UserWarning: The total space of parameters 9 is smaller than n_iter=10. Running 9 iterations. For exhaustive searches, use GridSearchCV.\n",
            "  UserWarning,\n"
          ]
        },
        {
          "output_type": "stream",
          "name": "stdout",
          "text": [
            "Tuned Model Parameters: {'n_estimators': 100, 'max_depth': 10}\n",
            "Best model score: 0.6613794100636207\n"
          ]
        }
      ]
    },
    {
      "cell_type": "markdown",
      "metadata": {
        "id": "6IyyrOKU2Wdf"
      },
      "source": [
        "# Select Best Model"
      ]
    },
    {
      "cell_type": "code",
      "source": [
        "features_to_model = X_variables\n",
        "#Get the best model from Grid Search\n",
        "model = gs_model.best_estimator_\n",
        "\n",
        "importance = model.feature_importances_\n",
        "feature_profile = pd.DataFrame({\"feature\":features_to_model, \"importance\":importance})\n",
        "\n",
        "print('\\n')\n",
        "print(\"feature_profile:\\n\", feature_profile.sort_values(by='importance', ascending=False))\n",
        "#print(\"Model Parameters:\\n\", pd.Series(model.get_params()))\n",
        "\n",
        "# Evaluate Model\n",
        "#evaluate_model(model, X_test, features_to_model)"
      ],
      "metadata": {
        "colab": {
          "base_uri": "https://localhost:8080/"
        },
        "id": "1WnTpzecbRu8",
        "outputId": "a3829eba-d16f-4ade-b3ef-257af4ad8470"
      },
      "execution_count": 50,
      "outputs": [
        {
          "output_type": "stream",
          "name": "stdout",
          "text": [
            "\n",
            "\n",
            "feature_profile:\n",
            "        feature  importance\n",
            "2      Glucose    0.233333\n",
            "0          Age    0.160573\n",
            "7     Resistin    0.109143\n",
            "4         HOMA    0.094201\n",
            "5       Leptin    0.089651\n",
            "1          BMI    0.085169\n",
            "8        MCP.1    0.079570\n",
            "3      Insulin    0.074425\n",
            "6  Adiponectin    0.073935\n"
          ]
        }
      ]
    },
    {
      "cell_type": "code",
      "source": [
        "#Evaluate the best model from Random Search\n",
        "model = model_cv.best_estimator_\n",
        "\n",
        "# Feature importance/Coefficients\n",
        "importance = model.feature_importances_\n",
        "feature_profile = pd.DataFrame({\"feature\":features_to_model, \"importance\":importance})\n",
        "\n",
        "print(\"Best model score: {}\".format(model_cv.best_score_))\n",
        "print('\\n')\n",
        "print(\"feature_profile:\\n\", feature_profile.sort_values(by='importance', ascending=False))\n",
        "#print(\"Model Parameters:\\n\", pd.Series(model.get_params()))\n"
      ],
      "metadata": {
        "colab": {
          "base_uri": "https://localhost:8080/"
        },
        "id": "v6T4occmoOcJ",
        "outputId": "e7ad7831-4f6d-43d2-8202-ca5d54cef2ed"
      },
      "execution_count": 51,
      "outputs": [
        {
          "output_type": "stream",
          "name": "stdout",
          "text": [
            "Best model score: 0.6613794100636207\n",
            "\n",
            "\n",
            "feature_profile:\n",
            "        feature  importance\n",
            "2      Glucose    0.246989\n",
            "0          Age    0.170599\n",
            "4         HOMA    0.107179\n",
            "7     Resistin    0.089830\n",
            "8        MCP.1    0.086298\n",
            "5       Leptin    0.083209\n",
            "6  Adiponectin    0.074216\n",
            "3      Insulin    0.072857\n",
            "1          BMI    0.068822\n"
          ]
        }
      ]
    },
    {
      "cell_type": "markdown",
      "source": [
        "# Fine Tunning the Model By Dropping the Least Importance Attributes"
      ],
      "metadata": {
        "id": "sAKM2DPhonEm"
      }
    },
    {
      "cell_type": "code",
      "source": [
        "# As per the above feature profiles, dropping the least contributed three columns from the data set\n",
        "# axis = 1 indicates columns (0 indicate index or rows)\n",
        "data.drop(labels='Adiponectin', axis=1, inplace=True)\n",
        "data.drop(labels='Insulin', axis=1, inplace=True)\n",
        "data.drop(labels='MCP.1', axis=1, inplace=True)\n",
        "\n",
        "# Select Columns\n",
        "X_variables1 = ['Age',  'BMI', 'Glucose', 'HOMA', 'Leptin', 'Resistin']\n",
        "\n",
        "# Use below if inplace=True or not provided the parameter\n",
        "#census_data = census_data.drop(labels='Unnamed: 0', axis=1)\n",
        "\n",
        "data.head()"
      ],
      "metadata": {
        "colab": {
          "base_uri": "https://localhost:8080/",
          "height": 0
        },
        "id": "iw_7g1hwv2Bv",
        "outputId": "75e66d15-8d10-4e03-df1e-d890d29992b9"
      },
      "execution_count": 52,
      "outputs": [
        {
          "output_type": "execute_result",
          "data": {
            "text/plain": [
              "   Age        BMI  Glucose      HOMA   Leptin  Resistin  Classification  id\n",
              "0   48  23.500000       70  0.467409   8.8071   7.99585               1   1\n",
              "1   83  20.690495       92  0.706897   8.8438   4.06405               1   2\n",
              "2   82  23.124670       91  1.009651  17.9393   9.27715               1   3\n",
              "3   68  21.367521       77  0.612725   9.8827  12.76600               1   4\n",
              "4   86  21.111111       92  0.805386   6.6994  10.57635               1   5"
            ],
            "text/html": [
              "\n",
              "  <div id=\"df-7dfe3b97-852d-4eac-86c4-4a17b7befd70\">\n",
              "    <div class=\"colab-df-container\">\n",
              "      <div>\n",
              "<style scoped>\n",
              "    .dataframe tbody tr th:only-of-type {\n",
              "        vertical-align: middle;\n",
              "    }\n",
              "\n",
              "    .dataframe tbody tr th {\n",
              "        vertical-align: top;\n",
              "    }\n",
              "\n",
              "    .dataframe thead th {\n",
              "        text-align: right;\n",
              "    }\n",
              "</style>\n",
              "<table border=\"1\" class=\"dataframe\">\n",
              "  <thead>\n",
              "    <tr style=\"text-align: right;\">\n",
              "      <th></th>\n",
              "      <th>Age</th>\n",
              "      <th>BMI</th>\n",
              "      <th>Glucose</th>\n",
              "      <th>HOMA</th>\n",
              "      <th>Leptin</th>\n",
              "      <th>Resistin</th>\n",
              "      <th>Classification</th>\n",
              "      <th>id</th>\n",
              "    </tr>\n",
              "  </thead>\n",
              "  <tbody>\n",
              "    <tr>\n",
              "      <th>0</th>\n",
              "      <td>48</td>\n",
              "      <td>23.500000</td>\n",
              "      <td>70</td>\n",
              "      <td>0.467409</td>\n",
              "      <td>8.8071</td>\n",
              "      <td>7.99585</td>\n",
              "      <td>1</td>\n",
              "      <td>1</td>\n",
              "    </tr>\n",
              "    <tr>\n",
              "      <th>1</th>\n",
              "      <td>83</td>\n",
              "      <td>20.690495</td>\n",
              "      <td>92</td>\n",
              "      <td>0.706897</td>\n",
              "      <td>8.8438</td>\n",
              "      <td>4.06405</td>\n",
              "      <td>1</td>\n",
              "      <td>2</td>\n",
              "    </tr>\n",
              "    <tr>\n",
              "      <th>2</th>\n",
              "      <td>82</td>\n",
              "      <td>23.124670</td>\n",
              "      <td>91</td>\n",
              "      <td>1.009651</td>\n",
              "      <td>17.9393</td>\n",
              "      <td>9.27715</td>\n",
              "      <td>1</td>\n",
              "      <td>3</td>\n",
              "    </tr>\n",
              "    <tr>\n",
              "      <th>3</th>\n",
              "      <td>68</td>\n",
              "      <td>21.367521</td>\n",
              "      <td>77</td>\n",
              "      <td>0.612725</td>\n",
              "      <td>9.8827</td>\n",
              "      <td>12.76600</td>\n",
              "      <td>1</td>\n",
              "      <td>4</td>\n",
              "    </tr>\n",
              "    <tr>\n",
              "      <th>4</th>\n",
              "      <td>86</td>\n",
              "      <td>21.111111</td>\n",
              "      <td>92</td>\n",
              "      <td>0.805386</td>\n",
              "      <td>6.6994</td>\n",
              "      <td>10.57635</td>\n",
              "      <td>1</td>\n",
              "      <td>5</td>\n",
              "    </tr>\n",
              "  </tbody>\n",
              "</table>\n",
              "</div>\n",
              "      <button class=\"colab-df-convert\" onclick=\"convertToInteractive('df-7dfe3b97-852d-4eac-86c4-4a17b7befd70')\"\n",
              "              title=\"Convert this dataframe to an interactive table.\"\n",
              "              style=\"display:none;\">\n",
              "        \n",
              "  <svg xmlns=\"http://www.w3.org/2000/svg\" height=\"24px\"viewBox=\"0 0 24 24\"\n",
              "       width=\"24px\">\n",
              "    <path d=\"M0 0h24v24H0V0z\" fill=\"none\"/>\n",
              "    <path d=\"M18.56 5.44l.94 2.06.94-2.06 2.06-.94-2.06-.94-.94-2.06-.94 2.06-2.06.94zm-11 1L8.5 8.5l.94-2.06 2.06-.94-2.06-.94L8.5 2.5l-.94 2.06-2.06.94zm10 10l.94 2.06.94-2.06 2.06-.94-2.06-.94-.94-2.06-.94 2.06-2.06.94z\"/><path d=\"M17.41 7.96l-1.37-1.37c-.4-.4-.92-.59-1.43-.59-.52 0-1.04.2-1.43.59L10.3 9.45l-7.72 7.72c-.78.78-.78 2.05 0 2.83L4 21.41c.39.39.9.59 1.41.59.51 0 1.02-.2 1.41-.59l7.78-7.78 2.81-2.81c.8-.78.8-2.07 0-2.86zM5.41 20L4 18.59l7.72-7.72 1.47 1.35L5.41 20z\"/>\n",
              "  </svg>\n",
              "      </button>\n",
              "      \n",
              "  <style>\n",
              "    .colab-df-container {\n",
              "      display:flex;\n",
              "      flex-wrap:wrap;\n",
              "      gap: 12px;\n",
              "    }\n",
              "\n",
              "    .colab-df-convert {\n",
              "      background-color: #E8F0FE;\n",
              "      border: none;\n",
              "      border-radius: 50%;\n",
              "      cursor: pointer;\n",
              "      display: none;\n",
              "      fill: #1967D2;\n",
              "      height: 32px;\n",
              "      padding: 0 0 0 0;\n",
              "      width: 32px;\n",
              "    }\n",
              "\n",
              "    .colab-df-convert:hover {\n",
              "      background-color: #E2EBFA;\n",
              "      box-shadow: 0px 1px 2px rgba(60, 64, 67, 0.3), 0px 1px 3px 1px rgba(60, 64, 67, 0.15);\n",
              "      fill: #174EA6;\n",
              "    }\n",
              "\n",
              "    [theme=dark] .colab-df-convert {\n",
              "      background-color: #3B4455;\n",
              "      fill: #D2E3FC;\n",
              "    }\n",
              "\n",
              "    [theme=dark] .colab-df-convert:hover {\n",
              "      background-color: #434B5C;\n",
              "      box-shadow: 0px 1px 3px 1px rgba(0, 0, 0, 0.15);\n",
              "      filter: drop-shadow(0px 1px 2px rgba(0, 0, 0, 0.3));\n",
              "      fill: #FFFFFF;\n",
              "    }\n",
              "  </style>\n",
              "\n",
              "      <script>\n",
              "        const buttonEl =\n",
              "          document.querySelector('#df-7dfe3b97-852d-4eac-86c4-4a17b7befd70 button.colab-df-convert');\n",
              "        buttonEl.style.display =\n",
              "          google.colab.kernel.accessAllowed ? 'block' : 'none';\n",
              "\n",
              "        async function convertToInteractive(key) {\n",
              "          const element = document.querySelector('#df-7dfe3b97-852d-4eac-86c4-4a17b7befd70');\n",
              "          const dataTable =\n",
              "            await google.colab.kernel.invokeFunction('convertToInteractive',\n",
              "                                                     [key], {});\n",
              "          if (!dataTable) return;\n",
              "\n",
              "          const docLinkHtml = 'Like what you see? Visit the ' +\n",
              "            '<a target=\"_blank\" href=https://colab.research.google.com/notebooks/data_table.ipynb>data table notebook</a>'\n",
              "            + ' to learn more about interactive tables.';\n",
              "          element.innerHTML = '';\n",
              "          dataTable['output_type'] = 'display_data';\n",
              "          await google.colab.output.renderOutput(dataTable, element);\n",
              "          const docLink = document.createElement('div');\n",
              "          docLink.innerHTML = docLinkHtml;\n",
              "          element.appendChild(docLink);\n",
              "        }\n",
              "      </script>\n",
              "    </div>\n",
              "  </div>\n",
              "  "
            ]
          },
          "metadata": {},
          "execution_count": 52
        }
      ]
    },
    {
      "cell_type": "code",
      "source": [
        "# Select Columns\n",
        "X_variables1 = ['Age',  'BMI', 'Glucose', 'HOMA', 'Leptin', 'Resistin']"
      ],
      "metadata": {
        "id": "_K64F8Z1yuWh"
      },
      "execution_count": 53,
      "outputs": []
    },
    {
      "cell_type": "markdown",
      "source": [
        "#Retraing the model to see the performance"
      ],
      "metadata": {
        "id": "BA58NRFzvqaz"
      }
    },
    {
      "cell_type": "code",
      "source": [
        "#Trainning Split\n",
        "X_train1, X_test1, y_train1, y_test1 = train_test_split(X, y, test_size=0.3, random_state=42)\n",
        "\n",
        "print(F\"Train sample size = {len(X_train1)}\")\n",
        "print(F\"Test sample size  = {len(X_test1)}\")"
      ],
      "metadata": {
        "id": "1ExZRmwTwGDi",
        "outputId": "39b4cce7-a653-4c3c-a2d8-b8d9166b3570",
        "colab": {
          "base_uri": "https://localhost:8080/"
        }
      },
      "execution_count": 54,
      "outputs": [
        {
          "output_type": "stream",
          "name": "stdout",
          "text": [
            "Train sample size = 81\n",
            "Test sample size  = 35\n"
          ]
        }
      ]
    },
    {
      "cell_type": "code",
      "source": [
        "#Train the model & do the prediction\n",
        "#RandomForest Classifier\n",
        "model2 = model_train(RandomForestClassifier(n_estimators=500, max_depth=10, n_jobs=3, verbose=1), 'rf_new2', X_train1, y_train1, X_test1, y_test1)\n",
        "#Print the output\n",
        "model2"
      ],
      "metadata": {
        "id": "DSZzCIY0wNC6",
        "outputId": "20d3b7d6-93ae-4dc0-b221-867f9f14ac9b",
        "colab": {
          "base_uri": "https://localhost:8080/"
        }
      },
      "execution_count": 55,
      "outputs": [
        {
          "output_type": "stream",
          "name": "stderr",
          "text": [
            "[Parallel(n_jobs=3)]: Using backend ThreadingBackend with 3 concurrent workers.\n",
            "[Parallel(n_jobs=3)]: Done  44 tasks      | elapsed:    0.1s\n",
            "[Parallel(n_jobs=3)]: Done 194 tasks      | elapsed:    0.4s\n",
            "[Parallel(n_jobs=3)]: Done 444 tasks      | elapsed:    0.8s\n",
            "[Parallel(n_jobs=3)]: Done 500 out of 500 | elapsed:    0.9s finished\n",
            "[Parallel(n_jobs=3)]: Using backend ThreadingBackend with 3 concurrent workers.\n",
            "[Parallel(n_jobs=3)]: Done  44 tasks      | elapsed:    0.0s\n",
            "[Parallel(n_jobs=3)]: Done 194 tasks      | elapsed:    0.0s\n",
            "[Parallel(n_jobs=3)]: Done 444 tasks      | elapsed:    0.1s\n",
            "[Parallel(n_jobs=3)]: Done 500 out of 500 | elapsed:    0.1s finished\n",
            "[Parallel(n_jobs=3)]: Using backend ThreadingBackend with 3 concurrent workers.\n",
            "[Parallel(n_jobs=3)]: Done  44 tasks      | elapsed:    0.0s\n",
            "[Parallel(n_jobs=3)]: Done 194 tasks      | elapsed:    0.0s\n",
            "[Parallel(n_jobs=3)]: Done 444 tasks      | elapsed:    0.1s\n",
            "[Parallel(n_jobs=3)]: Done 500 out of 500 | elapsed:    0.1s finished\n"
          ]
        },
        {
          "output_type": "execute_result",
          "data": {
            "text/plain": [
              "{'accuracy': 0.6857142857142857,\n",
              " 'f1_score': 0.6857142857142857,\n",
              " 'model': RandomForestClassifier(max_depth=10, n_estimators=500, n_jobs=3, verbose=1),\n",
              " 'model_name': 'rf_new2',\n",
              " 'precision': 0.6666666666666666,\n",
              " 'roc_auc': 0.7859477124183006,\n",
              " 'test':     y_act  y_pred  y_pred_prob\n",
              " 25      2       1        0.464\n",
              " 9       1       1        0.106\n",
              " 29      1       1        0.156\n",
              " 6       2       2        0.646\n",
              " 24      1       1        0.464\n",
              " 3       1       1        0.126\n",
              " 32      2       1        0.456\n",
              " 10      1       1        0.468\n",
              " 0       2       2        0.922\n",
              " 7       1       1        0.200}"
            ]
          },
          "metadata": {},
          "execution_count": 55
        }
      ]
    },
    {
      "cell_type": "code",
      "source": [
        "from sklearn.model_selection import RandomizedSearchCV\n",
        "    \n",
        "# Define Hyperparameter Grid\n",
        "param_grid = {\"n_estimators\": [100,500,1000],\n",
        "              \"max_depth\": [None, 10, 20],\n",
        "             }\n",
        "  \n",
        "# Create model object\n",
        "model = RandomForestClassifier()\n",
        "  \n",
        "# Create RandomizedSearchCV object\n",
        "model_cv1 = RandomizedSearchCV(model, param_grid, cv=5, scoring='f1')\n",
        "  \n",
        "model_cv1.fit(X_train1, y_train1)\n",
        "  \n",
        "# Print the tuned parameters and score\n",
        "print(\"Tuned Model Parameters: {}\".format(model_cv1.best_params_))\n",
        "print(\"Best model score: {}\".format(model_cv1.best_score_))"
      ],
      "metadata": {
        "id": "9EgWRSIPwhoM",
        "outputId": "d31f59fa-a73e-40e4-e7c7-0571b35b8467",
        "colab": {
          "base_uri": "https://localhost:8080/"
        }
      },
      "execution_count": 56,
      "outputs": [
        {
          "output_type": "stream",
          "name": "stderr",
          "text": [
            "/usr/local/lib/python3.7/dist-packages/sklearn/model_selection/_search.py:296: UserWarning: The total space of parameters 9 is smaller than n_iter=10. Running 9 iterations. For exhaustive searches, use GridSearchCV.\n",
            "  UserWarning,\n"
          ]
        },
        {
          "output_type": "stream",
          "name": "stdout",
          "text": [
            "Tuned Model Parameters: {'n_estimators': 100, 'max_depth': 20}\n",
            "Best model score: 0.6618922305764411\n"
          ]
        }
      ]
    },
    {
      "cell_type": "code",
      "source": [
        "#Evaluate the best model from Random Search\n",
        "model = model_cv1.best_estimator_\n",
        "\n",
        "# Feature importance/Coefficients\n",
        "importance = model.feature_importances_\n",
        "feature_profile = pd.DataFrame({\"feature\":features_to_model, \"importance\":importance})\n",
        "\n",
        "print(\"Best model score: {}\".format(model_cv.best_score_))\n",
        "print('\\n')\n",
        "print(\"feature_profile:\\n\", feature_profile.sort_values(by='importance', ascending=False))"
      ],
      "metadata": {
        "id": "rhOAk-t8xTql",
        "outputId": "32104ccc-f1f6-4e3f-ba1e-aba77c68cbe1",
        "colab": {
          "base_uri": "https://localhost:8080/"
        }
      },
      "execution_count": 57,
      "outputs": [
        {
          "output_type": "stream",
          "name": "stdout",
          "text": [
            "Best model score: 0.6613794100636207\n",
            "\n",
            "\n",
            "feature_profile:\n",
            "        feature  importance\n",
            "2      Glucose    0.245961\n",
            "0          Age    0.157989\n",
            "4         HOMA    0.131316\n",
            "5       Leptin    0.082656\n",
            "8        MCP.1    0.079341\n",
            "7     Resistin    0.077104\n",
            "1          BMI    0.077004\n",
            "6  Adiponectin    0.075537\n",
            "3      Insulin    0.073093\n"
          ]
        }
      ]
    },
    {
      "cell_type": "markdown",
      "metadata": {
        "id": "GW9krhbq2Wdm"
      },
      "source": [
        "# Saving Best Model"
      ]
    },
    {
      "cell_type": "markdown",
      "metadata": {
        "id": "jKE_irfx2Wdn"
      },
      "source": [
        "## [A] Use Pickle"
      ]
    },
    {
      "cell_type": "code",
      "execution_count": 132,
      "metadata": {
        "id": "yuei95oS2Wdn"
      },
      "outputs": [],
      "source": [
        "import pickle\n",
        "\n",
        "save_file = 'model_rf3_test.pickle'\n",
        "pickle.dump(model, open(save_file, 'wb'))"
      ]
    },
    {
      "cell_type": "code",
      "execution_count": null,
      "metadata": {
        "id": "i6GEMLhU2Wdp",
        "outputId": "564d93ab-9c81-4cce-c496-903dcbe7077b"
      },
      "outputs": [
        {
          "data": {
            "text/plain": [
              "RandomForestClassifier(bootstrap=True, ccp_alpha=0.0, class_weight=None,\n",
              "                       criterion='gini', max_depth=10, max_features='auto',\n",
              "                       max_leaf_nodes=None, max_samples=None,\n",
              "                       min_impurity_decrease=0.0, min_impurity_split=None,\n",
              "                       min_samples_leaf=1, min_samples_split=2,\n",
              "                       min_weight_fraction_leaf=0.0, n_estimators=500, n_jobs=3,\n",
              "                       oob_score=False, random_state=None, verbose=1,\n",
              "                       warm_start=False)"
            ]
          },
          "execution_count": 39,
          "metadata": {},
          "output_type": "execute_result"
        }
      ],
      "source": [
        "# loading from file\n",
        "model_ = pickle.load(open(save_file, 'rb'))\n",
        "model_"
      ]
    },
    {
      "cell_type": "markdown",
      "metadata": {
        "id": "OByeJvKY2Wdp"
      },
      "source": [
        "## [B] Use Joblib (supports parallelization)"
      ]
    },
    {
      "cell_type": "code",
      "execution_count": null,
      "metadata": {
        "id": "nD6hUPUN2Wdp"
      },
      "outputs": [],
      "source": [
        "import joblib\n",
        "\n",
        "save_file = 'model_rf3_test.joblib'\n",
        "joblib.dump(model, open(save_file, 'wb'))"
      ]
    },
    {
      "cell_type": "code",
      "execution_count": null,
      "metadata": {
        "id": "At88DoDA2Wdq",
        "outputId": "89e92ad2-2178-49fa-e2d9-70bf4d332834"
      },
      "outputs": [
        {
          "data": {
            "text/plain": [
              "RandomForestClassifier(bootstrap=True, ccp_alpha=0.0, class_weight=None,\n",
              "                       criterion='gini', max_depth=10, max_features='auto',\n",
              "                       max_leaf_nodes=None, max_samples=None,\n",
              "                       min_impurity_decrease=0.0, min_impurity_split=None,\n",
              "                       min_samples_leaf=1, min_samples_split=2,\n",
              "                       min_weight_fraction_leaf=0.0, n_estimators=500, n_jobs=3,\n",
              "                       oob_score=False, random_state=None, verbose=1,\n",
              "                       warm_start=False)"
            ]
          },
          "execution_count": 41,
          "metadata": {},
          "output_type": "execute_result"
        }
      ],
      "source": [
        "# loading from file\n",
        "model_ = joblib.load(save_file)\n",
        "model_"
      ]
    },
    {
      "cell_type": "markdown",
      "metadata": {
        "id": "zEDdhzMr2Wdq"
      },
      "source": [
        "# Predict on a Sample Data"
      ]
    },
    {
      "cell_type": "code",
      "execution_count": 67,
      "metadata": {
        "id": "tdXp0P792Wdq",
        "outputId": "3e7e157a-73f9-4851-a931-fd46e7231cbc",
        "colab": {
          "base_uri": "https://localhost:8080/",
          "height": 363
        }
      },
      "outputs": [
        {
          "output_type": "execute_result",
          "data": {
            "text/plain": [
              "    Age        BMI  Glucose  Insulin      HOMA   Leptin  Adiponectin  \\\n",
              "63   51  22.892820      103    2.740  0.696143   8.0163     9.349775   \n",
              "41   76  27.200000       94   14.070  3.262364  35.8910     9.346630   \n",
              "96   44  27.887617       99    9.208  2.248594  12.6757     5.478170   \n",
              "1    83  20.690495       92    3.115  0.706897   8.8438     5.429285   \n",
              "55   34  24.242424       92   21.699  4.924226  16.7353    21.823745   \n",
              "46   75  25.700000       94    8.079  1.873251  65.9260     3.741220   \n",
              "40   76  29.218408       83    5.376  1.100646  28.5620     7.369960   \n",
              "44   71  30.300000      102    8.340  2.098344  56.5020     8.130000   \n",
              "8    73  22.000000       97    3.350  0.801543   4.4700    10.358725   \n",
              "94   60  31.231410      131   30.130  9.736007  37.8430     8.404430   \n",
              "\n",
              "    Resistin    MCP.1  Classification  \n",
              "63  11.55492  359.232               2  \n",
              "41   8.41560  377.227               1  \n",
              "96  23.03306  407.206               2  \n",
              "1    4.06405  468.786               1  \n",
              "55  12.06534  481.949               2  \n",
              "46   4.49685  206.802               1  \n",
              "40   8.04375  698.789               1  \n",
              "44   4.29890  200.976               1  \n",
              "8    6.28445  136.855               1  \n",
              "94  11.50005  396.021               2  "
            ],
            "text/html": [
              "\n",
              "  <div id=\"df-91ba5824-4ed4-4fda-98b4-eb7db8646af2\">\n",
              "    <div class=\"colab-df-container\">\n",
              "      <div>\n",
              "<style scoped>\n",
              "    .dataframe tbody tr th:only-of-type {\n",
              "        vertical-align: middle;\n",
              "    }\n",
              "\n",
              "    .dataframe tbody tr th {\n",
              "        vertical-align: top;\n",
              "    }\n",
              "\n",
              "    .dataframe thead th {\n",
              "        text-align: right;\n",
              "    }\n",
              "</style>\n",
              "<table border=\"1\" class=\"dataframe\">\n",
              "  <thead>\n",
              "    <tr style=\"text-align: right;\">\n",
              "      <th></th>\n",
              "      <th>Age</th>\n",
              "      <th>BMI</th>\n",
              "      <th>Glucose</th>\n",
              "      <th>Insulin</th>\n",
              "      <th>HOMA</th>\n",
              "      <th>Leptin</th>\n",
              "      <th>Adiponectin</th>\n",
              "      <th>Resistin</th>\n",
              "      <th>MCP.1</th>\n",
              "      <th>Classification</th>\n",
              "    </tr>\n",
              "  </thead>\n",
              "  <tbody>\n",
              "    <tr>\n",
              "      <th>63</th>\n",
              "      <td>51</td>\n",
              "      <td>22.892820</td>\n",
              "      <td>103</td>\n",
              "      <td>2.740</td>\n",
              "      <td>0.696143</td>\n",
              "      <td>8.0163</td>\n",
              "      <td>9.349775</td>\n",
              "      <td>11.55492</td>\n",
              "      <td>359.232</td>\n",
              "      <td>2</td>\n",
              "    </tr>\n",
              "    <tr>\n",
              "      <th>41</th>\n",
              "      <td>76</td>\n",
              "      <td>27.200000</td>\n",
              "      <td>94</td>\n",
              "      <td>14.070</td>\n",
              "      <td>3.262364</td>\n",
              "      <td>35.8910</td>\n",
              "      <td>9.346630</td>\n",
              "      <td>8.41560</td>\n",
              "      <td>377.227</td>\n",
              "      <td>1</td>\n",
              "    </tr>\n",
              "    <tr>\n",
              "      <th>96</th>\n",
              "      <td>44</td>\n",
              "      <td>27.887617</td>\n",
              "      <td>99</td>\n",
              "      <td>9.208</td>\n",
              "      <td>2.248594</td>\n",
              "      <td>12.6757</td>\n",
              "      <td>5.478170</td>\n",
              "      <td>23.03306</td>\n",
              "      <td>407.206</td>\n",
              "      <td>2</td>\n",
              "    </tr>\n",
              "    <tr>\n",
              "      <th>1</th>\n",
              "      <td>83</td>\n",
              "      <td>20.690495</td>\n",
              "      <td>92</td>\n",
              "      <td>3.115</td>\n",
              "      <td>0.706897</td>\n",
              "      <td>8.8438</td>\n",
              "      <td>5.429285</td>\n",
              "      <td>4.06405</td>\n",
              "      <td>468.786</td>\n",
              "      <td>1</td>\n",
              "    </tr>\n",
              "    <tr>\n",
              "      <th>55</th>\n",
              "      <td>34</td>\n",
              "      <td>24.242424</td>\n",
              "      <td>92</td>\n",
              "      <td>21.699</td>\n",
              "      <td>4.924226</td>\n",
              "      <td>16.7353</td>\n",
              "      <td>21.823745</td>\n",
              "      <td>12.06534</td>\n",
              "      <td>481.949</td>\n",
              "      <td>2</td>\n",
              "    </tr>\n",
              "    <tr>\n",
              "      <th>46</th>\n",
              "      <td>75</td>\n",
              "      <td>25.700000</td>\n",
              "      <td>94</td>\n",
              "      <td>8.079</td>\n",
              "      <td>1.873251</td>\n",
              "      <td>65.9260</td>\n",
              "      <td>3.741220</td>\n",
              "      <td>4.49685</td>\n",
              "      <td>206.802</td>\n",
              "      <td>1</td>\n",
              "    </tr>\n",
              "    <tr>\n",
              "      <th>40</th>\n",
              "      <td>76</td>\n",
              "      <td>29.218408</td>\n",
              "      <td>83</td>\n",
              "      <td>5.376</td>\n",
              "      <td>1.100646</td>\n",
              "      <td>28.5620</td>\n",
              "      <td>7.369960</td>\n",
              "      <td>8.04375</td>\n",
              "      <td>698.789</td>\n",
              "      <td>1</td>\n",
              "    </tr>\n",
              "    <tr>\n",
              "      <th>44</th>\n",
              "      <td>71</td>\n",
              "      <td>30.300000</td>\n",
              "      <td>102</td>\n",
              "      <td>8.340</td>\n",
              "      <td>2.098344</td>\n",
              "      <td>56.5020</td>\n",
              "      <td>8.130000</td>\n",
              "      <td>4.29890</td>\n",
              "      <td>200.976</td>\n",
              "      <td>1</td>\n",
              "    </tr>\n",
              "    <tr>\n",
              "      <th>8</th>\n",
              "      <td>73</td>\n",
              "      <td>22.000000</td>\n",
              "      <td>97</td>\n",
              "      <td>3.350</td>\n",
              "      <td>0.801543</td>\n",
              "      <td>4.4700</td>\n",
              "      <td>10.358725</td>\n",
              "      <td>6.28445</td>\n",
              "      <td>136.855</td>\n",
              "      <td>1</td>\n",
              "    </tr>\n",
              "    <tr>\n",
              "      <th>94</th>\n",
              "      <td>60</td>\n",
              "      <td>31.231410</td>\n",
              "      <td>131</td>\n",
              "      <td>30.130</td>\n",
              "      <td>9.736007</td>\n",
              "      <td>37.8430</td>\n",
              "      <td>8.404430</td>\n",
              "      <td>11.50005</td>\n",
              "      <td>396.021</td>\n",
              "      <td>2</td>\n",
              "    </tr>\n",
              "  </tbody>\n",
              "</table>\n",
              "</div>\n",
              "      <button class=\"colab-df-convert\" onclick=\"convertToInteractive('df-91ba5824-4ed4-4fda-98b4-eb7db8646af2')\"\n",
              "              title=\"Convert this dataframe to an interactive table.\"\n",
              "              style=\"display:none;\">\n",
              "        \n",
              "  <svg xmlns=\"http://www.w3.org/2000/svg\" height=\"24px\"viewBox=\"0 0 24 24\"\n",
              "       width=\"24px\">\n",
              "    <path d=\"M0 0h24v24H0V0z\" fill=\"none\"/>\n",
              "    <path d=\"M18.56 5.44l.94 2.06.94-2.06 2.06-.94-2.06-.94-.94-2.06-.94 2.06-2.06.94zm-11 1L8.5 8.5l.94-2.06 2.06-.94-2.06-.94L8.5 2.5l-.94 2.06-2.06.94zm10 10l.94 2.06.94-2.06 2.06-.94-2.06-.94-.94-2.06-.94 2.06-2.06.94z\"/><path d=\"M17.41 7.96l-1.37-1.37c-.4-.4-.92-.59-1.43-.59-.52 0-1.04.2-1.43.59L10.3 9.45l-7.72 7.72c-.78.78-.78 2.05 0 2.83L4 21.41c.39.39.9.59 1.41.59.51 0 1.02-.2 1.41-.59l7.78-7.78 2.81-2.81c.8-.78.8-2.07 0-2.86zM5.41 20L4 18.59l7.72-7.72 1.47 1.35L5.41 20z\"/>\n",
              "  </svg>\n",
              "      </button>\n",
              "      \n",
              "  <style>\n",
              "    .colab-df-container {\n",
              "      display:flex;\n",
              "      flex-wrap:wrap;\n",
              "      gap: 12px;\n",
              "    }\n",
              "\n",
              "    .colab-df-convert {\n",
              "      background-color: #E8F0FE;\n",
              "      border: none;\n",
              "      border-radius: 50%;\n",
              "      cursor: pointer;\n",
              "      display: none;\n",
              "      fill: #1967D2;\n",
              "      height: 32px;\n",
              "      padding: 0 0 0 0;\n",
              "      width: 32px;\n",
              "    }\n",
              "\n",
              "    .colab-df-convert:hover {\n",
              "      background-color: #E2EBFA;\n",
              "      box-shadow: 0px 1px 2px rgba(60, 64, 67, 0.3), 0px 1px 3px 1px rgba(60, 64, 67, 0.15);\n",
              "      fill: #174EA6;\n",
              "    }\n",
              "\n",
              "    [theme=dark] .colab-df-convert {\n",
              "      background-color: #3B4455;\n",
              "      fill: #D2E3FC;\n",
              "    }\n",
              "\n",
              "    [theme=dark] .colab-df-convert:hover {\n",
              "      background-color: #434B5C;\n",
              "      box-shadow: 0px 1px 3px 1px rgba(0, 0, 0, 0.15);\n",
              "      filter: drop-shadow(0px 1px 2px rgba(0, 0, 0, 0.3));\n",
              "      fill: #FFFFFF;\n",
              "    }\n",
              "  </style>\n",
              "\n",
              "      <script>\n",
              "        const buttonEl =\n",
              "          document.querySelector('#df-91ba5824-4ed4-4fda-98b4-eb7db8646af2 button.colab-df-convert');\n",
              "        buttonEl.style.display =\n",
              "          google.colab.kernel.accessAllowed ? 'block' : 'none';\n",
              "\n",
              "        async function convertToInteractive(key) {\n",
              "          const element = document.querySelector('#df-91ba5824-4ed4-4fda-98b4-eb7db8646af2');\n",
              "          const dataTable =\n",
              "            await google.colab.kernel.invokeFunction('convertToInteractive',\n",
              "                                                     [key], {});\n",
              "          if (!dataTable) return;\n",
              "\n",
              "          const docLinkHtml = 'Like what you see? Visit the ' +\n",
              "            '<a target=\"_blank\" href=https://colab.research.google.com/notebooks/data_table.ipynb>data table notebook</a>'\n",
              "            + ' to learn more about interactive tables.';\n",
              "          element.innerHTML = '';\n",
              "          dataTable['output_type'] = 'display_data';\n",
              "          await google.colab.output.renderOutput(dataTable, element);\n",
              "          const docLink = document.createElement('div');\n",
              "          docLink.innerHTML = docLinkHtml;\n",
              "          element.appendChild(docLink);\n",
              "        }\n",
              "      </script>\n",
              "    </div>\n",
              "  </div>\n",
              "  "
            ]
          },
          "metadata": {},
          "execution_count": 67
        }
      ],
      "source": [
        "sample_input = data[['Age',  'BMI', 'Glucose', 'Insulin', 'HOMA', 'Leptin', 'Adiponectin', 'Resistin', 'MCP.1', 'Classification']].sample(10)\n",
        "sample_input"
      ]
    },
    {
      "cell_type": "code",
      "execution_count": 70,
      "metadata": {
        "id": "FsHiOpXi2Wdr",
        "outputId": "b60180c1-7643-407e-93f2-b8129c1642f0",
        "colab": {
          "base_uri": "https://localhost:8080/",
          "height": 363
        }
      },
      "outputs": [
        {
          "output_type": "execute_result",
          "data": {
            "text/plain": [
              "    Age        BMI  Glucose  Insulin      HOMA   Leptin  Adiponectin  \\\n",
              "63   51  22.892820      103    2.740  0.696143   8.0163     9.349775   \n",
              "41   76  27.200000       94   14.070  3.262364  35.8910     9.346630   \n",
              "96   44  27.887617       99    9.208  2.248594  12.6757     5.478170   \n",
              "1    83  20.690495       92    3.115  0.706897   8.8438     5.429285   \n",
              "55   34  24.242424       92   21.699  4.924226  16.7353    21.823745   \n",
              "46   75  25.700000       94    8.079  1.873251  65.9260     3.741220   \n",
              "40   76  29.218408       83    5.376  1.100646  28.5620     7.369960   \n",
              "44   71  30.300000      102    8.340  2.098344  56.5020     8.130000   \n",
              "8    73  22.000000       97    3.350  0.801543   4.4700    10.358725   \n",
              "94   60  31.231410      131   30.130  9.736007  37.8430     8.404430   \n",
              "\n",
              "    Resistin    MCP.1  \n",
              "63  11.55492  359.232  \n",
              "41   8.41560  377.227  \n",
              "96  23.03306  407.206  \n",
              "1    4.06405  468.786  \n",
              "55  12.06534  481.949  \n",
              "46   4.49685  206.802  \n",
              "40   8.04375  698.789  \n",
              "44   4.29890  200.976  \n",
              "8    6.28445  136.855  \n",
              "94  11.50005  396.021  "
            ],
            "text/html": [
              "\n",
              "  <div id=\"df-2ea97b36-4d0e-44c6-b651-9fbddb59026a\">\n",
              "    <div class=\"colab-df-container\">\n",
              "      <div>\n",
              "<style scoped>\n",
              "    .dataframe tbody tr th:only-of-type {\n",
              "        vertical-align: middle;\n",
              "    }\n",
              "\n",
              "    .dataframe tbody tr th {\n",
              "        vertical-align: top;\n",
              "    }\n",
              "\n",
              "    .dataframe thead th {\n",
              "        text-align: right;\n",
              "    }\n",
              "</style>\n",
              "<table border=\"1\" class=\"dataframe\">\n",
              "  <thead>\n",
              "    <tr style=\"text-align: right;\">\n",
              "      <th></th>\n",
              "      <th>Age</th>\n",
              "      <th>BMI</th>\n",
              "      <th>Glucose</th>\n",
              "      <th>Insulin</th>\n",
              "      <th>HOMA</th>\n",
              "      <th>Leptin</th>\n",
              "      <th>Adiponectin</th>\n",
              "      <th>Resistin</th>\n",
              "      <th>MCP.1</th>\n",
              "    </tr>\n",
              "  </thead>\n",
              "  <tbody>\n",
              "    <tr>\n",
              "      <th>63</th>\n",
              "      <td>51</td>\n",
              "      <td>22.892820</td>\n",
              "      <td>103</td>\n",
              "      <td>2.740</td>\n",
              "      <td>0.696143</td>\n",
              "      <td>8.0163</td>\n",
              "      <td>9.349775</td>\n",
              "      <td>11.55492</td>\n",
              "      <td>359.232</td>\n",
              "    </tr>\n",
              "    <tr>\n",
              "      <th>41</th>\n",
              "      <td>76</td>\n",
              "      <td>27.200000</td>\n",
              "      <td>94</td>\n",
              "      <td>14.070</td>\n",
              "      <td>3.262364</td>\n",
              "      <td>35.8910</td>\n",
              "      <td>9.346630</td>\n",
              "      <td>8.41560</td>\n",
              "      <td>377.227</td>\n",
              "    </tr>\n",
              "    <tr>\n",
              "      <th>96</th>\n",
              "      <td>44</td>\n",
              "      <td>27.887617</td>\n",
              "      <td>99</td>\n",
              "      <td>9.208</td>\n",
              "      <td>2.248594</td>\n",
              "      <td>12.6757</td>\n",
              "      <td>5.478170</td>\n",
              "      <td>23.03306</td>\n",
              "      <td>407.206</td>\n",
              "    </tr>\n",
              "    <tr>\n",
              "      <th>1</th>\n",
              "      <td>83</td>\n",
              "      <td>20.690495</td>\n",
              "      <td>92</td>\n",
              "      <td>3.115</td>\n",
              "      <td>0.706897</td>\n",
              "      <td>8.8438</td>\n",
              "      <td>5.429285</td>\n",
              "      <td>4.06405</td>\n",
              "      <td>468.786</td>\n",
              "    </tr>\n",
              "    <tr>\n",
              "      <th>55</th>\n",
              "      <td>34</td>\n",
              "      <td>24.242424</td>\n",
              "      <td>92</td>\n",
              "      <td>21.699</td>\n",
              "      <td>4.924226</td>\n",
              "      <td>16.7353</td>\n",
              "      <td>21.823745</td>\n",
              "      <td>12.06534</td>\n",
              "      <td>481.949</td>\n",
              "    </tr>\n",
              "    <tr>\n",
              "      <th>46</th>\n",
              "      <td>75</td>\n",
              "      <td>25.700000</td>\n",
              "      <td>94</td>\n",
              "      <td>8.079</td>\n",
              "      <td>1.873251</td>\n",
              "      <td>65.9260</td>\n",
              "      <td>3.741220</td>\n",
              "      <td>4.49685</td>\n",
              "      <td>206.802</td>\n",
              "    </tr>\n",
              "    <tr>\n",
              "      <th>40</th>\n",
              "      <td>76</td>\n",
              "      <td>29.218408</td>\n",
              "      <td>83</td>\n",
              "      <td>5.376</td>\n",
              "      <td>1.100646</td>\n",
              "      <td>28.5620</td>\n",
              "      <td>7.369960</td>\n",
              "      <td>8.04375</td>\n",
              "      <td>698.789</td>\n",
              "    </tr>\n",
              "    <tr>\n",
              "      <th>44</th>\n",
              "      <td>71</td>\n",
              "      <td>30.300000</td>\n",
              "      <td>102</td>\n",
              "      <td>8.340</td>\n",
              "      <td>2.098344</td>\n",
              "      <td>56.5020</td>\n",
              "      <td>8.130000</td>\n",
              "      <td>4.29890</td>\n",
              "      <td>200.976</td>\n",
              "    </tr>\n",
              "    <tr>\n",
              "      <th>8</th>\n",
              "      <td>73</td>\n",
              "      <td>22.000000</td>\n",
              "      <td>97</td>\n",
              "      <td>3.350</td>\n",
              "      <td>0.801543</td>\n",
              "      <td>4.4700</td>\n",
              "      <td>10.358725</td>\n",
              "      <td>6.28445</td>\n",
              "      <td>136.855</td>\n",
              "    </tr>\n",
              "    <tr>\n",
              "      <th>94</th>\n",
              "      <td>60</td>\n",
              "      <td>31.231410</td>\n",
              "      <td>131</td>\n",
              "      <td>30.130</td>\n",
              "      <td>9.736007</td>\n",
              "      <td>37.8430</td>\n",
              "      <td>8.404430</td>\n",
              "      <td>11.50005</td>\n",
              "      <td>396.021</td>\n",
              "    </tr>\n",
              "  </tbody>\n",
              "</table>\n",
              "</div>\n",
              "      <button class=\"colab-df-convert\" onclick=\"convertToInteractive('df-2ea97b36-4d0e-44c6-b651-9fbddb59026a')\"\n",
              "              title=\"Convert this dataframe to an interactive table.\"\n",
              "              style=\"display:none;\">\n",
              "        \n",
              "  <svg xmlns=\"http://www.w3.org/2000/svg\" height=\"24px\"viewBox=\"0 0 24 24\"\n",
              "       width=\"24px\">\n",
              "    <path d=\"M0 0h24v24H0V0z\" fill=\"none\"/>\n",
              "    <path d=\"M18.56 5.44l.94 2.06.94-2.06 2.06-.94-2.06-.94-.94-2.06-.94 2.06-2.06.94zm-11 1L8.5 8.5l.94-2.06 2.06-.94-2.06-.94L8.5 2.5l-.94 2.06-2.06.94zm10 10l.94 2.06.94-2.06 2.06-.94-2.06-.94-.94-2.06-.94 2.06-2.06.94z\"/><path d=\"M17.41 7.96l-1.37-1.37c-.4-.4-.92-.59-1.43-.59-.52 0-1.04.2-1.43.59L10.3 9.45l-7.72 7.72c-.78.78-.78 2.05 0 2.83L4 21.41c.39.39.9.59 1.41.59.51 0 1.02-.2 1.41-.59l7.78-7.78 2.81-2.81c.8-.78.8-2.07 0-2.86zM5.41 20L4 18.59l7.72-7.72 1.47 1.35L5.41 20z\"/>\n",
              "  </svg>\n",
              "      </button>\n",
              "      \n",
              "  <style>\n",
              "    .colab-df-container {\n",
              "      display:flex;\n",
              "      flex-wrap:wrap;\n",
              "      gap: 12px;\n",
              "    }\n",
              "\n",
              "    .colab-df-convert {\n",
              "      background-color: #E8F0FE;\n",
              "      border: none;\n",
              "      border-radius: 50%;\n",
              "      cursor: pointer;\n",
              "      display: none;\n",
              "      fill: #1967D2;\n",
              "      height: 32px;\n",
              "      padding: 0 0 0 0;\n",
              "      width: 32px;\n",
              "    }\n",
              "\n",
              "    .colab-df-convert:hover {\n",
              "      background-color: #E2EBFA;\n",
              "      box-shadow: 0px 1px 2px rgba(60, 64, 67, 0.3), 0px 1px 3px 1px rgba(60, 64, 67, 0.15);\n",
              "      fill: #174EA6;\n",
              "    }\n",
              "\n",
              "    [theme=dark] .colab-df-convert {\n",
              "      background-color: #3B4455;\n",
              "      fill: #D2E3FC;\n",
              "    }\n",
              "\n",
              "    [theme=dark] .colab-df-convert:hover {\n",
              "      background-color: #434B5C;\n",
              "      box-shadow: 0px 1px 3px 1px rgba(0, 0, 0, 0.15);\n",
              "      filter: drop-shadow(0px 1px 2px rgba(0, 0, 0, 0.3));\n",
              "      fill: #FFFFFF;\n",
              "    }\n",
              "  </style>\n",
              "\n",
              "      <script>\n",
              "        const buttonEl =\n",
              "          document.querySelector('#df-2ea97b36-4d0e-44c6-b651-9fbddb59026a button.colab-df-convert');\n",
              "        buttonEl.style.display =\n",
              "          google.colab.kernel.accessAllowed ? 'block' : 'none';\n",
              "\n",
              "        async function convertToInteractive(key) {\n",
              "          const element = document.querySelector('#df-2ea97b36-4d0e-44c6-b651-9fbddb59026a');\n",
              "          const dataTable =\n",
              "            await google.colab.kernel.invokeFunction('convertToInteractive',\n",
              "                                                     [key], {});\n",
              "          if (!dataTable) return;\n",
              "\n",
              "          const docLinkHtml = 'Like what you see? Visit the ' +\n",
              "            '<a target=\"_blank\" href=https://colab.research.google.com/notebooks/data_table.ipynb>data table notebook</a>'\n",
              "            + ' to learn more about interactive tables.';\n",
              "          element.innerHTML = '';\n",
              "          dataTable['output_type'] = 'display_data';\n",
              "          await google.colab.output.renderOutput(dataTable, element);\n",
              "          const docLink = document.createElement('div');\n",
              "          docLink.innerHTML = docLinkHtml;\n",
              "          element.appendChild(docLink);\n",
              "        }\n",
              "      </script>\n",
              "    </div>\n",
              "  </div>\n",
              "  "
            ]
          },
          "metadata": {},
          "execution_count": 70
        }
      ],
      "source": [
        "pre_processing(sample_input)"
      ]
    },
    {
      "cell_type": "code",
      "execution_count": 71,
      "metadata": {
        "id": "PxbFV8am2Wdr",
        "outputId": "85846fa6-90ff-42cc-f55e-a577daf9022d",
        "colab": {
          "base_uri": "https://localhost:8080/"
        }
      },
      "outputs": [
        {
          "output_type": "stream",
          "name": "stderr",
          "text": [
            "/usr/local/lib/python3.7/dist-packages/sklearn/base.py:444: UserWarning: X has feature names, but RandomForestClassifier was fitted without feature names\n",
            "  f\"X has feature names, but {self.__class__.__name__} was fitted without\"\n",
            "[Parallel(n_jobs=3)]: Using backend ThreadingBackend with 3 concurrent workers.\n",
            "[Parallel(n_jobs=3)]: Done  44 tasks      | elapsed:    0.0s\n",
            "[Parallel(n_jobs=3)]: Done 194 tasks      | elapsed:    0.0s\n",
            "[Parallel(n_jobs=3)]: Done 444 tasks      | elapsed:    0.1s\n",
            "[Parallel(n_jobs=3)]: Done 500 out of 500 | elapsed:    0.1s finished\n"
          ]
        },
        {
          "output_type": "execute_result",
          "data": {
            "text/plain": [
              "array([[0.144, 0.856],\n",
              "       [0.746, 0.254],\n",
              "       [0.016, 0.984],\n",
              "       [0.872, 0.128],\n",
              "       [0.418, 0.582],\n",
              "       [0.876, 0.124],\n",
              "       [0.864, 0.136],\n",
              "       [0.77 , 0.23 ],\n",
              "       [0.854, 0.146],\n",
              "       [0.134, 0.866]])"
            ]
          },
          "metadata": {},
          "execution_count": 71
        }
      ],
      "source": [
        "model.predict_proba(pre_processing(sample_input))"
      ]
    },
    {
      "cell_type": "markdown",
      "metadata": {
        "id": "_hMb7sVt2Wdr"
      },
      "source": [
        "# Score Function"
      ]
    },
    {
      "cell_type": "code",
      "execution_count": 72,
      "metadata": {
        "id": "WjF41C082Wdr"
      },
      "outputs": [],
      "source": [
        "def score(input_data, model):\n",
        "    return model.predict_proba(input_data)"
      ]
    },
    {
      "cell_type": "code",
      "execution_count": 73,
      "metadata": {
        "id": "l609gZr_2Wds",
        "outputId": "d4fe0525-d0a1-458b-c776-ba76466be52f",
        "colab": {
          "base_uri": "https://localhost:8080/"
        }
      },
      "outputs": [
        {
          "output_type": "stream",
          "name": "stderr",
          "text": [
            "/usr/local/lib/python3.7/dist-packages/sklearn/base.py:444: UserWarning: X has feature names, but RandomForestClassifier was fitted without feature names\n",
            "  f\"X has feature names, but {self.__class__.__name__} was fitted without\"\n",
            "[Parallel(n_jobs=3)]: Using backend ThreadingBackend with 3 concurrent workers.\n",
            "[Parallel(n_jobs=3)]: Done  44 tasks      | elapsed:    0.0s\n",
            "[Parallel(n_jobs=3)]: Done 194 tasks      | elapsed:    0.0s\n",
            "[Parallel(n_jobs=3)]: Done 444 tasks      | elapsed:    0.1s\n",
            "[Parallel(n_jobs=3)]: Done 500 out of 500 | elapsed:    0.1s finished\n"
          ]
        },
        {
          "output_type": "execute_result",
          "data": {
            "text/plain": [
              "array([[0.144, 0.856],\n",
              "       [0.746, 0.254],\n",
              "       [0.016, 0.984],\n",
              "       [0.872, 0.128],\n",
              "       [0.418, 0.582],\n",
              "       [0.876, 0.124],\n",
              "       [0.864, 0.136],\n",
              "       [0.77 , 0.23 ],\n",
              "       [0.854, 0.146],\n",
              "       [0.134, 0.866]])"
            ]
          },
          "metadata": {},
          "execution_count": 73
        }
      ],
      "source": [
        "prediction = score(input_data=pre_processing(sample_input), model=model)\n",
        "prediction"
      ]
    },
    {
      "cell_type": "markdown",
      "metadata": {
        "id": "UpnwceBe2Wds"
      },
      "source": [
        "# Post-processing Function for Prediction"
      ]
    },
    {
      "cell_type": "code",
      "execution_count": 74,
      "metadata": {
        "id": "gbzHzQKs2Wds"
      },
      "outputs": [],
      "source": [
        "def post_processing(prediction):\n",
        "    if len(prediction)==1:\n",
        "        return prediction[:, 1][0]\n",
        "    else:\n",
        "        return prediction[:, 1]"
      ]
    },
    {
      "cell_type": "code",
      "execution_count": 75,
      "metadata": {
        "id": "6UU_Ljzb2Wds",
        "outputId": "207771ff-0040-4fd0-864d-a44e657a048e",
        "colab": {
          "base_uri": "https://localhost:8080/"
        }
      },
      "outputs": [
        {
          "output_type": "stream",
          "name": "stderr",
          "text": [
            "/usr/local/lib/python3.7/dist-packages/sklearn/base.py:444: UserWarning: X has feature names, but RandomForestClassifier was fitted without feature names\n",
            "  f\"X has feature names, but {self.__class__.__name__} was fitted without\"\n",
            "[Parallel(n_jobs=3)]: Using backend ThreadingBackend with 3 concurrent workers.\n",
            "[Parallel(n_jobs=3)]: Done  44 tasks      | elapsed:    0.1s\n",
            "[Parallel(n_jobs=3)]: Done 194 tasks      | elapsed:    0.1s\n",
            "[Parallel(n_jobs=3)]: Done 444 tasks      | elapsed:    0.2s\n",
            "[Parallel(n_jobs=3)]: Done 500 out of 500 | elapsed:    0.2s finished\n"
          ]
        },
        {
          "output_type": "execute_result",
          "data": {
            "text/plain": [
              "array([0.856, 0.254, 0.984, 0.128, 0.582, 0.124, 0.136, 0.23 , 0.146,\n",
              "       0.866])"
            ]
          },
          "metadata": {},
          "execution_count": 75
        }
      ],
      "source": [
        "output = post_processing(score(input_data=pre_processing(sample_input), model=model))\n",
        "output"
      ]
    },
    {
      "cell_type": "code",
      "execution_count": 76,
      "metadata": {
        "id": "OA6zWjmm2Wdt",
        "outputId": "52bcb4db-b685-41b8-c1fd-ae78074129ce",
        "colab": {
          "base_uri": "https://localhost:8080/",
          "height": 484
        }
      },
      "outputs": [
        {
          "output_type": "stream",
          "name": "stderr",
          "text": [
            "/usr/local/lib/python3.7/dist-packages/sklearn/base.py:444: UserWarning: X has feature names, but RandomForestClassifier was fitted without feature names\n",
            "  f\"X has feature names, but {self.__class__.__name__} was fitted without\"\n",
            "[Parallel(n_jobs=3)]: Using backend ThreadingBackend with 3 concurrent workers.\n",
            "[Parallel(n_jobs=3)]: Done  44 tasks      | elapsed:    0.0s\n",
            "[Parallel(n_jobs=3)]: Done 194 tasks      | elapsed:    0.0s\n",
            "[Parallel(n_jobs=3)]: Done 444 tasks      | elapsed:    0.1s\n",
            "[Parallel(n_jobs=3)]: Done 500 out of 500 | elapsed:    0.1s finished\n"
          ]
        },
        {
          "output_type": "execute_result",
          "data": {
            "text/plain": [
              "    Age        BMI  Glucose  Insulin      HOMA   Leptin  Adiponectin  \\\n",
              "63   51  22.892820      103    2.740  0.696143   8.0163     9.349775   \n",
              "41   76  27.200000       94   14.070  3.262364  35.8910     9.346630   \n",
              "96   44  27.887617       99    9.208  2.248594  12.6757     5.478170   \n",
              "1    83  20.690495       92    3.115  0.706897   8.8438     5.429285   \n",
              "55   34  24.242424       92   21.699  4.924226  16.7353    21.823745   \n",
              "46   75  25.700000       94    8.079  1.873251  65.9260     3.741220   \n",
              "40   76  29.218408       83    5.376  1.100646  28.5620     7.369960   \n",
              "44   71  30.300000      102    8.340  2.098344  56.5020     8.130000   \n",
              "8    73  22.000000       97    3.350  0.801543   4.4700    10.358725   \n",
              "94   60  31.231410      131   30.130  9.736007  37.8430     8.404430   \n",
              "\n",
              "    Resistin    MCP.1  Classification  id  prediction  \n",
              "63  11.55492  359.232               2  64       0.856  \n",
              "41   8.41560  377.227               1  42       0.254  \n",
              "96  23.03306  407.206               2  97       0.984  \n",
              "1    4.06405  468.786               1   2       0.128  \n",
              "55  12.06534  481.949               2  56       0.582  \n",
              "46   4.49685  206.802               1  47       0.124  \n",
              "40   8.04375  698.789               1  41       0.136  \n",
              "44   4.29890  200.976               1  45       0.230  \n",
              "8    6.28445  136.855               1   9       0.146  \n",
              "94  11.50005  396.021               2  95       0.866  "
            ],
            "text/html": [
              "\n",
              "  <div id=\"df-e9110b55-2fcc-40d8-8efe-5bcd4b6e19a0\">\n",
              "    <div class=\"colab-df-container\">\n",
              "      <div>\n",
              "<style scoped>\n",
              "    .dataframe tbody tr th:only-of-type {\n",
              "        vertical-align: middle;\n",
              "    }\n",
              "\n",
              "    .dataframe tbody tr th {\n",
              "        vertical-align: top;\n",
              "    }\n",
              "\n",
              "    .dataframe thead th {\n",
              "        text-align: right;\n",
              "    }\n",
              "</style>\n",
              "<table border=\"1\" class=\"dataframe\">\n",
              "  <thead>\n",
              "    <tr style=\"text-align: right;\">\n",
              "      <th></th>\n",
              "      <th>Age</th>\n",
              "      <th>BMI</th>\n",
              "      <th>Glucose</th>\n",
              "      <th>Insulin</th>\n",
              "      <th>HOMA</th>\n",
              "      <th>Leptin</th>\n",
              "      <th>Adiponectin</th>\n",
              "      <th>Resistin</th>\n",
              "      <th>MCP.1</th>\n",
              "      <th>Classification</th>\n",
              "      <th>id</th>\n",
              "      <th>prediction</th>\n",
              "    </tr>\n",
              "  </thead>\n",
              "  <tbody>\n",
              "    <tr>\n",
              "      <th>63</th>\n",
              "      <td>51</td>\n",
              "      <td>22.892820</td>\n",
              "      <td>103</td>\n",
              "      <td>2.740</td>\n",
              "      <td>0.696143</td>\n",
              "      <td>8.0163</td>\n",
              "      <td>9.349775</td>\n",
              "      <td>11.55492</td>\n",
              "      <td>359.232</td>\n",
              "      <td>2</td>\n",
              "      <td>64</td>\n",
              "      <td>0.856</td>\n",
              "    </tr>\n",
              "    <tr>\n",
              "      <th>41</th>\n",
              "      <td>76</td>\n",
              "      <td>27.200000</td>\n",
              "      <td>94</td>\n",
              "      <td>14.070</td>\n",
              "      <td>3.262364</td>\n",
              "      <td>35.8910</td>\n",
              "      <td>9.346630</td>\n",
              "      <td>8.41560</td>\n",
              "      <td>377.227</td>\n",
              "      <td>1</td>\n",
              "      <td>42</td>\n",
              "      <td>0.254</td>\n",
              "    </tr>\n",
              "    <tr>\n",
              "      <th>96</th>\n",
              "      <td>44</td>\n",
              "      <td>27.887617</td>\n",
              "      <td>99</td>\n",
              "      <td>9.208</td>\n",
              "      <td>2.248594</td>\n",
              "      <td>12.6757</td>\n",
              "      <td>5.478170</td>\n",
              "      <td>23.03306</td>\n",
              "      <td>407.206</td>\n",
              "      <td>2</td>\n",
              "      <td>97</td>\n",
              "      <td>0.984</td>\n",
              "    </tr>\n",
              "    <tr>\n",
              "      <th>1</th>\n",
              "      <td>83</td>\n",
              "      <td>20.690495</td>\n",
              "      <td>92</td>\n",
              "      <td>3.115</td>\n",
              "      <td>0.706897</td>\n",
              "      <td>8.8438</td>\n",
              "      <td>5.429285</td>\n",
              "      <td>4.06405</td>\n",
              "      <td>468.786</td>\n",
              "      <td>1</td>\n",
              "      <td>2</td>\n",
              "      <td>0.128</td>\n",
              "    </tr>\n",
              "    <tr>\n",
              "      <th>55</th>\n",
              "      <td>34</td>\n",
              "      <td>24.242424</td>\n",
              "      <td>92</td>\n",
              "      <td>21.699</td>\n",
              "      <td>4.924226</td>\n",
              "      <td>16.7353</td>\n",
              "      <td>21.823745</td>\n",
              "      <td>12.06534</td>\n",
              "      <td>481.949</td>\n",
              "      <td>2</td>\n",
              "      <td>56</td>\n",
              "      <td>0.582</td>\n",
              "    </tr>\n",
              "    <tr>\n",
              "      <th>46</th>\n",
              "      <td>75</td>\n",
              "      <td>25.700000</td>\n",
              "      <td>94</td>\n",
              "      <td>8.079</td>\n",
              "      <td>1.873251</td>\n",
              "      <td>65.9260</td>\n",
              "      <td>3.741220</td>\n",
              "      <td>4.49685</td>\n",
              "      <td>206.802</td>\n",
              "      <td>1</td>\n",
              "      <td>47</td>\n",
              "      <td>0.124</td>\n",
              "    </tr>\n",
              "    <tr>\n",
              "      <th>40</th>\n",
              "      <td>76</td>\n",
              "      <td>29.218408</td>\n",
              "      <td>83</td>\n",
              "      <td>5.376</td>\n",
              "      <td>1.100646</td>\n",
              "      <td>28.5620</td>\n",
              "      <td>7.369960</td>\n",
              "      <td>8.04375</td>\n",
              "      <td>698.789</td>\n",
              "      <td>1</td>\n",
              "      <td>41</td>\n",
              "      <td>0.136</td>\n",
              "    </tr>\n",
              "    <tr>\n",
              "      <th>44</th>\n",
              "      <td>71</td>\n",
              "      <td>30.300000</td>\n",
              "      <td>102</td>\n",
              "      <td>8.340</td>\n",
              "      <td>2.098344</td>\n",
              "      <td>56.5020</td>\n",
              "      <td>8.130000</td>\n",
              "      <td>4.29890</td>\n",
              "      <td>200.976</td>\n",
              "      <td>1</td>\n",
              "      <td>45</td>\n",
              "      <td>0.230</td>\n",
              "    </tr>\n",
              "    <tr>\n",
              "      <th>8</th>\n",
              "      <td>73</td>\n",
              "      <td>22.000000</td>\n",
              "      <td>97</td>\n",
              "      <td>3.350</td>\n",
              "      <td>0.801543</td>\n",
              "      <td>4.4700</td>\n",
              "      <td>10.358725</td>\n",
              "      <td>6.28445</td>\n",
              "      <td>136.855</td>\n",
              "      <td>1</td>\n",
              "      <td>9</td>\n",
              "      <td>0.146</td>\n",
              "    </tr>\n",
              "    <tr>\n",
              "      <th>94</th>\n",
              "      <td>60</td>\n",
              "      <td>31.231410</td>\n",
              "      <td>131</td>\n",
              "      <td>30.130</td>\n",
              "      <td>9.736007</td>\n",
              "      <td>37.8430</td>\n",
              "      <td>8.404430</td>\n",
              "      <td>11.50005</td>\n",
              "      <td>396.021</td>\n",
              "      <td>2</td>\n",
              "      <td>95</td>\n",
              "      <td>0.866</td>\n",
              "    </tr>\n",
              "  </tbody>\n",
              "</table>\n",
              "</div>\n",
              "      <button class=\"colab-df-convert\" onclick=\"convertToInteractive('df-e9110b55-2fcc-40d8-8efe-5bcd4b6e19a0')\"\n",
              "              title=\"Convert this dataframe to an interactive table.\"\n",
              "              style=\"display:none;\">\n",
              "        \n",
              "  <svg xmlns=\"http://www.w3.org/2000/svg\" height=\"24px\"viewBox=\"0 0 24 24\"\n",
              "       width=\"24px\">\n",
              "    <path d=\"M0 0h24v24H0V0z\" fill=\"none\"/>\n",
              "    <path d=\"M18.56 5.44l.94 2.06.94-2.06 2.06-.94-2.06-.94-.94-2.06-.94 2.06-2.06.94zm-11 1L8.5 8.5l.94-2.06 2.06-.94-2.06-.94L8.5 2.5l-.94 2.06-2.06.94zm10 10l.94 2.06.94-2.06 2.06-.94-2.06-.94-.94-2.06-.94 2.06-2.06.94z\"/><path d=\"M17.41 7.96l-1.37-1.37c-.4-.4-.92-.59-1.43-.59-.52 0-1.04.2-1.43.59L10.3 9.45l-7.72 7.72c-.78.78-.78 2.05 0 2.83L4 21.41c.39.39.9.59 1.41.59.51 0 1.02-.2 1.41-.59l7.78-7.78 2.81-2.81c.8-.78.8-2.07 0-2.86zM5.41 20L4 18.59l7.72-7.72 1.47 1.35L5.41 20z\"/>\n",
              "  </svg>\n",
              "      </button>\n",
              "      \n",
              "  <style>\n",
              "    .colab-df-container {\n",
              "      display:flex;\n",
              "      flex-wrap:wrap;\n",
              "      gap: 12px;\n",
              "    }\n",
              "\n",
              "    .colab-df-convert {\n",
              "      background-color: #E8F0FE;\n",
              "      border: none;\n",
              "      border-radius: 50%;\n",
              "      cursor: pointer;\n",
              "      display: none;\n",
              "      fill: #1967D2;\n",
              "      height: 32px;\n",
              "      padding: 0 0 0 0;\n",
              "      width: 32px;\n",
              "    }\n",
              "\n",
              "    .colab-df-convert:hover {\n",
              "      background-color: #E2EBFA;\n",
              "      box-shadow: 0px 1px 2px rgba(60, 64, 67, 0.3), 0px 1px 3px 1px rgba(60, 64, 67, 0.15);\n",
              "      fill: #174EA6;\n",
              "    }\n",
              "\n",
              "    [theme=dark] .colab-df-convert {\n",
              "      background-color: #3B4455;\n",
              "      fill: #D2E3FC;\n",
              "    }\n",
              "\n",
              "    [theme=dark] .colab-df-convert:hover {\n",
              "      background-color: #434B5C;\n",
              "      box-shadow: 0px 1px 3px 1px rgba(0, 0, 0, 0.15);\n",
              "      filter: drop-shadow(0px 1px 2px rgba(0, 0, 0, 0.3));\n",
              "      fill: #FFFFFF;\n",
              "    }\n",
              "  </style>\n",
              "\n",
              "      <script>\n",
              "        const buttonEl =\n",
              "          document.querySelector('#df-e9110b55-2fcc-40d8-8efe-5bcd4b6e19a0 button.colab-df-convert');\n",
              "        buttonEl.style.display =\n",
              "          google.colab.kernel.accessAllowed ? 'block' : 'none';\n",
              "\n",
              "        async function convertToInteractive(key) {\n",
              "          const element = document.querySelector('#df-e9110b55-2fcc-40d8-8efe-5bcd4b6e19a0');\n",
              "          const dataTable =\n",
              "            await google.colab.kernel.invokeFunction('convertToInteractive',\n",
              "                                                     [key], {});\n",
              "          if (!dataTable) return;\n",
              "\n",
              "          const docLinkHtml = 'Like what you see? Visit the ' +\n",
              "            '<a target=\"_blank\" href=https://colab.research.google.com/notebooks/data_table.ipynb>data table notebook</a>'\n",
              "            + ' to learn more about interactive tables.';\n",
              "          element.innerHTML = '';\n",
              "          dataTable['output_type'] = 'display_data';\n",
              "          await google.colab.output.renderOutput(dataTable, element);\n",
              "          const docLink = document.createElement('div');\n",
              "          docLink.innerHTML = docLinkHtml;\n",
              "          element.appendChild(docLink);\n",
              "        }\n",
              "      </script>\n",
              "    </div>\n",
              "  </div>\n",
              "  "
            ]
          },
          "metadata": {},
          "execution_count": 76
        }
      ],
      "source": [
        "# Create new column in input dataset\n",
        "sample_input['prediction'] = post_processing(model.predict_proba(pre_processing(sample_input)))\n",
        "sample_input"
      ]
    },
    {
      "cell_type": "code",
      "execution_count": 77,
      "metadata": {
        "id": "6RXoP8QP2Wdt",
        "outputId": "f9aa994b-8fa6-49be-b600-d08f5cb30474",
        "colab": {
          "base_uri": "https://localhost:8080/"
        }
      },
      "outputs": [
        {
          "output_type": "stream",
          "name": "stderr",
          "text": [
            "/usr/local/lib/python3.7/dist-packages/sklearn/base.py:444: UserWarning: X has feature names, but RandomForestClassifier was fitted without feature names\n",
            "  f\"X has feature names, but {self.__class__.__name__} was fitted without\"\n",
            "[Parallel(n_jobs=3)]: Using backend ThreadingBackend with 3 concurrent workers.\n",
            "[Parallel(n_jobs=3)]: Done  44 tasks      | elapsed:    0.0s\n",
            "[Parallel(n_jobs=3)]: Done 194 tasks      | elapsed:    0.0s\n",
            "[Parallel(n_jobs=3)]: Done 444 tasks      | elapsed:    0.1s\n",
            "[Parallel(n_jobs=3)]: Done 500 out of 500 | elapsed:    0.1s finished\n"
          ]
        },
        {
          "output_type": "execute_result",
          "data": {
            "text/plain": [
              "array([0.856, 0.254, 0.984, 0.128, 0.582, 0.124, 0.136, 0.23 , 0.146,\n",
              "       0.866])"
            ]
          },
          "metadata": {},
          "execution_count": 77
        }
      ],
      "source": [
        "# Output value \n",
        "sample_output = post_processing(score(input_data=pre_processing(sample_input), model=model))\n",
        "sample_output"
      ]
    },
    {
      "cell_type": "markdown",
      "metadata": {
        "id": "Nr2-hYz02Wdt"
      },
      "source": [
        "# Prediction Function for Application (Inference Pipeline)"
      ]
    },
    {
      "cell_type": "code",
      "execution_count": 83,
      "metadata": {
        "id": "1UKjDBjl2Wdt"
      },
      "outputs": [],
      "source": [
        "def app_prediction_function(input_data, model):\n",
        "    return post_processing(score(input_data=pre_processing(input_data), model=model))"
      ]
    },
    {
      "cell_type": "code",
      "execution_count": 84,
      "metadata": {
        "id": "BNIiuIC-2Wdu",
        "outputId": "04893818-2d40-4022-d5be-74c51be6fc43",
        "colab": {
          "base_uri": "https://localhost:8080/"
        }
      },
      "outputs": [
        {
          "output_type": "stream",
          "name": "stdout",
          "text": [
            "   Age        BMI  Glucose  Insulin      HOMA  Leptin  Adiponectin  Resistin  \\\n",
            "1   83  20.690495       92    3.115  0.706897  8.8438     5.429285   4.06405   \n",
            "\n",
            "     MCP.1  Classification  \n",
            "1  468.786               1  \n"
          ]
        },
        {
          "output_type": "stream",
          "name": "stderr",
          "text": [
            "/usr/local/lib/python3.7/dist-packages/sklearn/base.py:444: UserWarning: X has feature names, but RandomForestClassifier was fitted without feature names\n",
            "  f\"X has feature names, but {self.__class__.__name__} was fitted without\"\n",
            "[Parallel(n_jobs=3)]: Using backend ThreadingBackend with 3 concurrent workers.\n",
            "[Parallel(n_jobs=3)]: Done  44 tasks      | elapsed:    0.0s\n",
            "[Parallel(n_jobs=3)]: Done 194 tasks      | elapsed:    0.1s\n",
            "[Parallel(n_jobs=3)]: Done 444 tasks      | elapsed:    0.1s\n",
            "[Parallel(n_jobs=3)]: Done 500 out of 500 | elapsed:    0.1s finished\n"
          ]
        },
        {
          "output_type": "execute_result",
          "data": {
            "text/plain": [
              "0.128"
            ]
          },
          "metadata": {},
          "execution_count": 84
        }
      ],
      "source": [
        "input_data = data[['Age',  'BMI', 'Glucose', 'Insulin', 'HOMA', 'Leptin', 'Adiponectin', 'Resistin', 'MCP.1', 'Classification']].sample(1)\n",
        "print(input_data)\n",
        "app_prediction_function(input_data, model)"
      ]
    },
    {
      "cell_type": "markdown",
      "metadata": {
        "id": "2zAqN6qn2Wdu"
      },
      "source": [
        "## Sample Input as dictionary"
      ]
    },
    {
      "cell_type": "code",
      "execution_count": 80,
      "metadata": {
        "id": "zBooOL3o2Wdu",
        "outputId": "33139521-b9bf-4b3f-88dd-9a36356d59f9",
        "colab": {
          "base_uri": "https://localhost:8080/"
        }
      },
      "outputs": [
        {
          "output_type": "execute_result",
          "data": {
            "text/plain": [
              "{'Adiponectin': 22.43204,\n",
              " 'Age': 82,\n",
              " 'BMI': 23.12467037,\n",
              " 'Classification': 1,\n",
              " 'Glucose': 91,\n",
              " 'HOMA': 1.009651067,\n",
              " 'Insulin': 4.498,\n",
              " 'Leptin': 17.9393,\n",
              " 'MCP.1': 554.697,\n",
              " 'Resistin': 9.27715,\n",
              " 'id': 3}"
            ]
          },
          "metadata": {},
          "execution_count": 80
        }
      ],
      "source": [
        "input_data = input_data.to_dict(orient='records')[0]\n",
        "input_data"
      ]
    },
    {
      "cell_type": "markdown",
      "metadata": {
        "id": "Wx77fg2M2Wdv"
      },
      "source": [
        "## Convert Input Data to DataFrame"
      ]
    },
    {
      "cell_type": "code",
      "execution_count": 81,
      "metadata": {
        "id": "8dJonugT2Wdv",
        "outputId": "1db61233-3a54-4588-84e3-23eff5de3c65",
        "colab": {
          "base_uri": "https://localhost:8080/",
          "height": 81
        }
      },
      "outputs": [
        {
          "output_type": "execute_result",
          "data": {
            "text/plain": [
              "   Age       BMI  Glucose  Insulin      HOMA   Leptin  Adiponectin  Resistin  \\\n",
              "0   82  23.12467       91    4.498  1.009651  17.9393     22.43204   9.27715   \n",
              "\n",
              "     MCP.1  Classification  id  \n",
              "0  554.697               1   3  "
            ],
            "text/html": [
              "\n",
              "  <div id=\"df-f555ae12-2555-45c6-926a-15f4fd153c8a\">\n",
              "    <div class=\"colab-df-container\">\n",
              "      <div>\n",
              "<style scoped>\n",
              "    .dataframe tbody tr th:only-of-type {\n",
              "        vertical-align: middle;\n",
              "    }\n",
              "\n",
              "    .dataframe tbody tr th {\n",
              "        vertical-align: top;\n",
              "    }\n",
              "\n",
              "    .dataframe thead th {\n",
              "        text-align: right;\n",
              "    }\n",
              "</style>\n",
              "<table border=\"1\" class=\"dataframe\">\n",
              "  <thead>\n",
              "    <tr style=\"text-align: right;\">\n",
              "      <th></th>\n",
              "      <th>Age</th>\n",
              "      <th>BMI</th>\n",
              "      <th>Glucose</th>\n",
              "      <th>Insulin</th>\n",
              "      <th>HOMA</th>\n",
              "      <th>Leptin</th>\n",
              "      <th>Adiponectin</th>\n",
              "      <th>Resistin</th>\n",
              "      <th>MCP.1</th>\n",
              "      <th>Classification</th>\n",
              "      <th>id</th>\n",
              "    </tr>\n",
              "  </thead>\n",
              "  <tbody>\n",
              "    <tr>\n",
              "      <th>0</th>\n",
              "      <td>82</td>\n",
              "      <td>23.12467</td>\n",
              "      <td>91</td>\n",
              "      <td>4.498</td>\n",
              "      <td>1.009651</td>\n",
              "      <td>17.9393</td>\n",
              "      <td>22.43204</td>\n",
              "      <td>9.27715</td>\n",
              "      <td>554.697</td>\n",
              "      <td>1</td>\n",
              "      <td>3</td>\n",
              "    </tr>\n",
              "  </tbody>\n",
              "</table>\n",
              "</div>\n",
              "      <button class=\"colab-df-convert\" onclick=\"convertToInteractive('df-f555ae12-2555-45c6-926a-15f4fd153c8a')\"\n",
              "              title=\"Convert this dataframe to an interactive table.\"\n",
              "              style=\"display:none;\">\n",
              "        \n",
              "  <svg xmlns=\"http://www.w3.org/2000/svg\" height=\"24px\"viewBox=\"0 0 24 24\"\n",
              "       width=\"24px\">\n",
              "    <path d=\"M0 0h24v24H0V0z\" fill=\"none\"/>\n",
              "    <path d=\"M18.56 5.44l.94 2.06.94-2.06 2.06-.94-2.06-.94-.94-2.06-.94 2.06-2.06.94zm-11 1L8.5 8.5l.94-2.06 2.06-.94-2.06-.94L8.5 2.5l-.94 2.06-2.06.94zm10 10l.94 2.06.94-2.06 2.06-.94-2.06-.94-.94-2.06-.94 2.06-2.06.94z\"/><path d=\"M17.41 7.96l-1.37-1.37c-.4-.4-.92-.59-1.43-.59-.52 0-1.04.2-1.43.59L10.3 9.45l-7.72 7.72c-.78.78-.78 2.05 0 2.83L4 21.41c.39.39.9.59 1.41.59.51 0 1.02-.2 1.41-.59l7.78-7.78 2.81-2.81c.8-.78.8-2.07 0-2.86zM5.41 20L4 18.59l7.72-7.72 1.47 1.35L5.41 20z\"/>\n",
              "  </svg>\n",
              "      </button>\n",
              "      \n",
              "  <style>\n",
              "    .colab-df-container {\n",
              "      display:flex;\n",
              "      flex-wrap:wrap;\n",
              "      gap: 12px;\n",
              "    }\n",
              "\n",
              "    .colab-df-convert {\n",
              "      background-color: #E8F0FE;\n",
              "      border: none;\n",
              "      border-radius: 50%;\n",
              "      cursor: pointer;\n",
              "      display: none;\n",
              "      fill: #1967D2;\n",
              "      height: 32px;\n",
              "      padding: 0 0 0 0;\n",
              "      width: 32px;\n",
              "    }\n",
              "\n",
              "    .colab-df-convert:hover {\n",
              "      background-color: #E2EBFA;\n",
              "      box-shadow: 0px 1px 2px rgba(60, 64, 67, 0.3), 0px 1px 3px 1px rgba(60, 64, 67, 0.15);\n",
              "      fill: #174EA6;\n",
              "    }\n",
              "\n",
              "    [theme=dark] .colab-df-convert {\n",
              "      background-color: #3B4455;\n",
              "      fill: #D2E3FC;\n",
              "    }\n",
              "\n",
              "    [theme=dark] .colab-df-convert:hover {\n",
              "      background-color: #434B5C;\n",
              "      box-shadow: 0px 1px 3px 1px rgba(0, 0, 0, 0.15);\n",
              "      filter: drop-shadow(0px 1px 2px rgba(0, 0, 0, 0.3));\n",
              "      fill: #FFFFFF;\n",
              "    }\n",
              "  </style>\n",
              "\n",
              "      <script>\n",
              "        const buttonEl =\n",
              "          document.querySelector('#df-f555ae12-2555-45c6-926a-15f4fd153c8a button.colab-df-convert');\n",
              "        buttonEl.style.display =\n",
              "          google.colab.kernel.accessAllowed ? 'block' : 'none';\n",
              "\n",
              "        async function convertToInteractive(key) {\n",
              "          const element = document.querySelector('#df-f555ae12-2555-45c6-926a-15f4fd153c8a');\n",
              "          const dataTable =\n",
              "            await google.colab.kernel.invokeFunction('convertToInteractive',\n",
              "                                                     [key], {});\n",
              "          if (!dataTable) return;\n",
              "\n",
              "          const docLinkHtml = 'Like what you see? Visit the ' +\n",
              "            '<a target=\"_blank\" href=https://colab.research.google.com/notebooks/data_table.ipynb>data table notebook</a>'\n",
              "            + ' to learn more about interactive tables.';\n",
              "          element.innerHTML = '';\n",
              "          dataTable['output_type'] = 'display_data';\n",
              "          await google.colab.output.renderOutput(dataTable, element);\n",
              "          const docLink = document.createElement('div');\n",
              "          docLink.innerHTML = docLinkHtml;\n",
              "          element.appendChild(docLink);\n",
              "        }\n",
              "      </script>\n",
              "    </div>\n",
              "  </div>\n",
              "  "
            ]
          },
          "metadata": {},
          "execution_count": 81
        }
      ],
      "source": [
        "input_data = pd.DataFrame([input_data])\n",
        "input_data"
      ]
    },
    {
      "cell_type": "markdown",
      "metadata": {
        "id": "yj6DbVKy2Wdv"
      },
      "source": [
        "## Get Prediction"
      ]
    },
    {
      "cell_type": "code",
      "execution_count": 82,
      "metadata": {
        "id": "YgVh6kLX2Wdv",
        "outputId": "41a3b108-4247-4dea-de1c-5afe89df09b1",
        "colab": {
          "base_uri": "https://localhost:8080/"
        }
      },
      "outputs": [
        {
          "output_type": "stream",
          "name": "stderr",
          "text": [
            "/usr/local/lib/python3.7/dist-packages/sklearn/base.py:444: UserWarning: X has feature names, but RandomForestClassifier was fitted without feature names\n",
            "  f\"X has feature names, but {self.__class__.__name__} was fitted without\"\n",
            "[Parallel(n_jobs=3)]: Using backend ThreadingBackend with 3 concurrent workers.\n",
            "[Parallel(n_jobs=3)]: Done  44 tasks      | elapsed:    0.0s\n",
            "[Parallel(n_jobs=3)]: Done 194 tasks      | elapsed:    0.0s\n",
            "[Parallel(n_jobs=3)]: Done 444 tasks      | elapsed:    0.1s\n",
            "[Parallel(n_jobs=3)]: Done 500 out of 500 | elapsed:    0.1s finished\n"
          ]
        },
        {
          "output_type": "execute_result",
          "data": {
            "text/plain": [
              "0.118"
            ]
          },
          "metadata": {},
          "execution_count": 82
        }
      ],
      "source": [
        "app_prediction_function(input_data, model)"
      ]
    },
    {
      "cell_type": "markdown",
      "metadata": {
        "id": "QViA_xLw2Wdv"
      },
      "source": [
        "<hr>\n",
        "Last update 2021-11-07 by Sumudu Tennakoon"
      ]
    }
  ],
  "metadata": {
    "@webio": {
      "lastCommId": null,
      "lastKernelId": null
    },
    "kernelspec": {
      "display_name": "Python 3",
      "language": "python",
      "name": "python3"
    },
    "language_info": {
      "codemirror_mode": {
        "name": "ipython",
        "version": 3
      },
      "file_extension": ".py",
      "mimetype": "text/x-python",
      "name": "python",
      "nbconvert_exporter": "python",
      "pygments_lexer": "ipython3",
      "version": "3.7.7"
    },
    "colab": {
      "name": "Cancer_Identification.ipynb",
      "provenance": [],
      "collapsed_sections": [
        "Cc9qXmXI2WdQ",
        "-BQ3lb-E2Wdb",
        "P9MV__4K2Wdc",
        "lLy5zh-B2Wdd",
        "BORIsw0A2Wde",
        "BS-WekYM2Wde",
        "hAwVwNlV2Wde",
        "6IyyrOKU2Wdf",
        "GW9krhbq2Wdm",
        "jKE_irfx2Wdn",
        "OByeJvKY2Wdp",
        "zEDdhzMr2Wdq",
        "_hMb7sVt2Wdr",
        "UpnwceBe2Wds",
        "Nr2-hYz02Wdt",
        "2zAqN6qn2Wdu",
        "Wx77fg2M2Wdv",
        "yj6DbVKy2Wdv"
      ]
    }
  },
  "nbformat": 4,
  "nbformat_minor": 0
}